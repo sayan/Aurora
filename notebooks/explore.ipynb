{
 "cells": [
  {
   "cell_type": "code",
   "execution_count": 2,
   "metadata": {},
   "outputs": [],
   "source": [
    "import os\n",
    "from pathlib import Path\n",
    "\n",
    "def build_nested_structure(root_path: Path):\n",
    "    \"\"\"\n",
    "    Recursively build a nested dictionary structure where each directory\n",
    "    is a key, and values are either more nested dicts or a list of .qmd files.\n",
    "    \"\"\"\n",
    "    structure = {}\n",
    "\n",
    "    # Find all .qmd files in root_path (recursively)\n",
    "    qmd_files = list(root_path.rglob(\"*.qmd\"))\n",
    "\n",
    "    for qmd_file in qmd_files[:10]:\n",
    "        if qmd_file.name == \"index.qmd\":\n",
    "            # Skip the index file itself if it exists\n",
    "            continue\n",
    "        \n",
    "        # relative_parts is the path split from the root\n",
    "        # e.g. classification/Decision_Trees/Decision_Trees_0.qmd => \n",
    "        #      (\"classification\", \"Decision_Trees\", \"Decision_Trees_0.qmd\")\n",
    "        relative_parts = qmd_file.relative_to(root_path).parts\n",
    "        \n",
    "        # Traverse the structure dictionary to create sub-dicts\n",
    "        current_level = structure\n",
    "        for part in relative_parts[:-1]:\n",
    "            if part not in current_level:\n",
    "                current_level[part] = {}\n",
    "            current_level = current_level[part]\n",
    "        \n",
    "        # The last part is the filename (e.g., \"Decision_Trees_0.qmd\")\n",
    "        filename = relative_parts[-1]\n",
    "        if \"_files\" not in current_level:\n",
    "            current_level[\"_files\"] = []\n",
    "        current_level[\"_files\"].append(filename)\n",
    "    \n",
    "    return structure"
   ]
  },
  {
   "cell_type": "code",
   "execution_count": 13,
   "metadata": {},
   "outputs": [],
   "source": [
    "def structure_to_markdown(structure: dict, parent_path: str = \"\", level: int = 2) -> str:\n",
    "    \"\"\"\n",
    "    Convert the nested dictionary `structure` into Quarto-flavored Markdown.\n",
    "    \n",
    "    :param structure: A dictionary where keys are subdirectories and\n",
    "                      _files is a list of QMD file names.\n",
    "    :param parent_path: The path (relative to the root) leading to the current level.\n",
    "    :param level: The Markdown heading level to use.\n",
    "    \"\"\"\n",
    "    md_lines = []\n",
    "    \n",
    "    # Sort directories so the output is consistent\n",
    "    directory_keys = sorted(k for k in structure.keys() if k != \"_files\")\n",
    "    \n",
    "    # If there are files at this level, list them under the current heading\n",
    "    if \"_files\" in structure:\n",
    "        # If parent_path is not empty, create a heading. \n",
    "        # You might want to skip heading for the top-most level if you prefer\n",
    "        if parent_path:\n",
    "            heading_title = os.path.basename(parent_path.rstrip(\"/\"))\n",
    "            md_lines.append(\"#\" * (level-2) + f\" {heading_title}\\n\")\n",
    "        \n",
    "        # List files\n",
    "        for fname in sorted(structure[\"_files\"]):\n",
    "            # The actual link in Markdown should point to the relative path\n",
    "            full_path = os.path.join(parent_path, fname)\n",
    "            # File name text without .qmd extension if you prefer\n",
    "            link_text = fname.replace(\".qmd\", \"\")\n",
    "            md_lines.append(f\"- [{link_text}]({full_path})\")\n",
    "        \n",
    "        md_lines.append(\"\")  # blank line after listing\n",
    "    \n",
    "    # Now, handle subdirectories\n",
    "    for dkey in directory_keys:\n",
    "        sub_path = os.path.join(parent_path, dkey)\n",
    "        \n",
    "        # Create a heading for this directory\n",
    "        # You can choose to put the heading before or after listing files above\n",
    "        md_lines.append(\"#\" * level + f\" {dkey}\\n\")\n",
    "        \n",
    "        # Recursively generate the sub-content, one heading level deeper\n",
    "        sub_content = structure_to_markdown(structure[dkey], parent_path=sub_path, level=level+1)\n",
    "        md_lines.append(sub_content)\n",
    "    \n",
    "    return \"\\n\".join(md_lines).strip()\n"
   ]
  },
  {
   "cell_type": "code",
   "execution_count": 14,
   "metadata": {},
   "outputs": [
    {
     "name": "stdout",
     "output_type": "stream",
     "text": [
      "### output\n",
      "\n",
      "#### quarto_content\n",
      "\n",
      "##### transformer_networks\n",
      "\n",
      "###### Training_dynamics__masking__batch_sizes__learning_rates_\n",
      "\n",
      "##### Training_dynamics__masking__batch_sizes__learning_rates_\n",
      "\n",
      "- [Training_dynamics__masking__batch_sizes__learning_rates__0](output/quarto_content/output/quarto_content/transformer_networks/Training_dynamics__masking__batch_sizes__learning_rates_/Training_dynamics__masking__batch_sizes__learning_rates__0.qmd)\n",
      "- [Training_dynamics__masking__batch_sizes__learning_rates__1](output/quarto_content/output/quarto_content/transformer_networks/Training_dynamics__masking__batch_sizes__learning_rates_/Training_dynamics__masking__batch_sizes__learning_rates__1.qmd)\n",
      "- [Training_dynamics__masking__batch_sizes__learning_rates__10](output/quarto_content/output/quarto_content/transformer_networks/Training_dynamics__masking__batch_sizes__learning_rates_/Training_dynamics__masking__batch_sizes__learning_rates__10.qmd)\n",
      "- [Training_dynamics__masking__batch_sizes__learning_rates__11](output/quarto_content/output/quarto_content/transformer_networks/Training_dynamics__masking__batch_sizes__learning_rates_/Training_dynamics__masking__batch_sizes__learning_rates__11.qmd)\n",
      "- [Training_dynamics__masking__batch_sizes__learning_rates__2](output/quarto_content/output/quarto_content/transformer_networks/Training_dynamics__masking__batch_sizes__learning_rates_/Training_dynamics__masking__batch_sizes__learning_rates__2.qmd)\n",
      "- [Training_dynamics__masking__batch_sizes__learning_rates__3](output/quarto_content/output/quarto_content/transformer_networks/Training_dynamics__masking__batch_sizes__learning_rates_/Training_dynamics__masking__batch_sizes__learning_rates__3.qmd)\n",
      "- [Training_dynamics__masking__batch_sizes__learning_rates__6](output/quarto_content/output/quarto_content/transformer_networks/Training_dynamics__masking__batch_sizes__learning_rates_/Training_dynamics__masking__batch_sizes__learning_rates__6.qmd)\n",
      "- [Training_dynamics__masking__batch_sizes__learning_rates__7](output/quarto_content/output/quarto_content/transformer_networks/Training_dynamics__masking__batch_sizes__learning_rates_/Training_dynamics__masking__batch_sizes__learning_rates__7.qmd)\n",
      "- [Training_dynamics__masking__batch_sizes__learning_rates__8](output/quarto_content/output/quarto_content/transformer_networks/Training_dynamics__masking__batch_sizes__learning_rates_/Training_dynamics__masking__batch_sizes__learning_rates__8.qmd)\n"
     ]
    }
   ],
   "source": [
    "print(structure_to_markdown(build_nested_structure(Path(\"/workspaces/codespaces-jupyter/\")), parent_path='output/quarto_content/', level=3))"
   ]
  },
  {
   "cell_type": "code",
   "execution_count": null,
   "metadata": {},
   "outputs": [],
   "source": []
  }
 ],
 "metadata": {
  "kernelspec": {
   "display_name": "Python 3",
   "language": "python",
   "name": "python3"
  },
  "language_info": {
   "codemirror_mode": {
    "name": "ipython",
    "version": 3
   },
   "file_extension": ".py",
   "mimetype": "text/x-python",
   "name": "python",
   "nbconvert_exporter": "python",
   "pygments_lexer": "ipython3",
   "version": "3.12.1"
  }
 },
 "nbformat": 4,
 "nbformat_minor": 2
}
