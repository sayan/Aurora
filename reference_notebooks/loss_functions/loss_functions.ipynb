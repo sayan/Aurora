{
 "cells": [
  {
   "cell_type": "markdown",
   "metadata": {},
   "source": [
    "## Loss Functions"
   ]
  },
  {
   "cell_type": "code",
   "execution_count": 74,
   "metadata": {},
   "outputs": [],
   "source": [
    "import torch\n",
    "from torch.nn import MSELoss, BCELoss, BCEWithLogitsLoss, CrossEntropyLoss, NLLLoss\n",
    "import torch.nn.functional as F"
   ]
  },
  {
   "cell_type": "code",
   "execution_count": 4,
   "metadata": {},
   "outputs": [
    {
     "name": "stdout",
     "output_type": "stream",
     "text": [
      "tensor(8.8984, dtype=torch.float16)\n",
      "tensor(8.8984, dtype=torch.float16)\n"
     ]
    }
   ],
   "source": [
    "## RMSE LOSS\n",
    "mse_loss = MSELoss()\n",
    "y_hat = torch.randint(0,10,(10,), dtype=torch.float16)\n",
    "y = torch.randint(0,10,(10,), dtype=torch.float16)\n",
    "print(mse_loss(y_hat,y))\n",
    "print(torch.mean((y_hat-y)**2))\n"
   ]
  },
  {
   "cell_type": "code",
   "execution_count": 67,
   "metadata": {},
   "outputs": [
    {
     "name": "stdout",
     "output_type": "stream",
     "text": [
      "Manually computed loss: 1.5414930582046509\n",
      "bce logit loss: 1.5414930582046509\n",
      "bce  loss: 1.5414930582046509\n"
     ]
    }
   ],
   "source": [
    "## BCE LOSS [2 classes, predicting for ONE ]\n",
    "bce_loss = BCELoss()\n",
    "bce_logit_loss = BCEWithLogitsLoss()\n",
    "batch_dim = 20\n",
    "logits = torch.distributions.normal.Normal(0,3).sample((batch_dim,))\n",
    "probs = F.sigmoid(logits)\n",
    "target = torch.distributions.Bernoulli(0.5).sample((batch_dim,))\n",
    "\n",
    "print(f\"Manually computed loss: {-torch.mean(target * torch.log(probs) + (1-target) * torch.log(1-probs))}\")\n",
    "print(f\"bce logit loss: {bce_logit_loss(logits, target)}\")\n",
    "print(f\"bce  loss: {bce_loss(probs, target)}\")\n",
    "\n"
   ]
  },
  {
   "cell_type": "code",
   "execution_count": 127,
   "metadata": {},
   "outputs": [
    {
     "name": "stdout",
     "output_type": "stream",
     "text": [
      "Manually calculated loss: 6.016842842102051\n"
     ]
    },
    {
     "data": {
      "text/plain": [
       "tensor(1.6839)"
      ]
     },
     "execution_count": 127,
     "metadata": {},
     "output_type": "execute_result"
    }
   ],
   "source": [
    "## Multiclass \n",
    "from sklearn.preprocessing import LabelEncoder\n",
    "import numpy as np\n",
    "\n",
    "taget_label_encoder = LabelEncoder()\n",
    "cross_entropy_loss = CrossEntropyLoss()\n",
    "nll_loss = NLLLoss()\n",
    "\n",
    "\n",
    "batch_dim = 100\n",
    "output_class = 5\n",
    "multiclass_logit = torch.distributions.normal.Normal(0,5).sample((batch_dim, output_class))\n",
    "multiclass_probs = F.softmax(multiclass_logit, dim=-1)\n",
    "\n",
    "multiclass_target_probs = torch.distributions.Uniform(0,1).sample((batch_dim, output_class))\n",
    "multiclass_target_probs = multiclass_target_probs/torch.sum(multiclass_target_probs, dim=-1, keepdim=True)\n",
    "\n",
    "manual_calculated_loss = torch.mean(-torch.sum(multiclass_target_probs * torch.log(multiclass_probs),dim=-1))\n",
    "print(f\"Manually calculated loss: {manual_calculated_loss}\")\n",
    "\n",
    "cross_entropy_loss(multiclass_probs, multiclass_target_probs)\n"
   ]
  },
  {
   "cell_type": "code",
   "execution_count": 121,
   "metadata": {},
   "outputs": [
    {
     "data": {
      "text/plain": [
       "tensor(15.3749)"
      ]
     },
     "execution_count": 121,
     "metadata": {},
     "output_type": "execute_result"
    }
   ],
   "source": [
    "manual_calculated_loss"
   ]
  },
  {
   "cell_type": "code",
   "execution_count": 111,
   "metadata": {},
   "outputs": [
    {
     "data": {
      "text/plain": [
       "(tensor([0.8666, 0.0529, 0.6594, 0.3782, 0.0596]),\n",
       " tensor([0.3078, 0.0021, 0.5725, 0.0051, 0.1124]))"
      ]
     },
     "execution_count": 111,
     "metadata": {},
     "output_type": "execute_result"
    }
   ],
   "source": [
    "multiclass_predicted_probs[0], multiclass_probs[0]"
   ]
  },
  {
   "cell_type": "code",
   "execution_count": 133,
   "metadata": {},
   "outputs": [
    {
     "name": "stdout",
     "output_type": "stream",
     "text": [
      "Cross Entropy Loss: 6.096521377563477\n",
      "NLL Loss: -0.19184499979019165\n"
     ]
    }
   ],
   "source": [
    "\n",
    "labels = np.random.choice(['apple', 'banana', 'guava', 'peer', 'orange'],batch_dim)\n",
    "labels_encoded = taget_label_encoder.fit_transform(labels)\n",
    "labels_tensor = torch.from_numpy(labels_encoded)\n",
    "\n",
    "\n",
    "print(f\"Cross Entropy Loss: {cross_entropy_loss(multiclass_logit, labels_tensor)}\")\n",
    "print(f\"NLL Loss: {nll_loss(multiclass_probs, labels_tensor)}\")\n"
   ]
  },
  {
   "cell_type": "code",
   "execution_count": 141,
   "metadata": {},
   "outputs": [
    {
     "data": {
      "text/plain": [
       "torch.Size([100, 1])"
      ]
     },
     "execution_count": 141,
     "metadata": {},
     "output_type": "execute_result"
    }
   ],
   "source": [
    "labels_tensor.unsqueeze(-1).shape"
   ]
  },
  {
   "cell_type": "code",
   "execution_count": 148,
   "metadata": {},
   "outputs": [
    {
     "data": {
      "text/plain": [
       "(tensor([[1.5734e-05, 8.7318e-01, 1.9978e-04, 1.1427e-07, 1.2661e-01],\n",
       "         [8.2024e-01, 4.2694e-03, 1.7478e-01, 7.1180e-04, 4.8543e-07],\n",
       "         [2.2922e-01, 2.7264e-03, 2.1522e-02, 7.4254e-01, 3.9927e-03],\n",
       "         [1.0611e-01, 1.5996e-01, 6.7737e-01, 4.2383e-02, 1.4183e-02],\n",
       "         [1.5916e-06, 3.7337e-05, 6.2795e-07, 5.4157e-03, 9.9454e-01]]),\n",
       " tensor([0, 4, 2, 4, 3]))"
      ]
     },
     "execution_count": 148,
     "metadata": {},
     "output_type": "execute_result"
    }
   ],
   "source": [
    "multiclass_probs[0:5], labels_tensor[0:5]"
   ]
  },
  {
   "cell_type": "code",
   "execution_count": 157,
   "metadata": {},
   "outputs": [
    {
     "name": "stdout",
     "output_type": "stream",
     "text": [
      "tensor([[1.5734e-05],\n",
      "        [4.8543e-07],\n",
      "        [2.1522e-02],\n",
      "        [1.4183e-02],\n",
      "        [5.4157e-03]])\n",
      "tensor([[1.5734e-05],\n",
      "        [1.5916e-06],\n",
      "        [2.2922e-01],\n",
      "        [1.5916e-06],\n",
      "        [1.0611e-01]])\n"
     ]
    },
    {
     "data": {
      "text/plain": [
       "tensor([[1.5734e-05, 8.7318e-01, 1.9978e-04, 1.1427e-07, 1.2661e-01],\n",
       "        [8.2024e-01, 4.2694e-03, 1.7478e-01, 7.1180e-04, 4.8543e-07],\n",
       "        [2.2922e-01, 2.7264e-03, 2.1522e-02, 7.4254e-01, 3.9927e-03],\n",
       "        [1.0611e-01, 1.5996e-01, 6.7737e-01, 4.2383e-02, 1.4183e-02],\n",
       "        [1.5916e-06, 3.7337e-05, 6.2795e-07, 5.4157e-03, 9.9454e-01]])"
      ]
     },
     "execution_count": 157,
     "metadata": {},
     "output_type": "execute_result"
    }
   ],
   "source": [
    "print(torch.gather(multiclass_probs, dim=1, index=labels_tensor.unsqueeze(-1))[:5])\n",
    "print(torch.gather(multiclass_probs, dim=0, index=labels_tensor.unsqueeze(-1))[:5])\n",
    "multiclass_probs[:5]"
   ]
  },
  {
   "cell_type": "code",
   "execution_count": 107,
   "metadata": {},
   "outputs": [
    {
     "data": {
      "text/plain": [
       "tensor(0.0458)"
      ]
     },
     "execution_count": 107,
     "metadata": {},
     "output_type": "execute_result"
    }
   ],
   "source": [
    "multiclass_probs[0][labels_tensor[0]]"
   ]
  },
  {
   "cell_type": "code",
   "execution_count": 131,
   "metadata": {},
   "outputs": [
    {
     "name": "stdout",
     "output_type": "stream",
     "text": [
      "tensor([[10, 30],\n",
      "        [50, 50]])\n"
     ]
    }
   ],
   "source": [
    "input_tensor = torch.tensor([[10, 20, 30], \n",
    "                             [40, 50, 60]])\n",
    "\n",
    "index_tensor = torch.tensor([[0, 2], \n",
    "                             [1, 1]])\n",
    "\n",
    "output = torch.gather(input_tensor, dim=1, index=index_tensor)\n",
    "print(output)"
   ]
  },
  {
   "cell_type": "code",
   "execution_count": 129,
   "metadata": {},
   "outputs": [
    {
     "data": {
      "text/plain": [
       "torch.Size([2, 3])"
      ]
     },
     "execution_count": 129,
     "metadata": {},
     "output_type": "execute_result"
    }
   ],
   "source": [
    "input_tensor.shape"
   ]
  },
  {
   "cell_type": "code",
   "execution_count": 132,
   "metadata": {},
   "outputs": [
    {
     "name": "stdout",
     "output_type": "stream",
     "text": [
      "tensor([[10, 20, 60],\n",
      "        [40, 20, 30]])\n"
     ]
    }
   ],
   "source": [
    "index_tensor = torch.tensor([[0, 0, 1], \n",
    "                             [1, 0, 0]])\n",
    "\n",
    "output = torch.gather(input_tensor, dim=0, index=index_tensor)\n",
    "print(output)"
   ]
  },
  {
   "cell_type": "code",
   "execution_count": 166,
   "metadata": {},
   "outputs": [
    {
     "data": {
      "text/plain": [
       "tensor([[19, 11, 13],\n",
       "        [ 3,  8,  5]])"
      ]
     },
     "execution_count": 166,
     "metadata": {},
     "output_type": "execute_result"
    }
   ],
   "source": [
    "a = torch.randint(0,20, (2,3))\n",
    "a"
   ]
  },
  {
   "cell_type": "code",
   "execution_count": null,
   "metadata": {},
   "outputs": [
    {
     "data": {
      "text/plain": [
       "tensor([[18],\n",
       "        [10]])"
      ]
     },
     "execution_count": 163,
     "metadata": {},
     "output_type": "execute_result"
    }
   ],
   "source": [
    "torch.gather(a, dim=0, index= torch.tensor([[2],[1]]))"
   ]
  },
  {
   "cell_type": "code",
   "execution_count": 174,
   "metadata": {},
   "outputs": [
    {
     "data": {
      "text/plain": [
       "tensor([[19],\n",
       "        [ 3]])"
      ]
     },
     "execution_count": 174,
     "metadata": {},
     "output_type": "execute_result"
    }
   ],
   "source": [
    "torch.gather(a, dim=1, index=torch.tensor([[0],[0]]))"
   ]
  },
  {
   "cell_type": "code",
   "execution_count": 179,
   "metadata": {},
   "outputs": [
    {
     "name": "stdout",
     "output_type": "stream",
     "text": [
      "tensor([[19, 11, 13],\n",
      "        [ 3,  8,  5]])\n"
     ]
    },
    {
     "data": {
      "text/plain": [
       "tensor([[19],\n",
       "        [19],\n",
       "        [19]])"
      ]
     },
     "execution_count": 179,
     "metadata": {},
     "output_type": "execute_result"
    }
   ],
   "source": [
    "print(a)\n",
    "torch.gather(a, dim=0, index=torch.tensor([[0],[0],[0]]))"
   ]
  },
  {
   "cell_type": "code",
   "execution_count": 183,
   "metadata": {},
   "outputs": [
    {
     "data": {
      "text/plain": [
       "tensor([[19, 11, 13],\n",
       "        [ 3,  8,  5]])"
      ]
     },
     "execution_count": 183,
     "metadata": {},
     "output_type": "execute_result"
    }
   ],
   "source": [
    "a"
   ]
  },
  {
   "cell_type": "code",
   "execution_count": 189,
   "metadata": {},
   "outputs": [
    {
     "data": {
      "text/plain": [
       "tensor([[19, 11],\n",
       "        [ 3,  8]])"
      ]
     },
     "execution_count": 189,
     "metadata": {},
     "output_type": "execute_result"
    }
   ],
   "source": [
    "torch.gather(a, dim=0, index=torch.tensor([[0,0],[1,1]]))"
   ]
  },
  {
   "cell_type": "code",
   "execution_count": 191,
   "metadata": {},
   "outputs": [
    {
     "name": "stdout",
     "output_type": "stream",
     "text": [
      "torch.Size([3, 4])\n"
     ]
    },
    {
     "data": {
      "text/plain": [
       "tensor([[19, 11,  7, 11],\n",
       "        [ 7,  0,  6,  9],\n",
       "        [10,  9,  5,  4]])"
      ]
     },
     "execution_count": 191,
     "metadata": {},
     "output_type": "execute_result"
    }
   ],
   "source": [
    "input_tensor = torch.randint(0,20, (3,4))\n",
    "print(input_tensor.shape)\n",
    "input_tensor"
   ]
  },
  {
   "cell_type": "code",
   "execution_count": null,
   "metadata": {},
   "outputs": [
    {
     "data": {
      "text/plain": [
       "tensor([[2, 1, 0, 1],\n",
       "        [0, 0, 0, 0]])"
      ]
     },
     "execution_count": 207,
     "metadata": {},
     "output_type": "execute_result"
    }
   ],
   "source": [
    "\n",
    "index_tensor_along_dim_0"
   ]
  },
  {
   "cell_type": "code",
   "execution_count": 208,
   "metadata": {},
   "outputs": [
    {
     "data": {
      "text/plain": [
       "tensor([[10,  0,  7,  9],\n",
       "        [19, 11,  7, 11]])"
      ]
     },
     "execution_count": 208,
     "metadata": {},
     "output_type": "execute_result"
    }
   ],
   "source": [
    "torch.gather(input_tensor, dim=0, index=index_tensor_along_dim_0)"
   ]
  },
  {
   "cell_type": "code",
   "execution_count": 210,
   "metadata": {},
   "outputs": [],
   "source": [
    "index_tensor_along_dim_1 = torch.tensor([[0,2,1,0,0]])"
   ]
  },
  {
   "cell_type": "code",
   "execution_count": 211,
   "metadata": {},
   "outputs": [
    {
     "data": {
      "text/plain": [
       "tensor([[19,  7, 11, 19, 19]])"
      ]
     },
     "execution_count": 211,
     "metadata": {},
     "output_type": "execute_result"
    }
   ],
   "source": [
    "torch.gather(input_tensor, dim=1, index=index_tensor_along_dim_1)"
   ]
  },
  {
   "cell_type": "code",
   "execution_count": 219,
   "metadata": {},
   "outputs": [
    {
     "data": {
      "text/plain": [
       "tensor([[19,  0],\n",
       "        [ 7,  9],\n",
       "        [10, 11],\n",
       "        [19,  0]])"
      ]
     },
     "execution_count": 219,
     "metadata": {},
     "output_type": "execute_result"
    }
   ],
   "source": [
    "index_tensor_along_dim_0 = torch.tensor([[0,1],[1,2],[2,0],[0,1]])\n",
    "torch.gather(input_tensor, dim=0, index=index_tensor_along_dim_0)"
   ]
  },
  {
   "cell_type": "code",
   "execution_count": 217,
   "metadata": {},
   "outputs": [
    {
     "data": {
      "text/plain": [
       "tensor([[19, 11,  7, 11],\n",
       "        [ 7,  0,  6,  9],\n",
       "        [10,  9,  5,  4]])"
      ]
     },
     "execution_count": 217,
     "metadata": {},
     "output_type": "execute_result"
    }
   ],
   "source": [
    "input_tensor"
   ]
  },
  {
   "cell_type": "code",
   "execution_count": null,
   "metadata": {},
   "outputs": [],
   "source": []
  }
 ],
 "metadata": {
  "kernelspec": {
   "display_name": "Aurora",
   "language": "python",
   "name": "python3"
  },
  "language_info": {
   "codemirror_mode": {
    "name": "ipython",
    "version": 3
   },
   "file_extension": ".py",
   "mimetype": "text/x-python",
   "name": "python",
   "nbconvert_exporter": "python",
   "pygments_lexer": "ipython3",
   "version": "3.12.3"
  }
 },
 "nbformat": 4,
 "nbformat_minor": 2
}
