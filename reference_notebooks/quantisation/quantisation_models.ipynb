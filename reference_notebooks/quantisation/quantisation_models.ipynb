{
 "cells": [
  {
   "cell_type": "code",
   "execution_count": 1,
   "metadata": {},
   "outputs": [],
   "source": [
    "import torch\n",
    "from transformers import AutoModel, AutoTokenizer"
   ]
  },
  {
   "cell_type": "code",
   "execution_count": 3,
   "metadata": {},
   "outputs": [],
   "source": [
    "import torch\n",
    "import torch.nn as nn\n",
    "import requests\n",
    "from PIL import Image\n",
    "\n",
    "import warnings\n",
    "# Ignore specific UserWarnings related to max_length in transformers\n",
    "warnings.filterwarnings(\"ignore\", \n",
    "    message=\".*Using the model-agnostic default `max_length`.*\")\n",
    "\n",
    "class DummyModel(nn.Module):\n",
    "  \"\"\"\n",
    "  A dummy model that consists of an embedding layer\n",
    "  with two blocks of a linear layer followed by a layer\n",
    "  norm layer.\n",
    "  \"\"\"\n",
    "  def __init__(self):\n",
    "    super().__init__()\n",
    "\n",
    "    torch.manual_seed(123)\n",
    "\n",
    "    self.token_embedding = nn.Embedding(2, 2)\n",
    "\n",
    "    # Block 1\n",
    "    self.linear_1 = nn.Linear(2, 2)\n",
    "    self.layernorm_1 = nn.LayerNorm(2)\n",
    "\n",
    "    # Block 2\n",
    "    self.linear_2 = nn.Linear(2, 2)\n",
    "    self.layernorm_2 = nn.LayerNorm(2)\n",
    "\n",
    "    self.head = nn.Linear(2, 2)\n",
    "\n",
    "  def forward(self, x):\n",
    "    hidden_states = self.token_embedding(x)\n",
    "\n",
    "    # Block 1\n",
    "    hidden_states = self.linear_1(hidden_states)\n",
    "    hidden_states = self.layernorm_1(hidden_states)\n",
    "\n",
    "    # Block 2\n",
    "    hidden_states = self.linear_2(hidden_states)\n",
    "    hidden_states = self.layernorm_2(hidden_states)\n",
    "\n",
    "    logits = self.head(hidden_states)\n",
    "    return logits\n",
    "\n",
    "\n",
    "def get_generation(model, processor, image, dtype):\n",
    "  inputs = processor(image, return_tensors=\"pt\").to(dtype)\n",
    "  out = model.generate(**inputs)\n",
    "  return processor.decode(out[0], skip_special_tokens=True)\n",
    "\n",
    "\n",
    "def load_image(img_url):\n",
    "    image = Image.open(requests.get(\n",
    "        img_url, stream=True).raw).convert('RGB')\n",
    "\n",
    "    return image\n",
    "\n"
   ]
  },
  {
   "cell_type": "code",
   "execution_count": 6,
   "metadata": {},
   "outputs": [],
   "source": [
    "dummymodel = DummyModel()"
   ]
  },
  {
   "cell_type": "code",
   "execution_count": 7,
   "metadata": {},
   "outputs": [
    {
     "data": {
      "text/plain": [
       "DummyModel(\n",
       "  (token_embedding): Embedding(2, 2)\n",
       "  (linear_1): Linear(in_features=2, out_features=2, bias=True)\n",
       "  (layernorm_1): LayerNorm((2,), eps=1e-05, elementwise_affine=True)\n",
       "  (linear_2): Linear(in_features=2, out_features=2, bias=True)\n",
       "  (layernorm_2): LayerNorm((2,), eps=1e-05, elementwise_affine=True)\n",
       "  (head): Linear(in_features=2, out_features=2, bias=True)\n",
       ")"
      ]
     },
     "execution_count": 7,
     "metadata": {},
     "output_type": "execute_result"
    }
   ],
   "source": [
    "dummymodel"
   ]
  },
  {
   "cell_type": "code",
   "execution_count": 9,
   "metadata": {},
   "outputs": [
    {
     "name": "stdout",
     "output_type": "stream",
     "text": [
      "In layer token_embedding.weight: Dtype: torch.float32\n",
      "In layer linear_1.weight: Dtype: torch.float32\n",
      "In layer linear_1.bias: Dtype: torch.float32\n",
      "In layer layernorm_1.weight: Dtype: torch.float32\n",
      "In layer layernorm_1.bias: Dtype: torch.float32\n",
      "In layer linear_2.weight: Dtype: torch.float32\n",
      "In layer linear_2.bias: Dtype: torch.float32\n",
      "In layer layernorm_2.weight: Dtype: torch.float32\n",
      "In layer layernorm_2.bias: Dtype: torch.float32\n",
      "In layer head.weight: Dtype: torch.float32\n",
      "In layer head.bias: Dtype: torch.float32\n"
     ]
    }
   ],
   "source": [
    "for k, v in dummymodel.named_parameters():\n",
    "    print(f\"In layer {k}: Dtype: {v.dtype}\")"
   ]
  },
  {
   "cell_type": "code",
   "execution_count": 12,
   "metadata": {},
   "outputs": [
    {
     "name": "stdout",
     "output_type": "stream",
     "text": [
      "In layer token_embedding.weight: Dtype: torch.float16\n",
      "In layer linear_1.weight: Dtype: torch.float16\n",
      "In layer linear_1.bias: Dtype: torch.float16\n",
      "In layer layernorm_1.weight: Dtype: torch.float16\n",
      "In layer layernorm_1.bias: Dtype: torch.float16\n",
      "In layer linear_2.weight: Dtype: torch.float16\n",
      "In layer linear_2.bias: Dtype: torch.float16\n",
      "In layer layernorm_2.weight: Dtype: torch.float16\n",
      "In layer layernorm_2.bias: Dtype: torch.float16\n",
      "In layer head.weight: Dtype: torch.float16\n",
      "In layer head.bias: Dtype: torch.float16\n"
     ]
    }
   ],
   "source": [
    "model_fp_16 = DummyModel().to(torch.float16)\n",
    "for k, v in model_fp_16.named_parameters():\n",
    "    print(f\"In layer {k}: Dtype: {v.dtype}\")"
   ]
  },
  {
   "cell_type": "code",
   "execution_count": 13,
   "metadata": {},
   "outputs": [],
   "source": [
    "dummy_input = torch.LongTensor([[1,0],[0,1]])"
   ]
  },
  {
   "cell_type": "code",
   "execution_count": 14,
   "metadata": {},
   "outputs": [
    {
     "data": {
      "text/plain": [
       "tensor([[[-0.6872,  0.7132],\n",
       "         [-0.6872,  0.7132]],\n",
       "\n",
       "        [[-0.6872,  0.7132],\n",
       "         [-0.6872,  0.7132]]], grad_fn=<ViewBackward0>)"
      ]
     },
     "execution_count": 14,
     "metadata": {},
     "output_type": "execute_result"
    }
   ],
   "source": [
    "dummymodel(dummy_input)"
   ]
  },
  {
   "cell_type": "code",
   "execution_count": 15,
   "metadata": {},
   "outputs": [
    {
     "data": {
      "text/plain": [
       "tensor([[[-0.6870,  0.7134],\n",
       "         [-0.6870,  0.7134]],\n",
       "\n",
       "        [[-0.6870,  0.7134],\n",
       "         [-0.6870,  0.7134]]], dtype=torch.float16, grad_fn=<ViewBackward0>)"
      ]
     },
     "execution_count": 15,
     "metadata": {},
     "output_type": "execute_result"
    }
   ],
   "source": [
    "model_fp_16(dummy_input)"
   ]
  },
  {
   "cell_type": "code",
   "execution_count": 18,
   "metadata": {},
   "outputs": [],
   "source": [
    "# float 16\n",
    "model_fp16 = DummyModel().half()\n",
    "my_input = torch.LongTensor([[1, 0], [0, 1]])\n",
    "logits_fp16 = model_fp16(dummy_input)"
   ]
  },
  {
   "cell_type": "code",
   "execution_count": 19,
   "metadata": {},
   "outputs": [
    {
     "data": {
      "text/plain": [
       "tensor([[[-0.6870,  0.7134],\n",
       "         [-0.6870,  0.7134]],\n",
       "\n",
       "        [[-0.6870,  0.7134],\n",
       "         [-0.6870,  0.7134]]], dtype=torch.float16, grad_fn=<ViewBackward0>)"
      ]
     },
     "execution_count": 19,
     "metadata": {},
     "output_type": "execute_result"
    }
   ],
   "source": [
    "logits_fp16"
   ]
  },
  {
   "cell_type": "code",
   "execution_count": null,
   "metadata": {},
   "outputs": [],
   "source": []
  }
 ],
 "metadata": {
  "kernelspec": {
   "display_name": "Aurora",
   "language": "python",
   "name": "python3"
  },
  "language_info": {
   "codemirror_mode": {
    "name": "ipython",
    "version": 3
   },
   "file_extension": ".py",
   "mimetype": "text/x-python",
   "name": "python",
   "nbconvert_exporter": "python",
   "pygments_lexer": "ipython3",
   "version": "3.12.3"
  }
 },
 "nbformat": 4,
 "nbformat_minor": 2
}
