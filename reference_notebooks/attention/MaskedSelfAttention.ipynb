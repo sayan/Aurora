{
 "cells": [
  {
   "cell_type": "markdown",
   "metadata": {},
   "source": [
    "## Masked Self Attention\n",
    "\n",
    "In this notebook, we will implement a basic version of masked self attenton from scratch, using pytorch. "
   ]
  },
  {
   "cell_type": "code",
   "execution_count": 26,
   "metadata": {},
   "outputs": [],
   "source": [
    "import torch\n",
    "import torch.nn as nn\n",
    "import torch.nn.functional as F\n",
    "import math"
   ]
  },
  {
   "cell_type": "code",
   "execution_count": null,
   "metadata": {},
   "outputs": [
    {
     "name": "stdout",
     "output_type": "stream",
     "text": [
      "Embedding Dimension : 10\n"
     ]
    }
   ],
   "source": [
    " "
   ]
  },
  {
   "cell_type": "code",
   "execution_count": 46,
   "metadata": {},
   "outputs": [],
   "source": [
    "input_sample = torch.randn((3,5,10))\n",
    "mask =torch.tril(torch.ones(5,5)) == 0\n"
   ]
  },
  {
   "cell_type": "code",
   "execution_count": 47,
   "metadata": {},
   "outputs": [
    {
     "name": "stdout",
     "output_type": "stream",
     "text": [
      "Attention Probs: \n",
      " tensor([[[1.0000, 0.0000, 0.0000, 0.0000, 0.0000],\n",
      "         [0.4948, 0.5052, 0.0000, 0.0000, 0.0000],\n",
      "         [0.3423, 0.2781, 0.3796, 0.0000, 0.0000],\n",
      "         [0.2747, 0.2630, 0.1643, 0.2979, 0.0000],\n",
      "         [0.1928, 0.2170, 0.2338, 0.1868, 0.1697]],\n",
      "\n",
      "        [[1.0000, 0.0000, 0.0000, 0.0000, 0.0000],\n",
      "         [0.4640, 0.5360, 0.0000, 0.0000, 0.0000],\n",
      "         [0.3078, 0.3715, 0.3207, 0.0000, 0.0000],\n",
      "         [0.3060, 0.2291, 0.1101, 0.3548, 0.0000],\n",
      "         [0.1566, 0.1602, 0.2754, 0.1958, 0.2121]],\n",
      "\n",
      "        [[1.0000, 0.0000, 0.0000, 0.0000, 0.0000],\n",
      "         [0.3801, 0.6199, 0.0000, 0.0000, 0.0000],\n",
      "         [0.4611, 0.3530, 0.1858, 0.0000, 0.0000],\n",
      "         [0.1235, 0.1680, 0.5503, 0.1582, 0.0000],\n",
      "         [0.1921, 0.1938, 0.1157, 0.3921, 0.1062]]],\n",
      "       grad_fn=<SoftmaxBackward0>)\n"
     ]
    }
   ],
   "source": [
    "out = maskedSelfAttention(input_sample, mask)"
   ]
  },
  {
   "cell_type": "code",
   "execution_count": 44,
   "metadata": {},
   "outputs": [
    {
     "data": {
      "text/plain": [
       "torch.Size([3, 5, 10])"
      ]
     },
     "execution_count": 44,
     "metadata": {},
     "output_type": "execute_result"
    }
   ],
   "source": [
    "out.shape"
   ]
  },
  {
   "cell_type": "code",
   "execution_count": 65,
   "metadata": {},
   "outputs": [],
   "source": [
    "a = torch.tril(torch.randint(5, 15, (5,5)), diagonal=0)"
   ]
  },
  {
   "cell_type": "code",
   "execution_count": 83,
   "metadata": {},
   "outputs": [
    {
     "data": {
      "text/plain": [
       "tensor([[9.7376e-01, 6.5611e-03, 6.5611e-03, 6.5611e-03, 6.5611e-03],\n",
       "        [9.9751e-01, 2.4726e-03, 6.1289e-06, 6.1289e-06, 6.1289e-06],\n",
       "        [4.2220e-01, 1.5532e-01, 4.2220e-01, 1.4163e-04, 1.4163e-04],\n",
       "        [4.7108e-02, 9.4620e-01, 3.1741e-04, 6.3754e-03, 7.8679e-07],\n",
       "        [6.6504e-03, 3.6310e-01, 1.3358e-01, 3.6310e-01, 1.3358e-01]])"
      ]
     },
     "execution_count": 83,
     "metadata": {},
     "output_type": "execute_result"
    }
   ],
   "source": [
    "import numpy as np\n",
    "mask = a == 0\n",
    "torch.softmax(a.masked_fill(mask, value=1e-15).type(torch.float),dim=-1)"
   ]
  },
  {
   "cell_type": "code",
   "execution_count": null,
   "metadata": {},
   "outputs": [],
   "source": []
  }
 ],
 "metadata": {
  "kernelspec": {
   "display_name": "Aurora",
   "language": "python",
   "name": "python3"
  },
  "language_info": {
   "codemirror_mode": {
    "name": "ipython",
    "version": 3
   },
   "file_extension": ".py",
   "mimetype": "text/x-python",
   "name": "python",
   "nbconvert_exporter": "python",
   "pygments_lexer": "ipython3",
   "version": "3.12.3"
  }
 },
 "nbformat": 4,
 "nbformat_minor": 2
}
