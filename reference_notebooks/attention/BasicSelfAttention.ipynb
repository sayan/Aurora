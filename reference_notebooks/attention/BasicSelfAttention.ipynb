{
 "cells": [
  {
   "cell_type": "markdown",
   "metadata": {},
   "source": [
    "## Basic Self Attention Mechanism\n",
    "In this notebook implements to most basic self attention mechanism. "
   ]
  },
  {
   "cell_type": "code",
   "execution_count": 16,
   "metadata": {},
   "outputs": [],
   "source": [
    "import torch\n",
    "import torch.nn as nn\n",
    "import torch.nn.functional as F\n",
    "import math"
   ]
  },
  {
   "cell_type": "code",
   "execution_count": 13,
   "metadata": {},
   "outputs": [],
   "source": [
    "class BasicSelfAttention(nn.Module):\n",
    "    def __init__(self, d_model):\n",
    "        super().__init__()\n",
    "        self.d_model = d_model\n",
    "        self.query_proj = nn.Linear(d_model, d_model)\n",
    "        self.key_proj = nn.Linear(d_model, d_model)\n",
    "        self.value_proj = nn.Linear(d_model, d_model)\n",
    "\n",
    "    def forward(self,x):\n",
    "        ## x is of dimension (batch_size, seq_len, d_model)\n",
    "        query_projected = self.query_proj(x) ## dim (batch_size, seq_len, d_model)\n",
    "        key_projected = self.key_proj(x) ## dim (batch_size, seq_len, d_model)\n",
    "        value_projected = self.value_proj(x) ## dim (batch_size, seq_len, d_model)\n",
    "\n",
    "        ## do the logits and softax \n",
    "        ## We would also need the dimension of key matrix, in self attention (not multihead attention it is same as d_model)\n",
    "        dim_k = float(key_projected.size()[-1])\n",
    "        attention_logits = query_projected @ key_projected.transpose(-2,-1) ## dim (batch_size, seq_len, seq_len)\n",
    "        attention_probs = torch.softmax(attention_logits/math.sqrt(dim_k), dim=-1) ## (batch_size, seq_len, seq_len)\n",
    "        attention_score = attention_probs @ value_projected ## (batch_size, seq_len, d_model)\n",
    "        return(attention_score)\n",
    "\n",
    "\n",
    "basicSelfAttention = BasicSelfAttention(d_model=10)\n",
    "\n"
   ]
  },
  {
   "cell_type": "code",
   "execution_count": 14,
   "metadata": {},
   "outputs": [],
   "source": [
    "input_sample = torch.randn((3,5,10))\n",
    "out = basicSelfAttention(input_sample)"
   ]
  },
  {
   "cell_type": "code",
   "execution_count": null,
   "metadata": {},
   "outputs": [],
   "source": []
  }
 ],
 "metadata": {
  "kernelspec": {
   "display_name": "Aurora",
   "language": "python",
   "name": "python3"
  },
  "language_info": {
   "codemirror_mode": {
    "name": "ipython",
    "version": 3
   },
   "file_extension": ".py",
   "mimetype": "text/x-python",
   "name": "python",
   "nbconvert_exporter": "python",
   "pygments_lexer": "ipython3",
   "version": "3.12.3"
  }
 },
 "nbformat": 4,
 "nbformat_minor": 2
}
