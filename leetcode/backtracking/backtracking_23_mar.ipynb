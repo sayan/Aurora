{
 "cells": [
  {
   "cell_type": "code",
   "execution_count": 1,
   "metadata": {},
   "outputs": [],
   "source": [
    "from typing import Optional, List, Tuple\n",
    "from collections import Counter, deque\n",
    "from functools import reduce\n",
    "from operator import itemgetter"
   ]
  },
  {
   "cell_type": "code",
   "execution_count": 2,
   "metadata": {},
   "outputs": [],
   "source": [
    "# Subsets\n",
    "# Solved \n",
    "# Given an array nums of unique integers, return all possible subsets of nums.\n",
    "\n",
    "# The solution set must not contain duplicate subsets. You may return the solution in any order.\n",
    "\n",
    "# Example 1:\n",
    "\n",
    "# Input: nums = [1,2,3]\n",
    "\n",
    "# Output: [[],[1],[2],[1,2],[3],[1,3],[2,3],[1,2,3]]\n",
    "# Example 2:\n",
    "\n",
    "# Input: nums = [7]\n",
    "\n",
    "# Output: [[],[7]]"
   ]
  },
  {
   "cell_type": "code",
   "execution_count": 32,
   "metadata": {},
   "outputs": [
    {
     "data": {
      "text/plain": [
       "[[2, 13, 7], [13, 7], [2, 7], [7], [2, 13], [13], [2], []]"
      ]
     },
     "execution_count": 32,
     "metadata": {},
     "output_type": "execute_result"
    }
   ],
   "source": [
    "def subsets(nums:List[int]) -> List[List[int]]:\n",
    "    if len(nums) == 0:\n",
    "        return [[]]\n",
    "    this_num = nums[0]\n",
    "    remaining_subset = subsets(nums[1:])\n",
    "    this_subset = [i + [this_num] for i in remaining_subset]\n",
    "    this_subset.extend(remaining_subset)\n",
    "    return this_subset\n",
    "subsets([7, 13, 2])"
   ]
  },
  {
   "cell_type": "code",
   "execution_count": 15,
   "metadata": {},
   "outputs": [],
   "source": [
    "# Combination Sum\n",
    "# You are given an array of distinct integers nums and a target integer target. Your task is to return a list of all unique combinations of nums where the chosen numbers sum to target.\n",
    "\n",
    "# The same number may be chosen from nums an unlimited number of times. Two combinations are the same if the frequency of each of the chosen numbers is the same, otherwise they are different.\n",
    "\n",
    "# You may return the combinations in any order and the order of the numbers in each combination can be in any order.\n",
    "\n",
    "# Example 1:\n",
    "\n",
    "# Input: \n",
    "# nums = [2,5,6,9] \n",
    "# target = 9\n",
    "\n",
    "# Output: [[2,2,5],[9]]\n",
    "# Explanation:\n",
    "# 2 + 2 + 5 = 9. We use 2 twice, and 5 once.\n",
    "# 9 = 9. We use 9 once.\n",
    "\n"
   ]
  },
  {
   "cell_type": "code",
   "execution_count": 37,
   "metadata": {},
   "outputs": [
    {
     "name": "stdout",
     "output_type": "stream",
     "text": [
      "Arr: [2, 5, 6, 9]; target: 9\n",
      "Arr: [2, 5, 6, 9]; target: 7\n",
      "Arr: [2, 5, 6, 9]; target: 5\n",
      "Arr: [2, 5, 6, 9]; target: 3\n",
      "Arr: [2, 5, 6, 9]; target: 1\n",
      "I am here False, True, False\n",
      "Arr: [5, 6, 9]; target: -2\n",
      "I am here False, True, True\n",
      "Arr: [6, 9]; target: -3\n",
      "I am here False, True, True\n",
      "Arr: [9]; target: -6\n",
      "I am here False, True, True\n",
      "Arr: [5, 6, 9]; target: 0\n",
      "Achieved\n",
      "Arr: [6, 9]; target: -1\n",
      "I am here False, True, True\n",
      "Arr: [9]; target: -4\n",
      "I am here False, True, True\n",
      "Arr: [5, 6, 9]; target: 2\n",
      "I am here False, True, False\n",
      "Arr: [6, 9]; target: 1\n",
      "I am here False, True, False\n",
      "Arr: [9]; target: -2\n",
      "I am here False, True, True\n",
      "Arr: [5, 6, 9]; target: 4\n",
      "I am here False, True, False\n",
      "Arr: [6, 9]; target: 3\n",
      "I am here False, True, False\n",
      "Arr: [9]; target: 0\n",
      "Achieved\n"
     ]
    },
    {
     "data": {
      "text/plain": [
       "[[2, 2, 5], [9]]"
      ]
     },
     "execution_count": 37,
     "metadata": {},
     "output_type": "execute_result"
    }
   ],
   "source": [
    "nums, target = [2,5,6,9] , 9\n",
    "nums.sort()\n",
    "\n",
    "def get_candidate(sorted_nums: List[int], this_target: int):\n",
    "    print(f\"Arr: {sorted_nums}; target: {this_target}\")\n",
    "    n = len(sorted_nums)\n",
    "    if this_target == 0:\n",
    "        print(\"Achieved\")\n",
    "        return [[]]\n",
    "    if (n <= 0) or (sorted_nums[0] > this_target) or (this_target < 0):\n",
    "        print(f\"I am here {(n <= 0)}, {sorted_nums[0] > this_target}, {this_target < 0}\")\n",
    "        return []\n",
    "    result = []\n",
    "    for indx, val in enumerate(sorted_nums):\n",
    "        mod_target = this_target - val\n",
    "        other_paths = get_candidate(sorted_nums[indx:], mod_target)\n",
    "        paths_updated = [ [val] + i for i in other_paths]\n",
    "        result.extend(paths_updated)\n",
    "    return result\n",
    "\n",
    "get_candidate(nums,target)"
   ]
  },
  {
   "cell_type": "code",
   "execution_count": 38,
   "metadata": {},
   "outputs": [],
   "source": [
    "# 46. Permutations\n",
    "# Medium\n",
    "# Topics\n",
    "# Companies\n",
    "# Given an array nums of distinct integers, return all the possible permutations. You can return the answer in any order.\n",
    "\n",
    " \n",
    "\n",
    "# Example 1:\n",
    "\n",
    "# Input: nums = [1,2,3]\n",
    "# Output: [[1,2,3],[1,3,2],[2,1,3],[2,3,1],[3,1,2],[3,2,1]]\n",
    "# Example 2:\n",
    "\n",
    "# Input: nums = [0,1]\n",
    "# Output: [[0,1],[1,0]]\n",
    "# Example 3:\n",
    "\n",
    "# Input: nums = [1]\n",
    "# Output: [[1]]"
   ]
  },
  {
   "cell_type": "code",
   "execution_count": 47,
   "metadata": {},
   "outputs": [],
   "source": [
    "def update_perm_result(this_num:int, current_perms:List[int]):\n",
    "    result = []\n",
    "    for indx in range(len(current_perms) + 1):\n",
    "        arr_cp = current_perms.copy()\n",
    "        arr_cp.insert(indx,this_num)\n",
    "        result.append(arr_cp)\n",
    "    return result \n",
    "\n",
    "\n",
    "def permute(nums:List) -> List[int]:\n",
    "    if len(nums) == 1:\n",
    "        return [nums]\n",
    "    this_num = nums[0]\n",
    "    paths = permute(nums[1:])\n",
    "    result = []\n",
    "    for i in paths:\n",
    "        result.extend(update_perm_result(this_num,i))\n",
    "    return result\n",
    "\n",
    "\n",
    "#update_perm_result(5, [1])"
   ]
  },
  {
   "cell_type": "code",
   "execution_count": 49,
   "metadata": {},
   "outputs": [
    {
     "data": {
      "text/plain": [
       "[[1, 2, 3], [2, 1, 3], [2, 3, 1], [1, 3, 2], [3, 1, 2], [3, 2, 1]]"
      ]
     },
     "execution_count": 49,
     "metadata": {},
     "output_type": "execute_result"
    }
   ],
   "source": [
    "permute([1,2,3])"
   ]
  },
  {
   "cell_type": "code",
   "execution_count": 50,
   "metadata": {},
   "outputs": [],
   "source": [
    "# Word Search\n",
    "# Given a 2-D grid of characters board and a string word, return true if the word is present in the grid, otherwise return false.\n",
    "\n",
    "# For the word to be present it must be possible to form it with a path in the board with horizontally or vertically neighboring cells. The same cell may not be used more than once in a word.\n",
    "\n",
    "# Example 1:\n",
    "\n",
    "\n",
    "\n",
    "# Input: \n",
    "# board = [\n",
    "#   [\"A\",\"B\",\"C\",\"D\"],\n",
    "#   [\"S\",\"A\",\"A\",\"T\"],\n",
    "#   [\"A\",\"C\",\"A\",\"E\"]\n",
    "# ],\n",
    "# word = \"CAT\"\n",
    "\n",
    "# Output: true"
   ]
  },
  {
   "cell_type": "code",
   "execution_count": 98,
   "metadata": {},
   "outputs": [],
   "source": [
    "def search_result(board: List[List[str]], start_point: Tuple[int, int], cell_used: List[Tuple[int]] ,word_part:str):\n",
    "    print(f\"Looking for word part {word_part} with start point as {start_point} and traversed {cell_used}\")\n",
    "    n_rows, n_cols = len(board), len(board[0])\n",
    "    if (start_point[0] > n_rows-1) or (start_point[1] > n_cols-1):\n",
    "        print(\"returning false\")\n",
    "        return False\n",
    "\n",
    "    if len(word_part) == 0:\n",
    "        return True\n",
    "    path_forward = [(start_point[0]+1,start_point[1]), (start_point[0],start_point[1]+1), (start_point[0]-1,start_point[1]),(start_point[0],start_point[1] -1)]\n",
    "    path_forward = [i for i in path_forward if i not in cell_used]\n",
    "    if board[start_point[0]][start_point[1]] == word_part[0]:\n",
    "        used = cell_used.copy()\n",
    "        used.append(start_point)\n",
    "        for rem_path in path_forward:\n",
    "            search_res = search_result(board, rem_path, used, word_part[1:])\n",
    "            if search_res:\n",
    "                return True\n",
    "    else:\n",
    "        return False\n",
    "    return False\n",
    "\n",
    "\n",
    "def exist(board: List[List[str]], word: str) -> bool:\n",
    "    print(word[0])\n",
    "    num_rows, num_cols = len(board), len(board[0])\n",
    "    for r in range(num_rows):\n",
    "        for c in range(num_cols):\n",
    "            print(f'r: {r}, c: {c}, this_char : {board[r][c]}')\n",
    "            if board[r][c] == word[0]:\n",
    "                go_search = search_result(board, (r,c), [], word)\n",
    "                if go_search:\n",
    "                    return True\n",
    "    return False\n"
   ]
  },
  {
   "cell_type": "code",
   "execution_count": 99,
   "metadata": {},
   "outputs": [
    {
     "name": "stdout",
     "output_type": "stream",
     "text": [
      "C\n",
      "r: 0, c: 0, this_char : A\n",
      "r: 0, c: 1, this_char : B\n",
      "r: 0, c: 2, this_char : C\n",
      "Looking for word part CAT with start point as (0, 2) and traversed []\n",
      "Looking for word part AT with start point as (1, 2) and traversed [(0, 2)]\n",
      "Looking for word part T with start point as (2, 2) and traversed [(0, 2), (1, 2)]\n",
      "Looking for word part T with start point as (1, 3) and traversed [(0, 2), (1, 2)]\n",
      "Looking for word part  with start point as (2, 3) and traversed [(0, 2), (1, 2), (1, 3)]\n"
     ]
    },
    {
     "data": {
      "text/plain": [
       "True"
      ]
     },
     "execution_count": 99,
     "metadata": {},
     "output_type": "execute_result"
    }
   ],
   "source": [
    "board = [\n",
    "  [\"A\",\"B\",\"C\",\"D\"],\n",
    "  [\"S\",\"A\",\"A\",\"T\"],\n",
    "  [\"A\",\"C\",\"A\",\"E\"]\n",
    "]\n",
    "word = \"CAT\"\n",
    "\n",
    "exist(board, word)\n",
    "#search_result(board, (2,1), [],'CAT')"
   ]
  },
  {
   "cell_type": "code",
   "execution_count": 92,
   "metadata": {},
   "outputs": [
    {
     "name": "stdout",
     "output_type": "stream",
     "text": [
      "A\n",
      "r: 0, c: 0, this_char : A\n",
      "Looking for word part ABCCED with start point as (0, 0) and traversed []\n",
      "Looking for word part BCCED with start point as (1, 0) and traversed [(0, 0)]\n",
      "Looking for word part BCCED with start point as (0, 1) and traversed [(0, 0)]\n",
      "Looking for word part CCED with start point as (1, 1) and traversed [(0, 0), (0, 1)]\n",
      "Looking for word part CCED with start point as (0, 2) and traversed [(0, 0), (0, 1)]\n",
      "Looking for word part CED with start point as (1, 2) and traversed [(0, 0), (0, 1), (0, 2)]\n",
      "Looking for word part ED with start point as (2, 2) and traversed [(0, 0), (0, 1), (0, 2), (1, 2)]\n",
      "Looking for word part D with start point as (3, 2) and traversed [(0, 0), (0, 1), (0, 2), (1, 2), (2, 2)]\n",
      "returning false\n",
      "Looking for word part D with start point as (2, 3) and traversed [(0, 0), (0, 1), (0, 2), (1, 2), (2, 2)]\n",
      "Looking for word part D with start point as (2, 1) and traversed [(0, 0), (0, 1), (0, 2), (1, 2), (2, 2)]\n",
      "Looking for word part  with start point as (3, 1) and traversed [(0, 0), (0, 1), (0, 2), (1, 2), (2, 2), (2, 1)]\n",
      "returning false\n",
      "Looking for word part  with start point as (1, 1) and traversed [(0, 0), (0, 1), (0, 2), (1, 2), (2, 2), (2, 1)]\n"
     ]
    },
    {
     "data": {
      "text/plain": [
       "True"
      ]
     },
     "execution_count": 92,
     "metadata": {},
     "output_type": "execute_result"
    }
   ],
   "source": [
    "board , word = [[\"A\",\"B\",\"C\",\"E\"],[\"S\",\"F\",\"C\",\"S\"],[\"A\",\"D\",\"E\",\"E\"]], \"ABCCED\"\n",
    "exist(board, word)"
   ]
  },
  {
   "cell_type": "code",
   "execution_count": 93,
   "metadata": {},
   "outputs": [
    {
     "name": "stdout",
     "output_type": "stream",
     "text": [
      "A\n",
      "r: 0, c: 0, this_char : A\n",
      "Looking for word part ABCB with start point as (0, 0) and traversed []\n",
      "Looking for word part BCB with start point as (1, 0) and traversed [(0, 0)]\n",
      "Looking for word part BCB with start point as (0, 1) and traversed [(0, 0)]\n",
      "Looking for word part CB with start point as (1, 1) and traversed [(0, 0), (0, 1)]\n",
      "Looking for word part CB with start point as (0, 2) and traversed [(0, 0), (0, 1)]\n",
      "Looking for word part B with start point as (1, 2) and traversed [(0, 0), (0, 1), (0, 2)]\n",
      "Looking for word part B with start point as (0, 3) and traversed [(0, 0), (0, 1), (0, 2)]\n",
      "Looking for word part B with start point as (-1, 2) and traversed [(0, 0), (0, 1), (0, 2)]\n",
      "Looking for word part CB with start point as (-1, 1) and traversed [(0, 0), (0, 1), (0, 2)]\n",
      "Looking for word part BCB with start point as (-1, 0) and traversed [(0, 0), (0, 1), (0, 2)]\n",
      "Looking for word part BCB with start point as (0, -1) and traversed [(0, 0), (0, 1), (0, 2)]\n",
      "r: 0, c: 1, this_char : B\n",
      "r: 0, c: 2, this_char : C\n",
      "r: 0, c: 3, this_char : E\n",
      "r: 1, c: 0, this_char : S\n",
      "r: 1, c: 1, this_char : F\n",
      "r: 1, c: 2, this_char : C\n",
      "r: 1, c: 3, this_char : S\n",
      "r: 2, c: 0, this_char : A\n",
      "Looking for word part ABCB with start point as (2, 0) and traversed []\n",
      "Looking for word part BCB with start point as (3, 0) and traversed [(2, 0)]\n",
      "returning false\n",
      "Looking for word part BCB with start point as (2, 1) and traversed [(2, 0)]\n",
      "Looking for word part BCB with start point as (1, 0) and traversed [(2, 0)]\n",
      "Looking for word part BCB with start point as (2, -1) and traversed [(2, 0)]\n",
      "r: 2, c: 1, this_char : D\n",
      "r: 2, c: 2, this_char : E\n",
      "r: 2, c: 3, this_char : E\n"
     ]
    },
    {
     "data": {
      "text/plain": [
       "[]"
      ]
     },
     "execution_count": 93,
     "metadata": {},
     "output_type": "execute_result"
    }
   ],
   "source": [
    "board = [[\"A\",\"B\",\"C\",\"E\"],[\"S\",\"F\",\"C\",\"S\"],[\"A\",\"D\",\"E\",\"E\"]]\n",
    "word = \"ABCB\"\n",
    "exist(board, word)"
   ]
  },
  {
   "cell_type": "code",
   "execution_count": 97,
   "metadata": {},
   "outputs": [
    {
     "name": "stdout",
     "output_type": "stream",
     "text": [
      "A\n",
      "r: 0, c: 0, this_char : A\n",
      "Looking for word part ABCCED with start point as (0, 0) and traversed []\n",
      "Looking for word part BCCED with start point as (1, 0) and traversed [(0, 0)]\n",
      "Looking for word part BCCED with start point as (0, 1) and traversed [(0, 0)]\n",
      "Looking for word part CCED with start point as (1, 1) and traversed [(0, 0), (0, 1)]\n",
      "Looking for word part CCED with start point as (0, 2) and traversed [(0, 0), (0, 1)]\n",
      "Looking for word part CED with start point as (1, 2) and traversed [(0, 0), (0, 1), (0, 2)]\n",
      "Looking for word part ED with start point as (2, 2) and traversed [(0, 0), (0, 1), (0, 2), (1, 2)]\n",
      "Looking for word part D with start point as (3, 2) and traversed [(0, 0), (0, 1), (0, 2), (1, 2), (2, 2)]\n",
      "returning false\n",
      "Looking for word part D with start point as (2, 3) and traversed [(0, 0), (0, 1), (0, 2), (1, 2), (2, 2)]\n",
      "Looking for word part D with start point as (2, 1) and traversed [(0, 0), (0, 1), (0, 2), (1, 2), (2, 2)]\n",
      "Looking for word part  with start point as (3, 1) and traversed [(0, 0), (0, 1), (0, 2), (1, 2), (2, 2), (2, 1)]\n",
      "returning false\n",
      "Looking for word part  with start point as (1, 1) and traversed [(0, 0), (0, 1), (0, 2), (1, 2), (2, 2), (2, 1)]\n"
     ]
    },
    {
     "data": {
      "text/plain": [
       "True"
      ]
     },
     "execution_count": 97,
     "metadata": {},
     "output_type": "execute_result"
    }
   ],
   "source": [
    "board , word = [[\"A\",\"B\",\"C\",\"E\"],[\"S\",\"F\",\"C\",\"S\"],[\"A\",\"D\",\"E\",\"E\"]], \"ABCCED\"\n",
    "exist(board, word)"
   ]
  },
  {
   "cell_type": "code",
   "execution_count": 100,
   "metadata": {},
   "outputs": [
    {
     "name": "stdout",
     "output_type": "stream",
     "text": [
      "A\n",
      "r: 0, c: 0, this_char : A\n",
      "Looking for word part ABAB with start point as (0, 0) and traversed []\n",
      "Looking for word part BAB with start point as (1, 0) and traversed [(0, 0)]\n",
      "Looking for word part AB with start point as (2, 0) and traversed [(0, 0), (1, 0)]\n",
      "returning false\n",
      "Looking for word part AB with start point as (1, 1) and traversed [(0, 0), (1, 0)]\n",
      "Looking for word part AB with start point as (1, -1) and traversed [(0, 0), (1, 0)]\n",
      "Looking for word part BAB with start point as (0, 1) and traversed [(0, 0)]\n",
      "Looking for word part AB with start point as (1, 1) and traversed [(0, 0), (0, 1)]\n",
      "Looking for word part AB with start point as (0, 2) and traversed [(0, 0), (0, 1)]\n",
      "Looking for word part B with start point as (1, 2) and traversed [(0, 0), (0, 1), (0, 2)]\n",
      "Looking for word part  with start point as (2, 2) and traversed [(0, 0), (0, 1), (0, 2), (1, 2)]\n",
      "returning false\n",
      "Looking for word part  with start point as (1, 3) and traversed [(0, 0), (0, 1), (0, 2), (1, 2)]\n",
      "returning false\n",
      "Looking for word part  with start point as (1, 1) and traversed [(0, 0), (0, 1), (0, 2), (1, 2)]\n"
     ]
    },
    {
     "data": {
      "text/plain": [
       "True"
      ]
     },
     "execution_count": 100,
     "metadata": {},
     "output_type": "execute_result"
    }
   ],
   "source": [
    "board = [\n",
    "    [\"A\", \"B\", \"A\"],\n",
    "    [\"B\", \"B\", \"B\"]\n",
    "]\n",
    "word = \"ABAB\"\n",
    "exist(board, word)"
   ]
  },
  {
   "cell_type": "code",
   "execution_count": null,
   "metadata": {},
   "outputs": [],
   "source": []
  }
 ],
 "metadata": {
  "kernelspec": {
   "display_name": "Aurora",
   "language": "python",
   "name": "python3"
  },
  "language_info": {
   "codemirror_mode": {
    "name": "ipython",
    "version": 3
   },
   "file_extension": ".py",
   "mimetype": "text/x-python",
   "name": "python",
   "nbconvert_exporter": "python",
   "pygments_lexer": "ipython3",
   "version": "3.12.3"
  }
 },
 "nbformat": 4,
 "nbformat_minor": 2
}
