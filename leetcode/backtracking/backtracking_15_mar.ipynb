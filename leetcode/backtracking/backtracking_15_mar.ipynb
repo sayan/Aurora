{
 "cells": [
  {
   "cell_type": "code",
   "execution_count": 1,
   "metadata": {},
   "outputs": [],
   "source": [
    "from typing import List, Tuple, Optional"
   ]
  },
  {
   "cell_type": "code",
   "execution_count": 3,
   "metadata": {},
   "outputs": [],
   "source": [
    "# Subsets\n",
    "# Given an array nums of unique integers, return all possible subsets of nums.\n",
    "\n",
    "# The solution set must not contain duplicate subsets. You may return the solution in any order.\n",
    "\n",
    "# Example 1:\n",
    "\n",
    "# Input: nums = [1,2,3]\n",
    "\n",
    "# Output: [[],[1],[2],[1,2],[3],[1,3],[2,3],[1,2,3]]\n",
    "# Example 2:\n",
    "\n",
    "# Input: nums = [7]\n",
    "\n",
    "# Output: [[],[7]]\n",
    "\n",
    "# nums = [7,8]\n",
    "# output: [[],[7],[8],[7,8]]"
   ]
  },
  {
   "cell_type": "code",
   "execution_count": 76,
   "metadata": {},
   "outputs": [],
   "source": [
    "def subsets(nums: List[int]) -> List[List[int]]:\n",
    "    n = len(nums)\n",
    "    visited = set()\n",
    "    cur_path = []\n",
    "    result = []\n",
    "    def subset_helper( path:List[int], cur_nums:List[int]):\n",
    "        if len(cur_nums) == 1:\n",
    "            path.append(cur_nums[0])\n",
    "            result.append(path.copy())\n",
    "            path.pop()\n",
    "            result.append(path.copy())\n",
    "            return(result)\n",
    "        else:\n",
    "            \n",
    "            path.append(cur_nums[0])\n",
    "            subset_helper(path, cur_nums[1:])\n",
    "            print(path)\n",
    "            path.pop()\n",
    "            subset_helper(path, cur_nums[1:])\n",
    "            print(path)\n",
    "\n",
    "    #print(path)\n",
    "    return subset_helper([],nums)"
   ]
  },
  {
   "cell_type": "code",
   "execution_count": 77,
   "metadata": {},
   "outputs": [
    {
     "name": "stdout",
     "output_type": "stream",
     "text": [
      "[2]\n",
      "[]\n"
     ]
    }
   ],
   "source": [
    "subsets([2,3])"
   ]
  },
  {
   "cell_type": "code",
   "execution_count": 103,
   "metadata": {},
   "outputs": [],
   "source": [
    "x = [1,2,3]\n",
    "res = []\n",
    "path = []\n",
    "len_x = len(x)\n",
    "ind_to_explore = range(len(x))\n",
    "\n",
    "# def get_neighbour(ind,len_x):\n",
    "#     if ind == len_x -1:\n",
    "#         print(f\"Current node a index {ind} has no neighbours. Returning None\")\n",
    "#         return None\n",
    "#     print(f\"Current node a index {ind} has neighbour {ind+1}\")\n",
    "#     return([ind +1])\n",
    "\n",
    "# def check_valid_path(this_path):\n",
    "#     ## Lets say all path are valid since we want to see what all paths we are exploring\n",
    "#     return True\n",
    "\n",
    "# def update_path(cur_ind, cur_path):\n",
    "#     neighbours = get_neighbour(cur_ind, len_x)\n",
    "#     if neighbours:\n",
    "#         for neighbour in neighbours:\n",
    "#             print(f\"Lets append the neighbour {x[neighbour]} to current path {cur_path}\")\n",
    "#             cur_path.append(x[neighbour])\n",
    "#             if check_valid_path(path):\n",
    "#                 res.append(cur_path.copy())\n",
    "#                 ## \n",
    "#                 update_path(neighbour, cur_path)\n",
    "#                 print(f\"We are done checking for paths originating at {cur_path} Lets further explore\")\n",
    "\n",
    "#     else:\n",
    "#         print(f\"Current ind {cur_ind} has no neighbours\")\n",
    "#         print(\"We will backtrack\")"
   ]
  },
  {
   "cell_type": "code",
   "execution_count": 116,
   "metadata": {},
   "outputs": [
    {
     "name": "stdout",
     "output_type": "stream",
     "text": [
      "[1, 2]\n",
      "[1, 2]\n",
      "[1, 2, 2]\n"
     ]
    }
   ],
   "source": [
    "x = [1,2,3]\n",
    "res = [[]]\n",
    "path = []\n",
    "len_x = len(x)\n",
    "ind_to_explore = range(len(x))\n",
    "\n",
    "def helper_subset(this_ind):\n",
    "    if this_ind == len_x - 1:\n",
    "        ## we have reached the end.\n",
    "        path.append(x[this_ind])\n",
    "        res.append(path.copy())\n",
    "        return\n",
    "    else:\n",
    "        ## we can still extend the path to explore. Lets do it\n",
    "        path.append(x[this_ind])\n",
    "        res.append(path.copy())\n",
    "        helper_subset(this_ind + 1)\n",
    "        path.pop()\n",
    "        print(path)\n",
    "        helper_subset(this_ind + 1)\n",
    "\n",
    "helper_subset(0)  "
   ]
  },
  {
   "cell_type": "code",
   "execution_count": 115,
   "metadata": {},
   "outputs": [
    {
     "data": {
      "text/plain": [
       "[[], [1], [1, 2], [1, 2, 3], [1, 2, 3], [1, 2, 2], [1, 2, 2, 3], [1, 2, 2, 3]]"
      ]
     },
     "execution_count": 115,
     "metadata": {},
     "output_type": "execute_result"
    }
   ],
   "source": [
    "res"
   ]
  },
  {
   "cell_type": "code",
   "execution_count": null,
   "metadata": {},
   "outputs": [],
   "source": []
  }
 ],
 "metadata": {
  "kernelspec": {
   "display_name": "Aurora",
   "language": "python",
   "name": "python3"
  },
  "language_info": {
   "codemirror_mode": {
    "name": "ipython",
    "version": 3
   },
   "file_extension": ".py",
   "mimetype": "text/x-python",
   "name": "python",
   "nbconvert_exporter": "python",
   "pygments_lexer": "ipython3",
   "version": "3.12.3"
  }
 },
 "nbformat": 4,
 "nbformat_minor": 2
}
