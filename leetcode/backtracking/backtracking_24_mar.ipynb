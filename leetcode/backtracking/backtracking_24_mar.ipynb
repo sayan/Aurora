{
 "cells": [
  {
   "cell_type": "code",
   "execution_count": 5,
   "metadata": {},
   "outputs": [],
   "source": [
    "from typing import List, Tuple, Optional"
   ]
  },
  {
   "cell_type": "code",
   "execution_count": 3,
   "metadata": {},
   "outputs": [],
   "source": [
    "# Subsets II\n",
    "# You are given an array nums of integers, which may contain duplicates. Return all possible subsets.\n",
    "\n",
    "# The solution must not contain duplicate subsets. You may return the solution in any order.\n",
    "\n",
    "# Example 1:\n",
    "\n",
    "# Input: nums = [1,2,1]\n",
    "\n",
    "# Output: [[],[1],[1,2],[1,1],[1,2,1],[2]]\n",
    "# Example 2:\n",
    "\n",
    "# Input: nums = [7,7]\n",
    "\n",
    "# Output: [[],[7], [7,7]]\n",
    "# Constraints:\n",
    "\n",
    "# 1 <= nums.length <= 11\n",
    "# -20 <= nums[i] <= 20\n"
   ]
  },
  {
   "cell_type": "code",
   "execution_count": 4,
   "metadata": {},
   "outputs": [],
   "source": [
    "def subsets_2(nums:List[int]):\n",
    "    if len(nums) == 0:\n",
    "        return [[]]\n",
    "    this_num = nums[0]\n",
    "    remaining = subsets_2(nums[1:])\n",
    "    result = [[this_num] +i  for i in remaining]\n",
    "    for i in remaining:\n",
    "        if i not in result:\n",
    "            result.append(i)\n",
    "    return result\n"
   ]
  },
  {
   "cell_type": "code",
   "execution_count": 5,
   "metadata": {},
   "outputs": [
    {
     "data": {
      "text/plain": [
       "[[1, 2, 1], [1, 2], [1, 1], [1], [2, 1], [2], []]"
      ]
     },
     "execution_count": 5,
     "metadata": {},
     "output_type": "execute_result"
    }
   ],
   "source": [
    "subsets_2([1,2,1])"
   ]
  },
  {
   "cell_type": "code",
   "execution_count": 6,
   "metadata": {},
   "outputs": [
    {
     "data": {
      "text/plain": [
       "[[7, 7], [7], []]"
      ]
     },
     "execution_count": 6,
     "metadata": {},
     "output_type": "execute_result"
    }
   ],
   "source": [
    "subsets_2([7,7])"
   ]
  },
  {
   "cell_type": "code",
   "execution_count": 8,
   "metadata": {},
   "outputs": [],
   "source": [
    "x = [[2,3],[4,5]]\n",
    "x.append([[1,2]])"
   ]
  },
  {
   "cell_type": "code",
   "execution_count": 9,
   "metadata": {},
   "outputs": [
    {
     "data": {
      "text/plain": [
       "[[2, 3], [4, 5], [[1, 2]]]"
      ]
     },
     "execution_count": 9,
     "metadata": {},
     "output_type": "execute_result"
    }
   ],
   "source": [
    "x"
   ]
  },
  {
   "cell_type": "code",
   "execution_count": 2,
   "metadata": {},
   "outputs": [],
   "source": [
    "# 560. Subarray Sum Equals K\n",
    "# Medium\n",
    "# Topics\n",
    "# Companies\n",
    "# Hint\n",
    "# Given an array of integers nums and an integer k, return the total number of subarrays whose sum equals to k.\n",
    "\n",
    "# A subarray is a contiguous non-empty sequence of elements within an array.\n",
    "\n",
    " \n",
    "\n",
    "# Example 1:\n",
    "\n",
    "# Input: nums = [1,1,1], k = 2\n",
    "# Output: 2\n",
    "# Example 2:\n",
    "\n",
    "# Input: nums = [1,2,3], k = 3\n",
    "# Output: 2\n",
    "\n",
    "# Constraints:\n",
    "\n",
    "# 1 <= nums.length <= 2 * 104\n",
    "# -1000 <= nums[i] <= 1000\n",
    "# -107 <= k <= 107"
   ]
  },
  {
   "cell_type": "code",
   "execution_count": 3,
   "metadata": {},
   "outputs": [
    {
     "data": {
      "text/plain": [
       "[]"
      ]
     },
     "execution_count": 3,
     "metadata": {},
     "output_type": "execute_result"
    }
   ],
   "source": [
    "a = [2,4,5]\n",
    "a[2:2]"
   ]
  },
  {
   "cell_type": "code",
   "execution_count": 15,
   "metadata": {},
   "outputs": [],
   "source": [
    "class Solution:\n",
    "    def subarraySum(self, nums:List[int], k: int):\n",
    "        result = []\n",
    "        n = len(nums)\n",
    "        for l in range(n):\n",
    "            for r in range(l,n):\n",
    "                print(f\"Looking at range l:{l} ; r :{r} ; {nums[l:r+1]}\")\n",
    "                if sum(nums[l:r+1]) == k:\n",
    "                    result.append(nums[l:r+1])\n",
    "        return len(result)"
   ]
  },
  {
   "cell_type": "code",
   "execution_count": 17,
   "metadata": {},
   "outputs": [
    {
     "name": "stdout",
     "output_type": "stream",
     "text": [
      "Looking at range l:0 ; r :0 ; [1]\n",
      "Looking at range l:0 ; r :1 ; [1, 1]\n",
      "Looking at range l:0 ; r :2 ; [1, 1, 1]\n",
      "Looking at range l:1 ; r :1 ; [1]\n",
      "Looking at range l:1 ; r :2 ; [1, 1]\n",
      "Looking at range l:2 ; r :2 ; [1]\n"
     ]
    },
    {
     "data": {
      "text/plain": [
       "2"
      ]
     },
     "execution_count": 17,
     "metadata": {},
     "output_type": "execute_result"
    }
   ],
   "source": [
    "Solution().subarraySum(nums = [1,1,1], k = 2)"
   ]
  },
  {
   "cell_type": "code",
   "execution_count": null,
   "metadata": {},
   "outputs": [],
   "source": []
  },
  {
   "cell_type": "code",
   "execution_count": null,
   "metadata": {},
   "outputs": [],
   "source": [
    "from typing import List\n",
    "\n",
    "class Solution:\n",
    "    def subarraySum(self, nums:List[int], k: int):\n",
    "        n = len(nums)\n",
    "        result = []\n",
    "        store = {}\n",
    "        for ind, val in enumerate(nums):\n",
    "            store[(ind, ind)] = val\n",
    "            if store[(ind, ind)] == k:\n",
    "                result.append((ind, ind))\n",
    "        for row in range(n):\n",
    "            ind = row\n",
    "            for col in range(row+1, n):\n",
    "                print((row,col))\n",
    "                store[(row,col)] = store[(ind+1, col)] + store[(row, col-1)]\n",
    "                ind += 1\n",
    "                if store[(row,col)] == k:\n",
    "                    result.append((row,col))\n",
    "        print(result)\n",
    "        return(len(result))\n",
    "\n",
    "                \n"
   ]
  },
  {
   "cell_type": "code",
   "execution_count": 30,
   "metadata": {},
   "outputs": [
    {
     "name": "stdout",
     "output_type": "stream",
     "text": [
      "(0, 1)\n",
      "(0, 2)\n",
      "(1, 2)\n",
      "[(2, 2), (0, 1)]\n"
     ]
    },
    {
     "data": {
      "text/plain": [
       "2"
      ]
     },
     "execution_count": 30,
     "metadata": {},
     "output_type": "execute_result"
    }
   ],
   "source": [
    "Solution().subarraySum(nums = [1,2,3], k = 3)"
   ]
  },
  {
   "cell_type": "code",
   "execution_count": null,
   "metadata": {},
   "outputs": [],
   "source": []
  }
 ],
 "metadata": {
  "kernelspec": {
   "display_name": "Aurora",
   "language": "python",
   "name": "python3"
  },
  "language_info": {
   "codemirror_mode": {
    "name": "ipython",
    "version": 3
   },
   "file_extension": ".py",
   "mimetype": "text/x-python",
   "name": "python",
   "nbconvert_exporter": "python",
   "pygments_lexer": "ipython3",
   "version": "3.12.3"
  }
 },
 "nbformat": 4,
 "nbformat_minor": 2
}
