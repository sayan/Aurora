{
 "cells": [
  {
   "cell_type": "code",
   "execution_count": 1,
   "metadata": {},
   "outputs": [],
   "source": [
    "from typing import Optional, List, Tuple"
   ]
  },
  {
   "cell_type": "code",
   "execution_count": null,
   "metadata": {},
   "outputs": [],
   "source": []
  },
  {
   "cell_type": "code",
   "execution_count": null,
   "metadata": {},
   "outputs": [
    {
     "name": "stdout",
     "output_type": "stream",
     "text": [
      "[] []\n",
      "Entering at recursion 0\n",
      "[2] [[2]]\n",
      "Entering at recursion 1\n",
      "[2, 5] [[2], [2, 5]]\n",
      "Entering at recursion 2\n",
      "[2, 5, 6] [[2], [2, 5], [2, 5, 6]]\n",
      "Entering at recursion 3\n",
      "You reached pinacle !\n"
     ]
    }
   ],
   "source": [
    "l = [2,5,6]\n",
    "n = len(l)\n",
    "result = []\n",
    "cur_set = []\n",
    "\n"
   ]
  },
  {
   "cell_type": "code",
   "execution_count": 85,
   "metadata": {},
   "outputs": [
    {
     "ename": "IndexError",
     "evalue": "pop from empty list",
     "output_type": "error",
     "traceback": [
      "\u001b[0;31m---------------------------------------------------------------------------\u001b[0m",
      "\u001b[0;31mIndexError\u001b[0m                                Traceback (most recent call last)",
      "Cell \u001b[0;32mIn[85], line 4\u001b[0m\n\u001b[1;32m      2\u001b[0m x\u001b[38;5;241m.\u001b[39mpop()\n\u001b[1;32m      3\u001b[0m x\u001b[38;5;241m.\u001b[39mpop()\n\u001b[0;32m----> 4\u001b[0m \u001b[43mx\u001b[49m\u001b[38;5;241;43m.\u001b[39;49m\u001b[43mpop\u001b[49m\u001b[43m(\u001b[49m\u001b[43m)\u001b[49m\n\u001b[1;32m      5\u001b[0m x\n",
      "\u001b[0;31mIndexError\u001b[0m: pop from empty list"
     ]
    }
   ],
   "source": [
    "x = [2,3]\n",
    "x.pop()\n",
    "x.pop()\n",
    "x.pop()\n",
    "x\n"
   ]
  },
  {
   "cell_type": "code",
   "execution_count": 99,
   "metadata": {},
   "outputs": [],
   "source": [
    "def all_subset(arr):\n",
    "    n = len(arr)\n",
    "    if n == 1:\n",
    "        result = [[],[arr[0]]]\n",
    "        return result\n",
    "    last_element = arr[-1]\n",
    "    arr.pop()\n",
    "    previous_result = all_subset(arr)\n",
    "    previous_result.extend([i + [last_element] for i in previous_result])\n",
    "    return previous_result\n",
    "    "
   ]
  },
  {
   "cell_type": "code",
   "execution_count": 101,
   "metadata": {},
   "outputs": [
    {
     "data": {
      "text/plain": [
       "[[],\n",
       " [2],\n",
       " [3],\n",
       " [2, 3],\n",
       " [4],\n",
       " [2, 4],\n",
       " [3, 4],\n",
       " [2, 3, 4],\n",
       " [5],\n",
       " [2, 5],\n",
       " [3, 5],\n",
       " [2, 3, 5],\n",
       " [4, 5],\n",
       " [2, 4, 5],\n",
       " [3, 4, 5],\n",
       " [2, 3, 4, 5]]"
      ]
     },
     "execution_count": 101,
     "metadata": {},
     "output_type": "execute_result"
    }
   ],
   "source": [
    "all_subset([2,3,4,5])"
   ]
  },
  {
   "cell_type": "code",
   "execution_count": 102,
   "metadata": {},
   "outputs": [],
   "source": [
    "# Example 1:\n",
    "\n",
    "# Input: nums = [1,2,3]\n",
    "# Output: [[1,2,3],[1,3,2],[2,1,3],[2,3,1],[3,1,2],[3,2,1]]"
   ]
  },
  {
   "cell_type": "code",
   "execution_count": 126,
   "metadata": {},
   "outputs": [
    {
     "name": "stdout",
     "output_type": "stream",
     "text": [
      "[2, 3]\n"
     ]
    },
    {
     "data": {
      "text/plain": [
       "[[5, 2, 3], [2, 5, 3], [2, 3, 5]]"
      ]
     },
     "execution_count": 126,
     "metadata": {},
     "output_type": "execute_result"
    }
   ],
   "source": [
    "def add_to_perm(arr:List[int], this_num):\n",
    "    print(arr)\n",
    "    n = len(arr)\n",
    "    res = []\n",
    "    for i in range(n+1):\n",
    "        arr.insert(i, this_num)\n",
    "        res.append(arr.copy())\n",
    "        arr.pop(i)\n",
    "    return res\n",
    "\n",
    "add_to_perm([2,3],5)"
   ]
  },
  {
   "cell_type": "code",
   "execution_count": 138,
   "metadata": {},
   "outputs": [],
   "source": [
    "def all_permutation(nums:List[int]):\n",
    "    nums_n = len(nums)\n",
    "    if nums_n == 1:\n",
    "        return [nums]\n",
    "    last_elem = nums[-1]\n",
    "    previous_perms = all_permutation(nums[:-1])\n",
    "    this_result = []\n",
    "    for i in previous_perms:\n",
    "        this_result.extend(add_to_perm(i, last_elem))\n",
    "    return this_result"
   ]
  },
  {
   "cell_type": "code",
   "execution_count": 140,
   "metadata": {},
   "outputs": [
    {
     "name": "stdout",
     "output_type": "stream",
     "text": [
      "[7]\n",
      "[8, 7]\n",
      "[7, 8]\n"
     ]
    },
    {
     "data": {
      "text/plain": [
       "[[9, 8, 7], [8, 9, 7], [8, 7, 9], [9, 7, 8], [7, 9, 8], [7, 8, 9]]"
      ]
     },
     "execution_count": 140,
     "metadata": {},
     "output_type": "execute_result"
    }
   ],
   "source": [
    "all_permutation([7,8,9])"
   ]
  },
  {
   "cell_type": "code",
   "execution_count": 139,
   "metadata": {},
   "outputs": [
    {
     "name": "stdout",
     "output_type": "stream",
     "text": [
      "[2, 3]\n"
     ]
    },
    {
     "data": {
      "text/plain": [
       "[[5, 2, 3], [2, 5, 3], [2, 3, 5]]"
      ]
     },
     "execution_count": 139,
     "metadata": {},
     "output_type": "execute_result"
    }
   ],
   "source": [
    "add_to_perm([2,3],5)"
   ]
  },
  {
   "cell_type": "code",
   "execution_count": 131,
   "metadata": {},
   "outputs": [
    {
     "name": "stdout",
     "output_type": "stream",
     "text": [
      "[3, 2]\n"
     ]
    },
    {
     "data": {
      "text/plain": [
       "[[5, 3, 2], [3, 5, 2], [3, 2, 5]]"
      ]
     },
     "execution_count": 131,
     "metadata": {},
     "output_type": "execute_result"
    }
   ],
   "source": [
    "add_to_perm([3,2],5)"
   ]
  },
  {
   "cell_type": "code",
   "execution_count": 137,
   "metadata": {},
   "outputs": [
    {
     "data": {
      "text/plain": [
       "4"
      ]
     },
     "execution_count": 137,
     "metadata": {},
     "output_type": "execute_result"
    }
   ],
   "source": [
    "from functools import reduce\n",
    "reduce(lambda x,y : max(x,y), [1,2,3,4])"
   ]
  },
  {
   "cell_type": "code",
   "execution_count": 141,
   "metadata": {},
   "outputs": [],
   "source": [
    "# Combination Sum\n",
    "# You are given an array of distinct integers nums and a target integer target. Your task is to return a list of all unique combinations of nums where the chosen numbers sum to target.\n",
    "\n",
    "# The same number may be chosen from nums an unlimited number of times. Two combinations are the same if the frequency of each of the chosen numbers is the same, otherwise they are different.\n",
    "\n",
    "# You may return the combinations in any order and the order of the numbers in each combination can be in any order.\n",
    "\n",
    "# Example 1:\n",
    "\n",
    "# Input: \n",
    "# nums = [2,5,6,9] \n",
    "# target = 9\n",
    "\n",
    "# Output: [[2,2,5],[9]]"
   ]
  },
  {
   "cell_type": "code",
   "execution_count": 160,
   "metadata": {},
   "outputs": [],
   "source": [
    "def combination_sum(nums: List[int], target: int):\n",
    "    result = []\n",
    "    def get_candidates(choices: List[int],this_target:int, path: List[int]):\n",
    "        print(f\"target : {this_target}, path: {path}\")\n",
    "        for choice in choices:\n",
    "            if choice < this_target:\n",
    "                get_candidates(choices, this_target-choice, path + [choice])\n",
    "\n",
    "            elif choice == this_target:\n",
    "                print(f\"got a result\")\n",
    "                result.append(path.copy() + [choice])\n",
    "                print(result)\n",
    "            else : #(choice > target case)\n",
    "                print(f\"path : {path} will lead to now where backtrack now\")\n",
    "                if path:\n",
    "                    path.pop()\n",
    "                \n",
    "\n",
    "    get_candidates(nums, target, [])\n",
    "    return result\n"
   ]
  },
  {
   "cell_type": "code",
   "execution_count": 161,
   "metadata": {},
   "outputs": [
    {
     "name": "stdout",
     "output_type": "stream",
     "text": [
      "target : 9, path: []\n",
      "target : 7, path: [2]\n",
      "target : 5, path: [2, 2]\n",
      "target : 3, path: [2, 2, 2]\n",
      "target : 1, path: [2, 2, 2, 2]\n",
      "path : [2, 2, 2, 2] will lead to now where backtrack now\n",
      "path : [2, 2, 2] will lead to now where backtrack now\n",
      "path : [2, 2] will lead to now where backtrack now\n",
      "path : [2] will lead to now where backtrack now\n",
      "path : [2, 2, 2] will lead to now where backtrack now\n",
      "path : [2, 2] will lead to now where backtrack now\n",
      "path : [2] will lead to now where backtrack now\n",
      "got a result\n",
      "[[2, 2, 5]]\n",
      "path : [2, 2] will lead to now where backtrack now\n",
      "path : [2] will lead to now where backtrack now\n",
      "target : 2, path: [2, 5]\n",
      "got a result\n",
      "[[2, 2, 5], [2, 5, 2]]\n",
      "path : [2, 5] will lead to now where backtrack now\n",
      "path : [2] will lead to now where backtrack now\n",
      "path : [] will lead to now where backtrack now\n",
      "target : 1, path: [2, 6]\n",
      "path : [2, 6] will lead to now where backtrack now\n",
      "path : [2] will lead to now where backtrack now\n",
      "path : [] will lead to now where backtrack now\n",
      "path : [] will lead to now where backtrack now\n",
      "path : [2] will lead to now where backtrack now\n",
      "target : 4, path: [5]\n",
      "target : 2, path: [5, 2]\n",
      "got a result\n",
      "[[2, 2, 5], [2, 5, 2], [5, 2, 2]]\n",
      "path : [5, 2] will lead to now where backtrack now\n",
      "path : [5] will lead to now where backtrack now\n",
      "path : [] will lead to now where backtrack now\n",
      "path : [5] will lead to now where backtrack now\n",
      "path : [] will lead to now where backtrack now\n",
      "path : [] will lead to now where backtrack now\n",
      "target : 3, path: [6]\n",
      "target : 1, path: [6, 2]\n",
      "path : [6, 2] will lead to now where backtrack now\n",
      "path : [6] will lead to now where backtrack now\n",
      "path : [] will lead to now where backtrack now\n",
      "path : [] will lead to now where backtrack now\n",
      "path : [6] will lead to now where backtrack now\n",
      "path : [] will lead to now where backtrack now\n",
      "path : [] will lead to now where backtrack now\n",
      "got a result\n",
      "[[2, 2, 5], [2, 5, 2], [5, 2, 2], [9]]\n"
     ]
    },
    {
     "data": {
      "text/plain": [
       "[[2, 2, 5], [2, 5, 2], [5, 2, 2], [9]]"
      ]
     },
     "execution_count": 161,
     "metadata": {},
     "output_type": "execute_result"
    }
   ],
   "source": [
    "# nums = [2,5,6,9] \n",
    "# target = 9\n",
    "combination_sum([2,5,6,9], 9)"
   ]
  },
  {
   "cell_type": "code",
   "execution_count": null,
   "metadata": {},
   "outputs": [],
   "source": []
  }
 ],
 "metadata": {
  "kernelspec": {
   "display_name": "Aurora",
   "language": "python",
   "name": "python3"
  },
  "language_info": {
   "codemirror_mode": {
    "name": "ipython",
    "version": 3
   },
   "file_extension": ".py",
   "mimetype": "text/x-python",
   "name": "python",
   "nbconvert_exporter": "python",
   "pygments_lexer": "ipython3",
   "version": "3.12.3"
  }
 },
 "nbformat": 4,
 "nbformat_minor": 2
}
