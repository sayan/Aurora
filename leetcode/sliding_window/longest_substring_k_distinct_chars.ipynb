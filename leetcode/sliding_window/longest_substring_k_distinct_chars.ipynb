{
 "cells": [
  {
   "cell_type": "markdown",
   "metadata": {},
   "source": [
    "# Problem Statement\n",
    "\n",
    "You are given a string `str` and an integer `K`. Your task is to find the length of the largest substring with at most `K` distinct characters.\n",
    "\n",
    "## Example\n",
    "\n",
    "You are given `str = 'abbbbbbc'` and `K = 2`, then the substrings that can be formed are `['abbbbbb', 'bbbbbbc']`. Hence the answer is 7.\n",
    "\n",
    "## Detailed Explanation\n",
    "\n",
    "### Input/Output Format\n",
    "\n",
    "- **Input:**\n",
    "  - The first line contains an integer `T`, the number of test cases.\n",
    "  - For each test case:\n",
    "    - An integer `K`.\n",
    "    - A string `str`.\n",
    "\n",
    "- **Output:**\n",
    "  - For each test case, output the length of the largest substring with at most `K` distinct characters.\n",
    "\n",
    "### Notes\n",
    "\n",
    "- The string `str` will contain only lowercase alphabets.\n",
    "- You do not need to print anything. It has already been taken care of. Just implement the function.\n",
    "\n",
    "### Constraints\n",
    "\n",
    "- \\(1 \\leq T \\leq 10\\)\n",
    "- \\(1 \\leq K \\leq 26\\)\n",
    "- \\(1 \\leq |str| \\leq 10^6\\)\n",
    "\n",
    "### Time Limit\n",
    "\n",
    "- 1 second\n",
    "\n",
    "## Sample Input 1\n"
   ]
  },
  {
   "cell_type": "code",
   "execution_count": null,
   "metadata": {},
   "outputs": [
    {
     "data": {
      "text/plain": [
       "0"
      ]
     },
     "execution_count": 6,
     "metadata": {},
     "output_type": "execute_result"
    }
   ],
   "source": []
  },
  {
   "cell_type": "code",
   "execution_count": 40,
   "metadata": {},
   "outputs": [],
   "source": [
    "s = \"xyaabaaaacbebebexyzxyz\"; k = 3\n",
    "#s = 'abbbbbbc'; k = 2\n",
    "\n",
    "\n",
    "cur_longest_substr = s[0]\n",
    "local_longest_substr = s[0]\n",
    "cur_num_distinct_char = 1\n",
    "cur_set = set(s[0])\n",
    "\n",
    "for indx in range(1,len(s)):\n",
    "    cur_char = s[indx]\n",
    "    if cur_char in cur_set:\n",
    "        local_longest_substr = local_longest_substr + cur_char\n",
    "    else:\n",
    "        if len(cur_set) > k-1:\n",
    "            ## we check with global now\n",
    "            if len(local_longest_substr) > len(cur_longest_substr):\n",
    "                cur_longest_substr = local_longest_substr\n",
    "            else:\n",
    "                local_longest_substr = cur_char\n",
    "                cur_set = set(cur_char)\n",
    "\n",
    "        else:\n",
    "            cur_set.add(cur_char)\n",
    "            local_longest_substr = local_longest_substr + cur_char\n"
   ]
  },
  {
   "cell_type": "code",
   "execution_count": 42,
   "metadata": {},
   "outputs": [
    {
     "data": {
      "text/plain": [
       "('yzxyz', 'xyaaaaaa')"
      ]
     },
     "execution_count": 42,
     "metadata": {},
     "output_type": "execute_result"
    }
   ],
   "source": [
    "local_longest_substr, cur_longest_substr"
   ]
  },
  {
   "cell_type": "code",
   "execution_count": null,
   "metadata": {},
   "outputs": [],
   "source": []
  }
 ],
 "metadata": {
  "kernelspec": {
   "display_name": "Aurora",
   "language": "python",
   "name": "python3"
  },
  "language_info": {
   "codemirror_mode": {
    "name": "ipython",
    "version": 3
   },
   "file_extension": ".py",
   "mimetype": "text/x-python",
   "name": "python",
   "nbconvert_exporter": "python",
   "pygments_lexer": "ipython3",
   "version": "3.12.3"
  }
 },
 "nbformat": 4,
 "nbformat_minor": 2
}
