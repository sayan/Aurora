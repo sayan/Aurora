{
 "cells": [
  {
   "cell_type": "markdown",
   "metadata": {},
   "source": [
    "#Given an array arr[], the task is to find the subarray that has the maximum sum and return its sum.\n",
    "\n",
    "Examples:\n",
    "\n",
    "Input: arr[] = {2, 3, -8, 7, -1, 2, 3}\n",
    "Output: 11\n",
    "Explanation: The subarray {7, -1, 2, 3} has the largest sum 11.\n",
    "\n",
    "\n",
    "Input: arr[] = {-2, -4}\n",
    "Output: –2\n",
    "Explanation: The subarray {-2} has the largest sum -2.\n",
    "\n",
    "\n",
    "Input: arr[] = {5, 4, 1, 7, 8}\n",
    "Output: 25\n",
    "Explanation: The subarray {5, 4, 1, 7, 8} has the largest sum 25.\n",
    "\n"
   ]
  },
  {
   "cell_type": "code",
   "execution_count": 18,
   "metadata": {},
   "outputs": [],
   "source": [
    "#input_array = [2, 3, -8, 7, -1, 2, 3]\n",
    "#input_array = [-2,-4]\n",
    "input_array = [5, 4, 1, 7, 8]\n",
    "\n",
    "local_sum = input_array[0]\n",
    "max_sum = input_array[0]\n",
    "max_start_index = 0\n",
    "max_end_index = 0\n",
    "cur_start_index = 0\n",
    "cur_end_index = 0\n",
    "\n",
    "for idx in range(1, len(input_array)):\n",
    "    if local_sum+input_array[idx] > input_array[idx]:\n",
    "        local_sum = local_sum+input_array[idx]\n",
    "        cur_end_index = idx\n",
    "    else:\n",
    "        local_sum = input_array[idx]\n",
    "        cur_start_index = idx\n",
    "    if local_sum > max_sum:\n",
    "        max_sum = local_sum\n",
    "        max_start_index = cur_start_index\n",
    "        max_end_index = cur_end_index\n",
    "\n"
   ]
  },
  {
   "cell_type": "code",
   "execution_count": 19,
   "metadata": {},
   "outputs": [
    {
     "data": {
      "text/plain": [
       "(25, 5, 8)"
      ]
     },
     "execution_count": 19,
     "metadata": {},
     "output_type": "execute_result"
    }
   ],
   "source": [
    "max_sum, input_array[max_start_index], input_array[max_end_index]"
   ]
  },
  {
   "cell_type": "code",
   "execution_count": null,
   "metadata": {},
   "outputs": [],
   "source": []
  }
 ],
 "metadata": {
  "kernelspec": {
   "display_name": "Aurora",
   "language": "python",
   "name": "python3"
  },
  "language_info": {
   "codemirror_mode": {
    "name": "ipython",
    "version": 3
   },
   "file_extension": ".py",
   "mimetype": "text/x-python",
   "name": "python",
   "nbconvert_exporter": "python",
   "pygments_lexer": "ipython3",
   "version": "3.12.3"
  }
 },
 "nbformat": 4,
 "nbformat_minor": 2
}
