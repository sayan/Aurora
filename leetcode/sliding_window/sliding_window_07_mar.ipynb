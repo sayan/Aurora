{
 "cells": [
  {
   "cell_type": "code",
   "execution_count": 5,
   "metadata": {},
   "outputs": [],
   "source": [
    "from typing import List, Optional\n",
    "from collections import deque, Counter"
   ]
  },
  {
   "cell_type": "code",
   "execution_count": 45,
   "metadata": {},
   "outputs": [],
   "source": [
    "# Longest Substring Without Repeating Characters\n",
    "# Given a string s, find the length of the longest substring without duplicate characters.\n",
    "\n",
    "# A substring is a contiguous sequence of characters within a string.\n",
    "\n",
    "# Example 1:\n",
    "\n",
    "# Input: s = \"zxyzxyz\"\n",
    "\n",
    "# Output: 3\n",
    "# Explanation: The string \"xyz\" is the longest without duplicate characters.\n",
    "\n",
    "# Example 2:\n",
    "\n",
    "# Input: s = \"xxxx\"\n",
    "\n",
    " \n",
    "\n",
    "# Example 1:\n",
    "\n",
    "# Input: s = \"abcabcbb\"\n",
    "# Output: 3\n",
    "# Explanation: The answer is \"abc\", with the length of 3.\n",
    "# Example 2:\n",
    "\n",
    "# Input: s = \"bbbbb\"\n",
    "# Output: 1\n",
    "# Explanation: The answer is \"b\", with the length of 1.\n",
    "# Example 3:\n",
    "\n",
    "# Input: s = \"pwwkew\"\n",
    "# Output: 3\n",
    "# Explanation: The answer is \"wke\", with the length of 3.\n",
    "# Notice that the answer must be a substring, \"pwke\" is a subsequence and not a substring.\n",
    " "
   ]
  },
  {
   "cell_type": "code",
   "execution_count": 52,
   "metadata": {},
   "outputs": [],
   "source": [
    "a = [1,2,3,5,5,6,7,7,8]"
   ]
  },
  {
   "cell_type": "code",
   "execution_count": 64,
   "metadata": {},
   "outputs": [],
   "source": [
    "# 1343. Number of Sub-arrays of Size K and Average Greater than or Equal to Threshold\n",
    "# Medium\n",
    "# Topics\n",
    "# Companies\n",
    "# Hint\n",
    "# Given an array of integers arr and two integers k and threshold, return the number of sub-arrays of size k and average greater than or equal to threshold.\n",
    "\n",
    " \n",
    "\n",
    "# Example 1:\n",
    "\n",
    "# Input: arr = [2,2,2,2,5,5,5,8], k = 3, threshold = 4\n",
    "# Output: 3\n",
    "# Explanation: Sub-arrays [2,5,5],[5,5,5] and [5,5,8] have averages 4, 5 and 6 respectively. All other sub-arrays of size 3 have averages less than 4 (the threshold).\n",
    "# Example 2:\n",
    "\n",
    "# Input: arr = [11,13,17,23,29,31,7,5,2,3], k = 3, threshold = 5\n",
    "# Output: 6\n",
    "# Explanation: The first 6 sub-arrays of size 3 have averages greater than 5. Note that averages are not integers.\n"
   ]
  },
  {
   "cell_type": "code",
   "execution_count": 66,
   "metadata": {},
   "outputs": [],
   "source": [
    "def numOfSubarrays(arr:int, k:int, threshold:int):\n",
    "    sum_threshold = k * threshold\n",
    "    left_index = 0\n",
    "    required_sub_arrays = []\n",
    "    cur_sub_array = []\n",
    "    matching_sub_arrays = 0\n",
    "    for right_index, val in enumerate(arr):\n",
    "        cur_sub_array.append(val)\n",
    "        if len(cur_sub_array) >= k:\n",
    "            this_array_sum = sum(cur_sub_array)\n",
    "            print(f\"Current sub array : {cur_sub_array} have a sum of {this_array_sum}\")\n",
    "            if this_array_sum >= sum_threshold:\n",
    "                print(f\"Current sub array : {cur_sub_array} have a sum of {this_array_sum} And it passes the threshold\")\n",
    "                matching_sub_arrays += 1\n",
    "            cur_sub_array.pop(0)\n",
    "    return matching_sub_arrays"
   ]
  },
  {
   "cell_type": "code",
   "execution_count": 67,
   "metadata": {},
   "outputs": [
    {
     "name": "stdout",
     "output_type": "stream",
     "text": [
      "Current sub array : [2, 2, 2] have a sum of 6\n",
      "Current sub array : [2, 2, 2] have a sum of 6\n",
      "Current sub array : [2, 2, 5] have a sum of 9\n",
      "Current sub array : [2, 5, 5] have a sum of 12\n",
      "Current sub array : [2, 5, 5] have a sum of 12 And it passes the threshold\n",
      "Current sub array : [5, 5, 5] have a sum of 15\n",
      "Current sub array : [5, 5, 5] have a sum of 15 And it passes the threshold\n",
      "Current sub array : [5, 5, 8] have a sum of 18\n",
      "Current sub array : [5, 5, 8] have a sum of 18 And it passes the threshold\n"
     ]
    },
    {
     "data": {
      "text/plain": [
       "3"
      ]
     },
     "execution_count": 67,
     "metadata": {},
     "output_type": "execute_result"
    }
   ],
   "source": [
    "numOfSubarrays(arr = [2,2,2,2,5,5,5,8], k = 3, threshold = 4)"
   ]
  },
  {
   "cell_type": "code",
   "execution_count": 68,
   "metadata": {},
   "outputs": [
    {
     "name": "stdout",
     "output_type": "stream",
     "text": [
      "Current sub array : [11, 13, 17] have a sum of 41\n",
      "Current sub array : [11, 13, 17] have a sum of 41 And it passes the threshold\n",
      "Current sub array : [13, 17, 23] have a sum of 53\n",
      "Current sub array : [13, 17, 23] have a sum of 53 And it passes the threshold\n",
      "Current sub array : [17, 23, 29] have a sum of 69\n",
      "Current sub array : [17, 23, 29] have a sum of 69 And it passes the threshold\n",
      "Current sub array : [23, 29, 31] have a sum of 83\n",
      "Current sub array : [23, 29, 31] have a sum of 83 And it passes the threshold\n",
      "Current sub array : [29, 31, 7] have a sum of 67\n",
      "Current sub array : [29, 31, 7] have a sum of 67 And it passes the threshold\n",
      "Current sub array : [31, 7, 5] have a sum of 43\n",
      "Current sub array : [31, 7, 5] have a sum of 43 And it passes the threshold\n",
      "Current sub array : [7, 5, 2] have a sum of 14\n",
      "Current sub array : [5, 2, 3] have a sum of 10\n"
     ]
    },
    {
     "data": {
      "text/plain": [
       "6"
      ]
     },
     "execution_count": 68,
     "metadata": {},
     "output_type": "execute_result"
    }
   ],
   "source": [
    "numOfSubarrays( [11,13,17,23,29,31,7,5,2,3], k = 3, threshold = 5)"
   ]
  },
  {
   "cell_type": "code",
   "execution_count": 69,
   "metadata": {},
   "outputs": [],
   "source": [
    "# 643. Maximum Average Subarray I\n",
    "# Easy\n",
    "# Topics\n",
    "# Companies\n",
    "# You are given an integer array nums consisting of n elements, and an integer k.\n",
    "\n",
    "# Find a contiguous subarray whose length is equal to k that has the maximum average value and return this value. Any answer with a calculation error less than 10-5 will be accepted.\n",
    "\n",
    " \n",
    "\n",
    "# Example 1:\n",
    "\n",
    "# Input: nums = [1,12,-5,-6,50,3], k = 4\n",
    "# Output: 12.75000\n",
    "# Explanation: Maximum average is (12 - 5 - 6 + 50) / 4 = 51 / 4 = 12.75\n",
    "# Example 2:\n",
    "\n",
    "# Input: nums = [5], k = 1\n",
    "# Output: 5.00000\n"
   ]
  },
  {
   "cell_type": "code",
   "execution_count": 72,
   "metadata": {},
   "outputs": [],
   "source": [
    "def findMaxAverage(nums, k):\n",
    "    best_sum = float(\"-Inf\")\n",
    "    local_sum = 0\n",
    "    left_index = 0\n",
    "    for ri_indx, this_val in enumerate(nums):\n",
    "        local_sum += this_val\n",
    "        if ri_indx >= k - 1:\n",
    "            best_sum = max(best_sum, local_sum)\n",
    "            local_sum = local_sum - nums[left_index]\n",
    "            left_index += 1\n",
    "    return(best_sum/k)\n"
   ]
  },
  {
   "cell_type": "code",
   "execution_count": 73,
   "metadata": {},
   "outputs": [
    {
     "data": {
      "text/plain": [
       "12.75"
      ]
     },
     "execution_count": 73,
     "metadata": {},
     "output_type": "execute_result"
    }
   ],
   "source": [
    "findMaxAverage(nums = [1,12,-5,-6,50,3], k = 4)"
   ]
  },
  {
   "cell_type": "code",
   "execution_count": 74,
   "metadata": {},
   "outputs": [
    {
     "data": {
      "text/plain": [
       "5.0"
      ]
     },
     "execution_count": 74,
     "metadata": {},
     "output_type": "execute_result"
    }
   ],
   "source": [
    "findMaxAverage( nums = [5], k = 1)"
   ]
  },
  {
   "cell_type": "code",
   "execution_count": 75,
   "metadata": {},
   "outputs": [],
   "source": [
    "# 1004. Max Consecutive Ones III\n",
    "# Medium\n",
    "# Topics\n",
    "# Companies\n",
    "# Hint\n",
    "# Given a binary array nums and an integer k, return the maximum number of consecutive 1's in the array if you can flip at most k 0's.\n",
    "\n",
    " \n",
    "\n",
    "# Example 1:\n",
    "\n",
    "# Input: nums = [1,1,1,0,0,0,1,1,1,1,0], k = 2\n",
    "# Output: 6\n",
    "# Explanation: [1,1,1,0,0,1,1,1,1,1,1]\n",
    "# Bolded numbers were flipped from 0 to 1. The longest subarray is underlined.\n",
    "# Example 2:\n",
    "\n",
    "# Input: nums = [0,0,1,1,0,0,1,1,1,0,1,1,0,0,0,1,1,1,1], k = 3\n",
    "# Output: 10\n",
    "# Explanation: [0,0,1,1,1,1,1,1,1,1,1,1,0,0,0,1,1,1,1]\n",
    "# Bolded numbers were flipped from 0 to 1. The longest subarray is underlined.\n",
    " "
   ]
  },
  {
   "cell_type": "code",
   "execution_count": 105,
   "metadata": {},
   "outputs": [],
   "source": [
    "def longestOnes(nums, k):\n",
    "    len_longest_ones = -1\n",
    "    left_index = 0\n",
    "    window_num_flips = 0\n",
    "    window_len = 0\n",
    "    for right_index, cur_val in enumerate(nums):\n",
    "        if cur_val == 1:\n",
    "            window_len += 1\n",
    "        elif cur_val == 0:\n",
    "            window_num_flips +=1\n",
    "            window_len += 1\n",
    "        while window_num_flips >= k:\n",
    "            print(window_num_flips,window_len )\n",
    "            if (window_num_flips <= k):\n",
    "                len_longest_ones = max(len_longest_ones, window_len)\n",
    "            if window_num_flips > k:\n",
    "                if nums[left_index] == 1:\n",
    "                    window_len += -1\n",
    "                    left_index += 1\n",
    "                if nums[left_index] == 0:\n",
    "                    window_len += -1\n",
    "                    left_index += 1\n",
    "                    window_num_flips += -1\n",
    "            else:\n",
    "                break\n",
    "    return(len_longest_ones)"
   ]
  },
  {
   "cell_type": "code",
   "execution_count": 107,
   "metadata": {},
   "outputs": [],
   "source": [
    "#longestOnes(nums = [0,0,1,1,0,0,1,1,1,0,1,1,0,0,0,1,1,1,1], k = 3)"
   ]
  },
  {
   "cell_type": "code",
   "execution_count": 102,
   "metadata": {},
   "outputs": [
    {
     "name": "stdout",
     "output_type": "stream",
     "text": [
      "2 5\n",
      "3 6\n",
      "3 5\n",
      "3 4\n",
      "2 2\n",
      "2 3\n",
      "2 4\n",
      "2 5\n",
      "2 6\n",
      "3 7\n",
      "2 6\n"
     ]
    },
    {
     "data": {
      "text/plain": [
       "6"
      ]
     },
     "execution_count": 102,
     "metadata": {},
     "output_type": "execute_result"
    }
   ],
   "source": [
    "longestOnes(nums = [1,1,1,0,0,0,1,1,1,1,0], k = 2)"
   ]
  },
  {
   "cell_type": "code",
   "execution_count": 108,
   "metadata": {},
   "outputs": [],
   "source": [
    "# Sliding Window Maximum\n",
    "# You are given an array of integers nums and an integer k. There is a sliding window of size k that starts at the left edge of the array. The window slides one position to the right until it reaches the right edge of the array.\n",
    "\n",
    "# Return a list that contains the maximum element in the window at each step.\n",
    "\n",
    "# Example 1:\n",
    "\n",
    "# Input: nums = [1,2,1,0,4,2,6], k = 3\n",
    "\n",
    "# Output: [2,2,4,4,6]\n",
    "\n",
    "# Explanation: \n",
    "# Window position            Max\n",
    "# ---------------           -----\n",
    "# [1  2  1] 0  4  2  6        2\n",
    "#  1 [2  1  0] 4  2  6        2\n",
    "#  1  2 [1  0  4] 2  6        4\n",
    "#  1  2  1 [0  4  2] 6        4\n",
    "#  1  2  1  0 [4  2  6]       6\n",
    "# Constraints:\n",
    "\n",
    "# 1 <= nums.length <= 1000\n",
    "# -1000 <= nums[i] <= 1000\n",
    "# 1 <= k <= nums.length\n"
   ]
  },
  {
   "cell_type": "code",
   "execution_count": 120,
   "metadata": {},
   "outputs": [],
   "source": [
    "def maxSlidingWindow(nums: List[int], k: int) -> List[int]:\n",
    "    windows = []\n",
    "    windows_max = []\n",
    "    cur_windows = []\n",
    "\n",
    "    for r_ind, val in enumerate(nums):\n",
    "        cur_windows.append(val)\n",
    "        if  r_ind >= k - 1:\n",
    "            print(cur_windows)\n",
    "            windows.append(cur_windows.copy())\n",
    "            windows_max.append(max(cur_windows))\n",
    "            cur_windows.pop(0)\n",
    "    return(windows, windows_max)"
   ]
  },
  {
   "cell_type": "code",
   "execution_count": 125,
   "metadata": {},
   "outputs": [
    {
     "name": "stdout",
     "output_type": "stream",
     "text": [
      "Ind:0; val:2\n",
      "Ind:1; val:5\n",
      "Ind:2; val:7\n",
      "Ind:3; val:8\n",
      "Ind:4; val:3\n"
     ]
    }
   ],
   "source": [
    "for ind, val in enumerate(deque([2,5,7,8,3])):\n",
    "    print(f\"Ind:{ind}; val:{val}\")"
   ]
  },
  {
   "cell_type": "code",
   "execution_count": 126,
   "metadata": {},
   "outputs": [
    {
     "data": {
      "text/plain": [
       "{'a', 'b', 'c'}"
      ]
     },
     "execution_count": 126,
     "metadata": {},
     "output_type": "execute_result"
    }
   ],
   "source": [
    "set(\"abc\")"
   ]
  },
  {
   "cell_type": "code",
   "execution_count": 127,
   "metadata": {},
   "outputs": [],
   "source": [
    "# Minimum Window Substring\n",
    "# Given two strings s and t, return the shortest substring of s such that every character in t, including duplicates, is present in the substring. If such a substring does not exist, return an empty string \"\".\n",
    "\n",
    "# You may assume that the correct output is always unique.\n",
    "\n",
    "# Example 1:\n",
    "\n",
    "# Input: s = \"OUZODYXAZV\", t = \"XYZ\"\n",
    "\n",
    "# Output: \"YXAZ\"\n",
    "# Explanation: \"YXAZ\" is the shortest substring that includes \"X\", \"Y\", and \"Z\" from string t.\n",
    "\n",
    "# Example 2:\n",
    "\n",
    "# Input: s = \"xyz\", t = \"xyz\"\n",
    "\n",
    "# Output: \"xyz\"\n",
    "# Example 3:\n",
    "\n",
    "# Input: s = \"x\", t = \"xy\"\n",
    "\n",
    "# Output: \"\""
   ]
  },
  {
   "cell_type": "code",
   "execution_count": 168,
   "metadata": {},
   "outputs": [],
   "source": [
    "def minWindow(s: str, t: str) -> str:\n",
    "    t_rep = set(t)\n",
    "    left_index = 0\n",
    "    cur_set = {}\n",
    "    this_len = 0\n",
    "    best_len = len(s) + 1\n",
    "    for right_index, this_char in enumerate(s):\n",
    "        this_len += 1\n",
    "        if this_char in t_rep:\n",
    "            cur_set[this_char] = right_index ## note we will store the latest value only\n",
    "\n",
    "        while len(cur_set) >= len(t_rep):\n",
    "            print(f\"this str: {s[left_index:(right_index+1)]}\")\n",
    "            print(cur_set, this_len, left_index)\n",
    "            best_len = min(best_len,right_index+1 - left_index )\n",
    "            if s[left_index] not in t_rep:\n",
    "                print(f\"Happily shrink; Waste character {s[left_index]}\")\n",
    "                left_index = left_index + 1\n",
    "                this_len = this_len -1\n",
    "                #print(this_len)\n",
    "            elif cur_set[s[left_index]] > left_index:\n",
    "                print(f\"THis character {s[left_index]} has happeared later in the string as well, happily shrink\")\n",
    "                left_index = left_index +1\n",
    "                this_len = this_len - 1\n",
    "            else:\n",
    "                del cur_set[s[left_index]]\n",
    "                this_len = this_len - 1\n",
    "    return(best_len)"
   ]
  },
  {
   "cell_type": "code",
   "execution_count": 169,
   "metadata": {},
   "outputs": [
    {
     "name": "stdout",
     "output_type": "stream",
     "text": [
      "this str: OUZODYX\n",
      "{'Z': 2, 'Y': 5, 'X': 6} 7 0\n",
      "Happily shrink; Waste character O\n",
      "this str: UZODYX\n",
      "{'Z': 2, 'Y': 5, 'X': 6} 6 1\n",
      "Happily shrink; Waste character U\n",
      "this str: ZODYX\n",
      "{'Z': 2, 'Y': 5, 'X': 6} 5 2\n",
      "this str: ZODYXAZ\n",
      "{'Y': 5, 'X': 6, 'Z': 8} 6 2\n",
      "THis character Z has happeared later in the string as well, happily shrink\n",
      "this str: ODYXAZ\n",
      "{'Y': 5, 'X': 6, 'Z': 8} 5 3\n",
      "Happily shrink; Waste character O\n",
      "this str: DYXAZ\n",
      "{'Y': 5, 'X': 6, 'Z': 8} 4 4\n",
      "Happily shrink; Waste character D\n",
      "this str: YXAZ\n",
      "{'Y': 5, 'X': 6, 'Z': 8} 3 5\n"
     ]
    },
    {
     "data": {
      "text/plain": [
       "4"
      ]
     },
     "execution_count": 169,
     "metadata": {},
     "output_type": "execute_result"
    }
   ],
   "source": [
    "minWindow( s = \"OUZODYXAZV\", t = \"XYZ\")"
   ]
  },
  {
   "cell_type": "code",
   "execution_count": null,
   "metadata": {},
   "outputs": [],
   "source": []
  }
 ],
 "metadata": {
  "kernelspec": {
   "display_name": "Aurora",
   "language": "python",
   "name": "python3"
  },
  "language_info": {
   "codemirror_mode": {
    "name": "ipython",
    "version": 3
   },
   "file_extension": ".py",
   "mimetype": "text/x-python",
   "name": "python",
   "nbconvert_exporter": "python",
   "pygments_lexer": "ipython3",
   "version": "3.12.3"
  }
 },
 "nbformat": 4,
 "nbformat_minor": 2
}
