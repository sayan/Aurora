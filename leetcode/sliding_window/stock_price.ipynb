{
 "cells": [
  {
   "cell_type": "markdown",
   "metadata": {},
   "source": [
    "121. Best Time to Buy and Sell Stock\n",
    "Easy\n",
    "Topics\n",
    "Companies\n",
    "You are given an array prices where prices[i] is the price of a given stock on the ith day.\n",
    "\n",
    "You want to maximize your profit by choosing a single day to buy one stock and choosing a different day in the future to sell that stock.\n",
    "\n",
    "Return the maximum profit you can achieve from this transaction. If you cannot achieve any profit, return 0.\n",
    "\n",
    " \n",
    "\n",
    "Example 1:\n",
    "\n",
    "Input: prices = [7,1,5,3,6,4]\n",
    "Output: 5\n",
    "Explanation: Buy on day 2 (price = 1) and sell on day 5 (price = 6), profit = 6-1 = 5.\n",
    "Note that buying on day 2 and selling on day 1 is not allowed because you must buy before you sell.\n",
    "Example 2:\n",
    "\n",
    "Input: prices = [7,6,4,3,1]\n",
    "Output: 0\n",
    "Explanation: In this case, no transactions are done and the max profit = 0.\n"
   ]
  },
  {
   "cell_type": "markdown",
   "metadata": {},
   "source": []
  },
  {
   "cell_type": "code",
   "execution_count": 17,
   "metadata": {},
   "outputs": [],
   "source": [
    "\n",
    "\n",
    "# while buy_index < len(stock_price_list) -1 :\n",
    "#     buy_at = stock_price_list[buy_index]\n",
    "#     sell_at_index = buy_index + 1\n",
    "#     while sell_at_index < len(stock_price_list):\n",
    "#         sell_at = stock_price_list[sell_at_index]\n",
    "#         this_profit = sell_at - buy_at\n",
    "#         print(f\"profit by bying on day {buy_index} and selling on day {sell_at_index} earned you a profit of {this_profit}\")\n",
    "#         if this_profit < 0: \n",
    "#             ## we can buy at this point\n",
    "#             buy_index = sell_at_index - 1\n",
    "#             break\n",
    "        \n",
    "#         max_profit = max(max_profit, this_profit)\n",
    "#         sell_at_index += 1\n",
    "#     buy_index += 1\n",
    "    "
   ]
  },
  {
   "cell_type": "code",
   "execution_count": 29,
   "metadata": {},
   "outputs": [],
   "source": [
    "def max_profit(stock_price_list):\n",
    "    buy_index = 0\n",
    "    max_profit = 0\n",
    "    sell_index = 1\n",
    "\n",
    "    while sell_index < len(stock_price_list):\n",
    "        margin = stock_price_list[sell_index] - stock_price_list[buy_index]\n",
    "        print(f\"Bought at index {buy_index}, sold at index {sell_index} to make a profit {margin}\")\n",
    "        if margin <= 0:\n",
    "            ## moving buy_index \n",
    "            buy_index = sell_index\n",
    "            sell_index +=1 \n",
    "        else:\n",
    "            max_profit = max(max_profit, margin)\n",
    "            sell_index += 1\n",
    "    print(f\"done, max profit {max_profit}\")\n",
    "    return(max_profit)\n"
   ]
  },
  {
   "cell_type": "code",
   "execution_count": 30,
   "metadata": {},
   "outputs": [
    {
     "name": "stdout",
     "output_type": "stream",
     "text": [
      "Bought at index 0, sold at index 1 to make a profit -6\n",
      "Bought at index 1, sold at index 2 to make a profit 4\n",
      "Bought at index 1, sold at index 3 to make a profit 2\n",
      "Bought at index 1, sold at index 4 to make a profit 5\n",
      "Bought at index 1, sold at index 5 to make a profit 3\n",
      "done, max profit 5\n",
      "Bought at index 0, sold at index 1 to make a profit 1\n",
      "Bought at index 0, sold at index 2 to make a profit 2\n",
      "Bought at index 0, sold at index 3 to make a profit 3\n",
      "Bought at index 0, sold at index 4 to make a profit 4\n",
      "done, max profit 4\n",
      "Bought at index 0, sold at index 1 to make a profit -1\n",
      "Bought at index 1, sold at index 2 to make a profit -1\n",
      "Bought at index 2, sold at index 3 to make a profit -1\n",
      "Bought at index 3, sold at index 4 to make a profit -1\n",
      "done, max profit 0\n",
      "Bought at index 0, sold at index 1 to make a profit -1\n",
      "Bought at index 1, sold at index 2 to make a profit 2\n",
      "Bought at index 1, sold at index 3 to make a profit 0\n",
      "Bought at index 3, sold at index 4 to make a profit 5\n",
      "Bought at index 3, sold at index 5 to make a profit 4\n",
      "done, max profit 5\n"
     ]
    },
    {
     "data": {
      "text/plain": [
       "5"
      ]
     },
     "execution_count": 30,
     "metadata": {},
     "output_type": "execute_result"
    }
   ],
   "source": [
    "max_profit([7,1,5,3,6,4])    \n",
    "max_profit([1,2,3,4,5])\n",
    "max_profit([5,4,3,2,1])\n",
    "max_profit([3,2,4,2,7,6])"
   ]
  },
  {
   "cell_type": "code",
   "execution_count": 5,
   "metadata": {},
   "outputs": [],
   "source": [
    "import json\n",
    "data:dict = json.loads('{\"one\" : \"1\", \"two\" : \"2\", \"three\" : \"3\"}')"
   ]
  },
  {
   "cell_type": "code",
   "execution_count": 6,
   "metadata": {},
   "outputs": [
    {
     "data": {
      "text/plain": [
       "{'one': '1', 'two': '2', 'three': '3'}"
      ]
     },
     "execution_count": 6,
     "metadata": {},
     "output_type": "execute_result"
    }
   ],
   "source": [
    "data"
   ]
  },
  {
   "cell_type": "code",
   "execution_count": null,
   "metadata": {},
   "outputs": [],
   "source": []
  }
 ],
 "metadata": {
  "kernelspec": {
   "display_name": "Aurora",
   "language": "python",
   "name": "python3"
  },
  "language_info": {
   "codemirror_mode": {
    "name": "ipython",
    "version": 3
   },
   "file_extension": ".py",
   "mimetype": "text/x-python",
   "name": "python",
   "nbconvert_exporter": "python",
   "pygments_lexer": "ipython3",
   "version": "3.12.3"
  }
 },
 "nbformat": 4,
 "nbformat_minor": 2
}
