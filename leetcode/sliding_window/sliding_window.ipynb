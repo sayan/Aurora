{
 "cells": [
  {
   "cell_type": "code",
   "execution_count": 1,
   "metadata": {},
   "outputs": [],
   "source": [
    "import numpy as np"
   ]
  },
  {
   "cell_type": "code",
   "execution_count": 5,
   "metadata": {},
   "outputs": [
    {
     "data": {
      "text/plain": [
       "[48, 17, 27, 12, 8]"
      ]
     },
     "execution_count": 5,
     "metadata": {},
     "output_type": "execute_result"
    }
   ],
   "source": [
    "input_list = np.random.randint(0,50, 20).tolist()\n",
    "input_list[:5]"
   ]
  },
  {
   "cell_type": "code",
   "execution_count": 13,
   "metadata": {},
   "outputs": [
    {
     "name": "stdout",
     "output_type": "stream",
     "text": [
      "[48, 17, 27, 12, 8]\n",
      "[17, 27, 12, 8, 35]\n",
      "[27, 12, 8, 35, 47]\n",
      "[12, 8, 35, 47, 46]\n",
      "[8, 35, 47, 46, 19]\n",
      "[35, 47, 46, 19, 35]\n",
      "[47, 46, 19, 35, 13]\n",
      "[46, 19, 35, 13, 13]\n",
      "[19, 35, 13, 13, 17]\n",
      "[35, 13, 13, 17, 48]\n",
      "[13, 13, 17, 48, 8]\n",
      "[13, 17, 48, 8, 33]\n",
      "[17, 48, 8, 33, 16]\n",
      "[48, 8, 33, 16, 29]\n",
      "[8, 33, 16, 29, 16]\n"
     ]
    }
   ],
   "source": [
    "window_size = 5 \n",
    "cur_window = input_list[:window_size]\n",
    "for i in range(window_size, len(input_list)):\n",
    "    print(cur_window)\n",
    "    cur_window = cur_window[1:] + [input_list[i]]\n"
   ]
  },
  {
   "cell_type": "code",
   "execution_count": 11,
   "metadata": {},
   "outputs": [],
   "source": [
    "a = [1,2,3,4,6]"
   ]
  },
  {
   "cell_type": "code",
   "execution_count": 12,
   "metadata": {},
   "outputs": [
    {
     "data": {
      "text/plain": [
       "[2, 3, 4, 6, 7]"
      ]
     },
     "execution_count": 12,
     "metadata": {},
     "output_type": "execute_result"
    }
   ],
   "source": [
    "a[1:] + [7] "
   ]
  },
  {
   "cell_type": "code",
   "execution_count": 16,
   "metadata": {},
   "outputs": [
    {
     "name": "stdout",
     "output_type": "stream",
     "text": [
      "[1, 2, 3, 4, 5]\n",
      "[2, 3, 4, 5, 6]\n",
      "[3, 4, 5, 6, 7]\n",
      "[4, 5, 6, 7, 8]\n"
     ]
    }
   ],
   "source": [
    "from collections import deque\n",
    "\n",
    "def sliding_window_fixed(input_list, window_size):\n",
    "    cur_window = deque(input_list[:window_size])  # Initialize deque with first window\n",
    "    for i in range(window_size, len(input_list)):\n",
    "        print(list(cur_window))  # Print current window\n",
    "        cur_window.popleft()  # Remove the leftmost element (O(1))\n",
    "        cur_window.append(input_list[i])  # Add the new element (O(1))\n",
    "\n",
    "# Example usage\n",
    "input_list = [1, 2, 3, 4, 5, 6, 7, 8, 9]\n",
    "window_size = 5\n",
    "sliding_window_fixed(input_list, window_size)\n"
   ]
  },
  {
   "cell_type": "code",
   "execution_count": 22,
   "metadata": {},
   "outputs": [],
   "source": [
    "dq = deque(np.random.randint(2,10, 20).tolist())"
   ]
  },
  {
   "cell_type": "code",
   "execution_count": 24,
   "metadata": {},
   "outputs": [],
   "source": [
    "dq.rotate(2)"
   ]
  },
  {
   "cell_type": "code",
   "execution_count": 25,
   "metadata": {},
   "outputs": [
    {
     "data": {
      "text/plain": [
       "deque([8, 9, 9, 4, 4, 8, 4, 3, 9, 2, 9, 9, 5, 9, 4, 4, 7, 6, 9, 3])"
      ]
     },
     "execution_count": 25,
     "metadata": {},
     "output_type": "execute_result"
    }
   ],
   "source": [
    "dq"
   ]
  },
  {
   "cell_type": "code",
   "execution_count": 26,
   "metadata": {},
   "outputs": [],
   "source": [
    "dq.rotate(1)"
   ]
  },
  {
   "cell_type": "code",
   "execution_count": 27,
   "metadata": {},
   "outputs": [
    {
     "data": {
      "text/plain": [
       "deque([3, 8, 9, 9, 4, 4, 8, 4, 3, 9, 2, 9, 9, 5, 9, 4, 4, 7, 6, 9])"
      ]
     },
     "execution_count": 27,
     "metadata": {},
     "output_type": "execute_result"
    }
   ],
   "source": [
    "dq"
   ]
  },
  {
   "cell_type": "code",
   "execution_count": null,
   "metadata": {},
   "outputs": [],
   "source": []
  }
 ],
 "metadata": {
  "kernelspec": {
   "display_name": "Aurora",
   "language": "python",
   "name": "python3"
  },
  "language_info": {
   "codemirror_mode": {
    "name": "ipython",
    "version": 3
   },
   "file_extension": ".py",
   "mimetype": "text/x-python",
   "name": "python",
   "nbconvert_exporter": "python",
   "pygments_lexer": "ipython3",
   "version": "3.12.3"
  }
 },
 "nbformat": 4,
 "nbformat_minor": 2
}
