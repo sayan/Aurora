{
 "cells": [
  {
   "cell_type": "code",
   "execution_count": 1,
   "metadata": {},
   "outputs": [],
   "source": [
    "from typing import Optional, List, Tuple"
   ]
  },
  {
   "cell_type": "code",
   "execution_count": null,
   "metadata": {},
   "outputs": [],
   "source": [
    "# 53. Maximum Subarray\n",
    "# Medium\n",
    "# Topics\n",
    "# Companies\n",
    "# Given an integer array nums, find the subarray with the largest sum, and return its sum.\n",
    "\n",
    " \n",
    "\n",
    "# Example 1:\n",
    "\n",
    "# Input: nums = [-2,1,-3,4,-1,2,1,-5,4]\n",
    "# Output: 6\n",
    "# Explanation: The subarray [4,-1,2,1] has the largest sum 6.\n",
    "# Example 2:\n",
    "\n",
    "# Input: nums = [1]\n",
    "# Output: 1\n",
    "# Explanation: The subarray [1] has the largest sum 1.\n",
    "# Example 3:\n",
    "\n",
    "# Input: nums = [5,4,-1,7,8]\n",
    "# Output: 23\n",
    "# Explanation: The subarray [5,4,-1,7,8] has the largest sum 23."
   ]
  },
  {
   "cell_type": "code",
   "execution_count": 58,
   "metadata": {},
   "outputs": [],
   "source": [
    "def max_subarray(nums:List[int]) -> int:\n",
    "    l = 0\n",
    "    cur_max = float('-Inf')\n",
    "    cur_sum = 0\n",
    "    for r in range(len(nums)):\n",
    "        previous_sum = cur_sum\n",
    "        cur_sum = cur_sum + nums[r]\n",
    "        cur_max = max(cur_max, cur_sum)\n",
    "        print(f\"Looking into the window between [l]: {l},  [r]: {r}, window: {nums[l:r+1]}\")\n",
    "        while cur_sum < 0 and (l<=r):\n",
    "            print(f\"Shrinking the window: Because current sum {nums[l:r+1]} is negative\")\n",
    "            cur_sum = cur_sum - nums[l]\n",
    "            l = l +1\n",
    "    return cur_max\n"
   ]
  },
  {
   "cell_type": "code",
   "execution_count": null,
   "metadata": {},
   "outputs": [
    {
     "name": "stdout",
     "output_type": "stream",
     "text": [
      "Looking into the window between [l]: 0,  [r]: 0, window: [-2]\n",
      "Shrinking the window: Because current sum [-2] is negative\n",
      "Looking into the window between [l]: 1,  [r]: 1, window: [1]\n",
      "Looking into the window between [l]: 1,  [r]: 2, window: [1, -3]\n",
      "Shrinking the window: Because current sum [1, -3] is negative\n",
      "Shrinking the window: Because current sum [-3] is negative\n",
      "Looking into the window between [l]: 3,  [r]: 3, window: [4]\n",
      "Looking into the window between [l]: 3,  [r]: 4, window: [4, -1]\n",
      "Looking into the window between [l]: 3,  [r]: 5, window: [4, -1, 2]\n",
      "Looking into the window between [l]: 3,  [r]: 6, window: [4, -1, 2, 1]\n",
      "Looking into the window between [l]: 3,  [r]: 7, window: [4, -1, 2, 1, -5]\n",
      "Looking into the window between [l]: 3,  [r]: 8, window: [4, -1, 2, 1, -5, 4]\n"
     ]
    },
    {
     "data": {
      "text/plain": [
       "6"
      ]
     },
     "execution_count": 59,
     "metadata": {},
     "output_type": "execute_result"
    }
   ],
   "source": [
    "max_subarray([-2,1,-3,4,-1,2,1,-5,4])"
   ]
  },
  {
   "cell_type": "code",
   "execution_count": 61,
   "metadata": {},
   "outputs": [
    {
     "name": "stdout",
     "output_type": "stream",
     "text": [
      "Looking into the window between [l]: 0,  [r]: 0, window: [5]\n",
      "Looking into the window between [l]: 0,  [r]: 1, window: [5, 4]\n",
      "Looking into the window between [l]: 0,  [r]: 2, window: [5, 4, -1]\n",
      "Looking into the window between [l]: 0,  [r]: 3, window: [5, 4, -1, 7]\n",
      "Looking into the window between [l]: 0,  [r]: 4, window: [5, 4, -1, 7, 8]\n",
      "Looking into the window between [l]: 0,  [r]: 0, window: [-55]\n",
      "Shrinking the window: Because current sum [-55] is negative\n",
      "Looking into the window between [l]: 1,  [r]: 1, window: [-4]\n",
      "Shrinking the window: Because current sum [-4] is negative\n",
      "Looking into the window between [l]: 2,  [r]: 2, window: [-1]\n",
      "Shrinking the window: Because current sum [-1] is negative\n",
      "Looking into the window between [l]: 3,  [r]: 3, window: [-7]\n",
      "Shrinking the window: Because current sum [-7] is negative\n",
      "Looking into the window between [l]: 4,  [r]: 4, window: [-8]\n",
      "Shrinking the window: Because current sum [-8] is negative\n"
     ]
    },
    {
     "data": {
      "text/plain": [
       "-1"
      ]
     },
     "execution_count": 61,
     "metadata": {},
     "output_type": "execute_result"
    }
   ],
   "source": [
    "max_subarray([5,4,-1,7,8])\n",
    "max_subarray([-55,-4,-1,-7,-8])"
   ]
  },
  {
   "cell_type": "code",
   "execution_count": 35,
   "metadata": {},
   "outputs": [],
   "source": [
    "# Permutation in String\n",
    "# You are given two strings s1 and s2.\n",
    "\n",
    "# Return true if s2 contains a permutation of s1, or false otherwise. That means if a permutation of s1 exists as a substring of s2, then return true.\n",
    "\n",
    "# Both strings only contain lowercase letters.\n",
    "\n",
    "# Example 1:\n",
    "\n",
    "# Input: s1 = \"abc\", s2 = \"lecabee\"\n",
    "\n",
    "# Output: true\n",
    "# Explanation: The substring \"cab\" is a permutation of \"abc\" and is present in \"lecabee\".\n",
    "\n",
    "# Example 2:\n",
    "\n",
    "# Input: s1 = \"abc\", s2 = \"lecaabee\"\n",
    "\n",
    "# Output: false"
   ]
  },
  {
   "cell_type": "code",
   "execution_count": 41,
   "metadata": {},
   "outputs": [],
   "source": [
    "from collections import Counter\n",
    "test = Counter('asdf')\n",
    "test['a']  = test['a'] -1"
   ]
  },
  {
   "cell_type": "code",
   "execution_count": 43,
   "metadata": {},
   "outputs": [],
   "source": [
    "# Here's a simple problem that requires a **sliding window of dynamic length**, where you have to **expand and shrink** the window dynamically:\n",
    "\n",
    "# ---\n",
    "\n",
    "# ### **Problem: Smallest Subarray with Sum at Least `S`**\n",
    "# Given an array of positive integers `nums` and a positive integer `S`, find the **smallest contiguous subarray** whose sum is **at least `S`**. Return the length of this subarray. If no such subarray exists, return `0`.\n",
    "\n",
    "# #### **Example:**\n",
    "# ```python\n",
    "# Input: nums = [2, 3, 1, 2, 4, 3], S = 7\n",
    "# Output: 2\n",
    "# Explanation: The subarray [4, 3] has sum ≥ 7 and is the smallest.\n",
    "# ```\n",
    "\n",
    "# #### **Approach:**\n",
    "# - Use the **sliding window technique** with a **dynamic window size**.\n",
    "# - Expand the window by **moving the right pointer** to increase the sum.\n",
    "# - Once the sum **exceeds or equals `S`**, try **shrinking** the window from the left to find the minimal length.\n",
    "\n",
    "# ---\n",
    "\n",
    "# ### **Your Task:**\n",
    "# Write a Python function using a **while loop** to expand and shrink the window dynamically.\n",
    "\n",
    "# Want me to guide you through the implementation? Or would you like to try it first and then get feedback?"
   ]
  },
  {
   "cell_type": "code",
   "execution_count": 55,
   "metadata": {},
   "outputs": [],
   "source": [
    "def smallest_subarray_with_target(nums:List[int], target):\n",
    "    l = 0 \n",
    "    n = len(nums)\n",
    "    best_subarray_len = n + 1\n",
    "    cur_sum = 0 \n",
    "    for r in range(n):\n",
    "        cur_sum = cur_sum + nums[r]\n",
    "        print(f\"Looking in index l: {l}; r: {r}; {nums[l:r+1]}; Sum: {cur_sum}\")\n",
    "        while (cur_sum >= target) and (l <= r):\n",
    "            print(f\"Looking in index l: {l}; r: {r}; {nums[l:r+1]}; Sum: {cur_sum}\")\n",
    "            best_subarray_len = min(best_subarray_len, r + 1 -l)\n",
    "            print(f\"Cur Sum: {cur_sum} >= target {target}. Recorded it and shrinking the window\")\n",
    "            cur_sum = cur_sum - nums[l]\n",
    "            l = l + 1\n",
    "    return(best_subarray_len)"
   ]
  },
  {
   "cell_type": "code",
   "execution_count": 56,
   "metadata": {},
   "outputs": [
    {
     "name": "stdout",
     "output_type": "stream",
     "text": [
      "Looking in index l: 0; r: 0; [2]; Sum: 2\n",
      "Looking in index l: 0; r: 1; [2, 3]; Sum: 5\n",
      "Looking in index l: 0; r: 2; [2, 3, 1]; Sum: 6\n",
      "Looking in index l: 0; r: 3; [2, 3, 1, 2]; Sum: 8\n",
      "Looking in index l: 0; r: 3; [2, 3, 1, 2]; Sum: 8\n",
      "Cur Sum: 8 >= target 7. Recorded it and shrinking the window\n",
      "Looking in index l: 1; r: 4; [3, 1, 2, 4]; Sum: 10\n",
      "Looking in index l: 1; r: 4; [3, 1, 2, 4]; Sum: 10\n",
      "Cur Sum: 10 >= target 7. Recorded it and shrinking the window\n",
      "Looking in index l: 2; r: 4; [1, 2, 4]; Sum: 7\n",
      "Cur Sum: 7 >= target 7. Recorded it and shrinking the window\n",
      "Looking in index l: 3; r: 5; [2, 4, 3]; Sum: 9\n",
      "Looking in index l: 3; r: 5; [2, 4, 3]; Sum: 9\n",
      "Cur Sum: 9 >= target 7. Recorded it and shrinking the window\n",
      "Looking in index l: 4; r: 5; [4, 3]; Sum: 7\n",
      "Cur Sum: 7 >= target 7. Recorded it and shrinking the window\n"
     ]
    },
    {
     "data": {
      "text/plain": [
       "2"
      ]
     },
     "execution_count": 56,
     "metadata": {},
     "output_type": "execute_result"
    }
   ],
   "source": [
    "smallest_subarray_with_target(nums = [2, 3, 1, 2, 4, 3], target = 7)"
   ]
  },
  {
   "cell_type": "code",
   "execution_count": null,
   "metadata": {},
   "outputs": [],
   "source": []
  },
  {
   "cell_type": "code",
   "execution_count": 63,
   "metadata": {},
   "outputs": [
    {
     "ename": "TypeError",
     "evalue": "unhashable type: 'Counter'",
     "output_type": "error",
     "traceback": [
      "\u001b[0;31m---------------------------------------------------------------------------\u001b[0m",
      "\u001b[0;31mTypeError\u001b[0m                                 Traceback (most recent call last)",
      "Cell \u001b[0;32mIn[63], line 2\u001b[0m\n\u001b[1;32m      1\u001b[0m a \u001b[38;5;241m=\u001b[39m \u001b[38;5;28mdict\u001b[39m()\n\u001b[0;32m----> 2\u001b[0m \u001b[43ma\u001b[49m\u001b[43m[\u001b[49m\u001b[43mCounter\u001b[49m\u001b[43m(\u001b[49m\u001b[38;5;124;43m'\u001b[39;49m\u001b[38;5;124;43msdfa\u001b[39;49m\u001b[38;5;124;43m'\u001b[39;49m\u001b[43m)\u001b[49m\u001b[43m]\u001b[49m \u001b[38;5;241m=\u001b[39m \u001b[38;5;241m1\u001b[39m\n",
      "\u001b[0;31mTypeError\u001b[0m: unhashable type: 'Counter'"
     ]
    }
   ],
   "source": [
    "a = dict()\n",
    "a[Counter('sdfa')] = 1"
   ]
  },
  {
   "cell_type": "code",
   "execution_count": 64,
   "metadata": {},
   "outputs": [
    {
     "data": {
      "text/plain": [
       "{}"
      ]
     },
     "execution_count": 64,
     "metadata": {},
     "output_type": "execute_result"
    }
   ],
   "source": [
    "a"
   ]
  },
  {
   "cell_type": "code",
   "execution_count": null,
   "metadata": {},
   "outputs": [],
   "source": []
  }
 ],
 "metadata": {
  "kernelspec": {
   "display_name": "Aurora",
   "language": "python",
   "name": "python3"
  },
  "language_info": {
   "codemirror_mode": {
    "name": "ipython",
    "version": 3
   },
   "file_extension": ".py",
   "mimetype": "text/x-python",
   "name": "python",
   "nbconvert_exporter": "python",
   "pygments_lexer": "ipython3",
   "version": "3.12.3"
  }
 },
 "nbformat": 4,
 "nbformat_minor": 2
}
