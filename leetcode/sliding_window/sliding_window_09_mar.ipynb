{
 "cells": [
  {
   "cell_type": "code",
   "execution_count": 1,
   "metadata": {},
   "outputs": [],
   "source": [
    "from typing import List, Optional, Tuple\n",
    "from collections import Counter, deque"
   ]
  },
  {
   "cell_type": "code",
   "execution_count": 2,
   "metadata": {},
   "outputs": [],
   "source": [
    "# Problem: Longest Substring Without Repeating Characters\n",
    "\n",
    "# Description:\n",
    "# Given a string s, write a Python function to find the length of the longest substring that does not contain any repeating characters. The challenge is to accomplish this using the sliding window technique.\n",
    "\n",
    "# Example Cases:\n",
    "\n",
    "# Input: s = \"abcabcbb\"\n",
    "# Output: 3\n",
    "# Explanation: The longest substring without repeating characters is \"abc\".\n",
    "\n",
    "# Input: s = \"bbbbb\"\n",
    "# Output: 1\n",
    "# Explanation: The longest substring without repeating characters is \"b\".\n",
    "\n",
    "# Input: s = \"pwwkew\"\n",
    "# Output: 3\n",
    "# Explanation: The longest substring without repeating characters is \"wke\"."
   ]
  },
  {
   "cell_type": "code",
   "execution_count": 17,
   "metadata": {},
   "outputs": [],
   "source": [
    "def longest_substring_without_repeating_chars(s:str) -> int:\n",
    "    l_ind = 0\n",
    "    str_len = len(s)\n",
    "    this_set = set()\n",
    "    best_result = 0\n",
    "    for r_ind,r_charval in enumerate(s):\n",
    "        print(f\"Left Index: {[l_ind]}; Right Index: {[r_ind]}; s_window: {s[l_ind: (r_ind+1)]}\")\n",
    "        while r_charval in this_set:\n",
    "            print(f\"Set: {this_set}\")\n",
    "            print(f\"Character {r_charval} alread exists in the string {s[l_ind: (r_ind)]}; We will start shrinking the window by moving it from left\")\n",
    "            print(f\"We will shrink till this character is a new member of the set. But before that lets record the result\")\n",
    "            cur_result = len(this_set)\n",
    "            best_result = max(best_result, cur_result)\n",
    "            this_set.remove(s[l_ind])\n",
    "            l_ind += 1\n",
    "        this_set.add(r_charval)\n",
    "    return(best_result)\n",
    "\n"
   ]
  },
  {
   "cell_type": "code",
   "execution_count": 18,
   "metadata": {},
   "outputs": [
    {
     "name": "stdout",
     "output_type": "stream",
     "text": [
      "Left Index: [0]; Right Index: [0]; s_window: a\n",
      "Left Index: [0]; Right Index: [1]; s_window: ab\n",
      "Left Index: [0]; Right Index: [2]; s_window: abc\n",
      "Left Index: [0]; Right Index: [3]; s_window: abca\n",
      "Set: {'c', 'a', 'b'}\n",
      "Character a alread exists in the string abc; We will start shrinking the window by moving it from left\n",
      "We will shrink till this character is a new member of the set. But before that lets record the result\n",
      "Left Index: [1]; Right Index: [4]; s_window: bcab\n",
      "Set: {'c', 'a', 'b'}\n",
      "Character b alread exists in the string bca; We will start shrinking the window by moving it from left\n",
      "We will shrink till this character is a new member of the set. But before that lets record the result\n",
      "Left Index: [2]; Right Index: [5]; s_window: cabc\n",
      "Set: {'c', 'a', 'b'}\n",
      "Character c alread exists in the string cab; We will start shrinking the window by moving it from left\n",
      "We will shrink till this character is a new member of the set. But before that lets record the result\n",
      "Left Index: [3]; Right Index: [6]; s_window: abcb\n",
      "Set: {'c', 'a', 'b'}\n",
      "Character b alread exists in the string abc; We will start shrinking the window by moving it from left\n",
      "We will shrink till this character is a new member of the set. But before that lets record the result\n",
      "Set: {'c', 'b'}\n",
      "Character b alread exists in the string bc; We will start shrinking the window by moving it from left\n",
      "We will shrink till this character is a new member of the set. But before that lets record the result\n",
      "Left Index: [5]; Right Index: [7]; s_window: cbb\n",
      "Set: {'c', 'b'}\n",
      "Character b alread exists in the string cb; We will start shrinking the window by moving it from left\n",
      "We will shrink till this character is a new member of the set. But before that lets record the result\n",
      "Set: {'b'}\n",
      "Character b alread exists in the string b; We will start shrinking the window by moving it from left\n",
      "We will shrink till this character is a new member of the set. But before that lets record the result\n"
     ]
    },
    {
     "data": {
      "text/plain": [
       "3"
      ]
     },
     "execution_count": 18,
     "metadata": {},
     "output_type": "execute_result"
    }
   ],
   "source": [
    "longest_substring_without_repeating_chars(s = \"abcabcbb\")"
   ]
  },
  {
   "cell_type": "code",
   "execution_count": 19,
   "metadata": {},
   "outputs": [
    {
     "name": "stdout",
     "output_type": "stream",
     "text": [
      "Left Index: [0]; Right Index: [0]; s_window: p\n",
      "Left Index: [0]; Right Index: [1]; s_window: pw\n",
      "Left Index: [0]; Right Index: [2]; s_window: pww\n",
      "Set: {'p', 'w'}\n",
      "Character w alread exists in the string pw; We will start shrinking the window by moving it from left\n",
      "We will shrink till this character is a new member of the set. But before that lets record the result\n",
      "Set: {'w'}\n",
      "Character w alread exists in the string w; We will start shrinking the window by moving it from left\n",
      "We will shrink till this character is a new member of the set. But before that lets record the result\n",
      "Left Index: [2]; Right Index: [3]; s_window: wk\n",
      "Left Index: [2]; Right Index: [4]; s_window: wke\n",
      "Left Index: [2]; Right Index: [5]; s_window: wkew\n",
      "Set: {'w', 'k', 'e'}\n",
      "Character w alread exists in the string wke; We will start shrinking the window by moving it from left\n",
      "We will shrink till this character is a new member of the set. But before that lets record the result\n"
     ]
    },
    {
     "data": {
      "text/plain": [
       "3"
      ]
     },
     "execution_count": 19,
     "metadata": {},
     "output_type": "execute_result"
    }
   ],
   "source": [
    "longest_substring_without_repeating_chars( s = \"pwwkew\")"
   ]
  },
  {
   "cell_type": "code",
   "execution_count": 20,
   "metadata": {},
   "outputs": [],
   "source": [
    "# 1. Minimum Window Substring\n",
    "# Problem Statement:\n",
    "# Given two strings s and t, find the minimum window in s which will contain all the characters in t (including duplicates). If no such substring exists, return an empty string.\n",
    "\n",
    "# Example:\n",
    "\n",
    "# Input: s = \"ADOBECODEBANC\", t = \"ABC\"\n",
    "# Output: \"BANC\""
   ]
  },
  {
   "cell_type": "code",
   "execution_count": null,
   "metadata": {},
   "outputs": [],
   "source": [
    "def check_if_substring(s1:Counter, s2:Counter) -> bool:\n",
    "    ## We want to check if s1 contains everything of s2 and more\n",
    "    print(f\"We want to check if {s1} contains everything of {s2} and more\")\n",
    "    for k, v in s2.items():\n",
    "        if not k in s1:\n",
    "            return False\n",
    "        if not s1[k] >= v:\n",
    "            return False\n",
    "    return(True)\n",
    "\n",
    "\n",
    "\n",
    "\n",
    "def minimum_window_substring(s:str, t:str) -> str:\n",
    "    t_rep = Counter(t)\n",
    "    cur_string_counter = Counter()\n",
    "    l_index = 0\n",
    "    smallest_len = len(s) +1\n",
    "    cur_best_string = \"\"\n",
    "\n",
    "    for r_index, r_index_val in enumerate(s):\n",
    "        cur_string_counter[r_index_val] = cur_string_counter.get(r_index_val,0) + 1\n",
    "        while check_if_substring(cur_string_counter, t_rep):\n",
    "            print(f\"We have found a substring {s[l_index:r_index+1]}\")\n",
    "            this_str_len = r_index + 1 - l_index\n",
    "            if this_str_len < smallest_len:\n",
    "                smallest_len = this_str_len\n",
    "                cur_best_string = s[l_index:r_index+1]\n",
    "                ## shrink the window to see if we can do better\n",
    "            print(cur_string_counter[s[l_index]])\n",
    "            cur_string_counter[s[l_index]] = cur_string_counter[s[l_index]] - 1\n",
    "            print(cur_string_counter[s[l_index]])\n",
    "            l_index += 1\n",
    "                \n",
    "\n",
    "    return cur_best_string\n"
   ]
  },
  {
   "cell_type": "code",
   "execution_count": 67,
   "metadata": {},
   "outputs": [
    {
     "name": "stdout",
     "output_type": "stream",
     "text": [
      "We want to check if Counter({'A': 2, 'B': 1, 'N': 1, 'C': 1}) contains everything of Counter({'A': 2, 'B': 1, 'C': 1}) and more\n"
     ]
    },
    {
     "data": {
      "text/plain": [
       "True"
      ]
     },
     "execution_count": 67,
     "metadata": {},
     "output_type": "execute_result"
    }
   ],
   "source": [
    "check_if_substring(Counter(\"BANCA\"),Counter(\"ABCA\"))"
   ]
  },
  {
   "cell_type": "code",
   "execution_count": 68,
   "metadata": {},
   "outputs": [
    {
     "name": "stdout",
     "output_type": "stream",
     "text": [
      "We want to check if Counter({'A': 1}) contains everything of Counter({'A': 1, 'B': 1, 'C': 1}) and more\n",
      "We want to check if Counter({'A': 1, 'D': 1}) contains everything of Counter({'A': 1, 'B': 1, 'C': 1}) and more\n",
      "We want to check if Counter({'A': 1, 'D': 1, 'O': 1}) contains everything of Counter({'A': 1, 'B': 1, 'C': 1}) and more\n",
      "We want to check if Counter({'A': 1, 'D': 1, 'O': 1, 'B': 1}) contains everything of Counter({'A': 1, 'B': 1, 'C': 1}) and more\n",
      "We want to check if Counter({'A': 1, 'D': 1, 'O': 1, 'B': 1, 'E': 1}) contains everything of Counter({'A': 1, 'B': 1, 'C': 1}) and more\n",
      "We want to check if Counter({'A': 1, 'D': 1, 'O': 1, 'B': 1, 'E': 1, 'C': 1}) contains everything of Counter({'A': 1, 'B': 1, 'C': 1}) and more\n",
      "We have found a substring ADOBEC\n",
      "1\n",
      "0\n",
      "We want to check if Counter({'D': 1, 'O': 1, 'B': 1, 'E': 1, 'C': 1, 'A': 0}) contains everything of Counter({'A': 1, 'B': 1, 'C': 1}) and more\n",
      "We want to check if Counter({'O': 2, 'D': 1, 'B': 1, 'E': 1, 'C': 1, 'A': 0}) contains everything of Counter({'A': 1, 'B': 1, 'C': 1}) and more\n",
      "We want to check if Counter({'D': 2, 'O': 2, 'B': 1, 'E': 1, 'C': 1, 'A': 0}) contains everything of Counter({'A': 1, 'B': 1, 'C': 1}) and more\n",
      "We want to check if Counter({'D': 2, 'O': 2, 'E': 2, 'B': 1, 'C': 1, 'A': 0}) contains everything of Counter({'A': 1, 'B': 1, 'C': 1}) and more\n",
      "We want to check if Counter({'D': 2, 'O': 2, 'B': 2, 'E': 2, 'C': 1, 'A': 0}) contains everything of Counter({'A': 1, 'B': 1, 'C': 1}) and more\n",
      "We want to check if Counter({'D': 2, 'O': 2, 'B': 2, 'E': 2, 'A': 1, 'C': 1}) contains everything of Counter({'A': 1, 'B': 1, 'C': 1}) and more\n",
      "We have found a substring DOBECODEBA\n",
      "2\n",
      "1\n",
      "We want to check if Counter({'O': 2, 'B': 2, 'E': 2, 'A': 1, 'D': 1, 'C': 1}) contains everything of Counter({'A': 1, 'B': 1, 'C': 1}) and more\n",
      "We have found a substring OBECODEBA\n",
      "2\n",
      "1\n",
      "We want to check if Counter({'B': 2, 'E': 2, 'A': 1, 'D': 1, 'O': 1, 'C': 1}) contains everything of Counter({'A': 1, 'B': 1, 'C': 1}) and more\n",
      "We have found a substring BECODEBA\n",
      "2\n",
      "1\n",
      "We want to check if Counter({'E': 2, 'A': 1, 'D': 1, 'O': 1, 'B': 1, 'C': 1}) contains everything of Counter({'A': 1, 'B': 1, 'C': 1}) and more\n",
      "We have found a substring ECODEBA\n",
      "2\n",
      "1\n",
      "We want to check if Counter({'A': 1, 'D': 1, 'O': 1, 'B': 1, 'E': 1, 'C': 1}) contains everything of Counter({'A': 1, 'B': 1, 'C': 1}) and more\n",
      "We have found a substring CODEBA\n",
      "1\n",
      "0\n",
      "We want to check if Counter({'A': 1, 'D': 1, 'O': 1, 'B': 1, 'E': 1, 'C': 0}) contains everything of Counter({'A': 1, 'B': 1, 'C': 1}) and more\n",
      "We want to check if Counter({'A': 1, 'D': 1, 'O': 1, 'B': 1, 'E': 1, 'N': 1, 'C': 0}) contains everything of Counter({'A': 1, 'B': 1, 'C': 1}) and more\n",
      "We want to check if Counter({'A': 1, 'D': 1, 'O': 1, 'B': 1, 'E': 1, 'C': 1, 'N': 1}) contains everything of Counter({'A': 1, 'B': 1, 'C': 1}) and more\n",
      "We have found a substring ODEBANC\n",
      "1\n",
      "0\n",
      "We want to check if Counter({'A': 1, 'D': 1, 'B': 1, 'E': 1, 'C': 1, 'N': 1, 'O': 0}) contains everything of Counter({'A': 1, 'B': 1, 'C': 1}) and more\n",
      "We have found a substring DEBANC\n",
      "1\n",
      "0\n",
      "We want to check if Counter({'A': 1, 'B': 1, 'E': 1, 'C': 1, 'N': 1, 'D': 0, 'O': 0}) contains everything of Counter({'A': 1, 'B': 1, 'C': 1}) and more\n",
      "We have found a substring EBANC\n",
      "1\n",
      "0\n",
      "We want to check if Counter({'A': 1, 'B': 1, 'C': 1, 'N': 1, 'D': 0, 'O': 0, 'E': 0}) contains everything of Counter({'A': 1, 'B': 1, 'C': 1}) and more\n",
      "We have found a substring BANC\n",
      "1\n",
      "0\n",
      "We want to check if Counter({'A': 1, 'C': 1, 'N': 1, 'D': 0, 'O': 0, 'B': 0, 'E': 0}) contains everything of Counter({'A': 1, 'B': 1, 'C': 1}) and more\n"
     ]
    },
    {
     "data": {
      "text/plain": [
       "'BANC'"
      ]
     },
     "execution_count": 68,
     "metadata": {},
     "output_type": "execute_result"
    }
   ],
   "source": [
    "minimum_window_substring(s = \"ADOBECODEBANC\", t = \"ABC\")"
   ]
  },
  {
   "cell_type": "code",
   "execution_count": 69,
   "metadata": {},
   "outputs": [],
   "source": [
    "# 4. Longest Subarray with Sum at Most k\n",
    "# Problem Statement:\n",
    "# Given an array of positive integers and an integer k, determine the length of the longest contiguous subarray whose sum is less than or equal to k.\n",
    "\n",
    "# Example:\n",
    "\n",
    "# Input: nums = [1, 2, 3, 4, 5], k = 9\n",
    "# Output: 3\n",
    "# Explanation: The subarray [2, 3, 4] has a sum of 9, which is the longest such subarray under the given condition.\n"
   ]
  },
  {
   "cell_type": "code",
   "execution_count": 71,
   "metadata": {},
   "outputs": [],
   "source": [
    "def longest_sub_array_with_sum(nums:List[int], k:int) -> int:\n",
    "    cur_len_longest_sub_array = 0\n",
    "    this_sub_array_sum = 0\n",
    "    l_ind = 0\n",
    "    for r_ind, r_val in enumerate(nums):\n",
    "        this_sub_array_sum += r_val\n",
    "        while this_sub_array_sum > k:\n",
    "            this_sub_array_sum -= nums[l_ind]\n",
    "            l_ind = l_ind +1\n",
    "        this_array_len = r_ind + 1 - l_ind\n",
    "        cur_len_longest_sub_array = max(cur_len_longest_sub_array,this_array_len)\n",
    "    return cur_len_longest_sub_array\n"
   ]
  },
  {
   "cell_type": "code",
   "execution_count": 72,
   "metadata": {},
   "outputs": [
    {
     "data": {
      "text/plain": [
       "3"
      ]
     },
     "execution_count": 72,
     "metadata": {},
     "output_type": "execute_result"
    }
   ],
   "source": [
    "longest_sub_array_with_sum(nums = [1, 2, 3, 4, 5], k = 9)"
   ]
  },
  {
   "cell_type": "code",
   "execution_count": 73,
   "metadata": {},
   "outputs": [],
   "source": [
    "# 3. Sliding Window Maximum\n",
    "# Problem Statement:\n",
    "# Given an array of integers and a window size k, return an array containing the maximum value in each sliding window as it moves from left to right.\n",
    "\n",
    "# Example:\n",
    "\n",
    "# Input: nums = [1, 3, -1, -3, 5, 3, 6, 7], k = 3\n",
    "# Output: [3, 3, 5, 5, 6, 7]"
   ]
  },
  {
   "cell_type": "code",
   "execution_count": null,
   "metadata": {},
   "outputs": [
    {
     "ename": "SyntaxError",
     "evalue": "expected ':' (908038201.py, line 1)",
     "output_type": "error",
     "traceback": [
      "\u001b[0;36m  Cell \u001b[0;32mIn[75], line 1\u001b[0;36m\u001b[0m\n\u001b[0;31m    def sliding_window_maximum(nums:List[int], k)\u001b[0m\n\u001b[0m                                                 ^\u001b[0m\n\u001b[0;31mSyntaxError\u001b[0m\u001b[0;31m:\u001b[0m expected ':'\n"
     ]
    }
   ],
   "source": [
    "def sliding_window_maximum(nums:List[int], k:int) -> int:\n",
    "    l_ind = 0\n",
    "    max_result = []\n",
    "    window_deque = deque([])\n",
    "    for r_ind, r_val in enumerate(nums):\n",
    "        if window_deque \n",
    "        \n"
   ]
  },
  {
   "cell_type": "code",
   "execution_count": 76,
   "metadata": {},
   "outputs": [],
   "source": [
    "# Daily Temperatures\n",
    "# You are given an array of integers temperatures where temperatures[i] represents the daily temperatures on the ith day.\n",
    "\n",
    "# Return an array result where result[i] is the number of days after the ith day before a warmer temperature appears on a future day. If there is no day in the future where a warmer temperature will appear for the ith day, set result[i] to 0 instead."
   ]
  },
  {
   "cell_type": "code",
   "execution_count": null,
   "metadata": {},
   "outputs": [],
   "source": [
    "class Solution:\n",
    "    def dailyTemperatures(self,temperatures: List[int]) -> List[int]:\n",
    "        temperature_q = deque([])\n",
    "        result = [0] * len(temperatures)\n",
    "        for ind, temp in enumerate(temperatures):\n",
    "            while temperature_q and temp > temperatures[temperature_q[-1]]:\n",
    "                result[temperature_q[-1]] = ind - temperature_q[-1]\n",
    "                temperature_q.pop()\n",
    "            temperature_q.append(ind)\n",
    "        return result"
   ]
  },
  {
   "cell_type": "code",
   "execution_count": null,
   "metadata": {},
   "outputs": [],
   "source": [
    "def generateParenthesis(self, n: int) -> List[str]:\n",
    "    \n",
    "    pass\n"
   ]
  }
 ],
 "metadata": {
  "kernelspec": {
   "display_name": "Aurora",
   "language": "python",
   "name": "python3"
  },
  "language_info": {
   "codemirror_mode": {
    "name": "ipython",
    "version": 3
   },
   "file_extension": ".py",
   "mimetype": "text/x-python",
   "name": "python",
   "nbconvert_exporter": "python",
   "pygments_lexer": "ipython3",
   "version": "3.12.3"
  }
 },
 "nbformat": 4,
 "nbformat_minor": 2
}
