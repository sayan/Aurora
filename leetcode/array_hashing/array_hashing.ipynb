{
 "cells": [
  {
   "cell_type": "code",
   "execution_count": 26,
   "metadata": {},
   "outputs": [],
   "source": [
    "from typing import List, Optional\n",
    "from collections import Counter"
   ]
  },
  {
   "cell_type": "markdown",
   "metadata": {},
   "source": [
    "## ** Problem 1 Contains Duplicate**\n",
    "\n",
    "Given an integer array nums, return true if any value appears more than once in the array, otherwise return false.\n",
    "\n",
    "```python\n",
    "Example 1:\n",
    "\n",
    "Input: nums = [1, 2, 3, 3]\n",
    "\n",
    "Output: true\n",
    "\n",
    "Example 2:\n",
    "\n",
    "Input: nums = [1, 2, 3, 4]\n",
    "\n",
    "Output: false\n",
    "```"
   ]
  },
  {
   "cell_type": "code",
   "execution_count": 4,
   "metadata": {},
   "outputs": [],
   "source": [
    "def contains_duplicate(input_l:List) -> bool:\n",
    "    seen = set()\n",
    "    for elem in input_l:\n",
    "        if elem in seen:\n",
    "            return True\n",
    "        else:\n",
    "            seen.add(elem)\n",
    "    return(False)"
   ]
  },
  {
   "cell_type": "markdown",
   "metadata": {},
   "source": [
    "## ** Problem 2 Valid Anagram**\n",
    "\n",
    "### Description\n",
    "\n",
    "Given two strings s and t, return true if t is an anagram of s, and false otherwise.\n",
    "\n",
    "```python\n",
    "\n",
    "Input: s = \"anagram\", t = \"nagaram\"\n",
    "Output: true\n",
    "\n",
    "Input: s = \"racecar\", t = \"carrace\"\n",
    "Output: true\n",
    "\n",
    "Input: s = \"jar\", t = \"jam\"\n",
    "\n",
    "Output: false\n",
    "```\n"
   ]
  },
  {
   "cell_type": "code",
   "execution_count": 20,
   "metadata": {},
   "outputs": [
    {
     "data": {
      "text/plain": [
       "True"
      ]
     },
     "execution_count": 20,
     "metadata": {},
     "output_type": "execute_result"
    }
   ],
   "source": [
    "def valid_anagram(input_s1:str, input_s2:str) -> bool:\n",
    "    input_s1_repr = {}\n",
    "    input_s2_repr = {}\n",
    "\n",
    "    if not len(input_s1) == len(input_s2):\n",
    "        return False\n",
    "    \n",
    "    for chars in input_s1:\n",
    "        input_s1_repr[chars] = input_s1_repr.get(chars,0) + 1\n",
    "    for chars in input_s2:\n",
    "        input_s2_repr[chars] = input_s2_repr.get(chars,0) + 1\n",
    "    \n",
    "    return input_s1_repr == input_s2_repr\n",
    "\n",
    "valid_anagram( \"anagram\",\"nagaram\")   \n",
    "valid_anagram(\"jar\", \"jama\") \n",
    "\n",
    "\n",
    "def valid_anagram_2(s: str, t:str) -> bool:\n",
    "    if len(s) != len(t):\n",
    "        return False\n",
    "    else:\n",
    "        return( Counter(s) == Counter(t))\n",
    "    \n",
    "\n",
    "valid_anagram_2( \"anagram\",\"nagaram\")   \n",
    "#valid_anagram_2(\"jar\", \"jama\")     "
   ]
  },
  {
   "cell_type": "markdown",
   "metadata": {},
   "source": [
    "## ** two sum**\n",
    "\n",
    "### Description\n",
    "\n",
    "Given an array of integers nums and an integer target, return indices of the two numbers such that they add up to target. And you may not use the same element twice. You can return the answer in any order.\n",
    "\n",
    "You may assume that every input has exactly one pair of indices i and j that satisfy the condition.\n",
    "\n",
    "Return the answer with the smaller index first.\n",
    "\n",
    "```python\n",
    "Input: \n",
    "nums = [3,4,5,6], target = 7\n",
    "\n",
    "Output: [0,1]\n",
    "\n",
    "Input: nums = [4,5,6], target = 10\n",
    "\n",
    "Output: [0,2]\n",
    "\n",
    "Input: nums = [5,5], target = 10\n",
    "\n",
    "Output: [0,1]\n",
    "```"
   ]
  },
  {
   "cell_type": "code",
   "execution_count": 28,
   "metadata": {},
   "outputs": [
    {
     "data": {
      "text/plain": [
       "[0, 2]"
      ]
     },
     "execution_count": 28,
     "metadata": {},
     "output_type": "execute_result"
    }
   ],
   "source": [
    "def twoSums(l1: List[int], target: int) ->  Optional[List[int]]:\n",
    "    seen_d = {}\n",
    "\n",
    "    for idx, curnum in enumerate(l1):\n",
    "        remainder = target - curnum\n",
    "        if remainder in seen_d:\n",
    "            return([seen_d[remainder], idx])\n",
    "        else:\n",
    "            seen_d[curnum] = idx\n",
    "    return None\n",
    "        \n",
    "twoSums([3,4,5,6], target = 7)\n",
    "twoSums([4,5,6], target = 10)"
   ]
  },
  {
   "cell_type": "markdown",
   "metadata": {},
   "source": [
    "## **Group Anagrams**\n",
    "\n",
    "### Description\n",
    "Given an array of strings strs, group all anagrams together into sublists. You may return the output in any order.\n",
    "\n",
    "An anagram is a string that contains the exact same characters as another string, but the order of the characters can be different.\n",
    "\n",
    "### Test Cases\n",
    "\n",
    "```python\n",
    "\n",
    "Input: strs = [\"act\",\"pots\",\"tops\",\"cat\",\"stop\",\"hat\"]\n",
    "\n",
    "Output: [[\"hat\"],[\"act\", \"cat\"],[\"stop\", \"pots\", \"tops\"]]\n",
    "\n",
    "\n",
    "\n",
    "Input: strs = [\"x\"]\n",
    "\n",
    "Output: [[\"x\"]]\n",
    "\n",
    "\n",
    "Input: strs = [\"\"]\n",
    "\n",
    "Output: [[\"\"]]\n",
    "\n",
    "```\n"
   ]
  },
  {
   "cell_type": "code",
   "execution_count": 67,
   "metadata": {},
   "outputs": [],
   "source": [
    "from collections import Counter, defaultdict\n",
    "import json\n",
    "\n",
    "\n",
    "def group_anagram(strs : List[str]) -> List[List[str]]:\n",
    "    if len(strs) <= 1:\n",
    "        return([strs])\n",
    "    \n",
    "    hash_dict = {}\n",
    "    for input_str in strs:\n",
    "        str_rep = json.dumps(Counter(input_str),sort_keys=True)\n",
    "        hash_dict[str_rep] = hash_dict.get(str_rep,[]) + [input_str]\n",
    "    return(list(hash_dict.values()))"
   ]
  },
  {
   "cell_type": "code",
   "execution_count": 68,
   "metadata": {},
   "outputs": [
    {
     "data": {
      "text/plain": [
       "[[['hat']], [['act', 'cat']], [['stop', 'pots', 'tops']]]"
      ]
     },
     "execution_count": 68,
     "metadata": {},
     "output_type": "execute_result"
    }
   ],
   "source": [
    "group_anagram([[\"hat\"],[\"act\", \"cat\"],[\"stop\", \"pots\", \"tops\"]])"
   ]
  },
  {
   "cell_type": "markdown",
   "metadata": {},
   "source": [
    "## **Problem Top K Frequent Elements**\n",
    "Given an integer array nums and an integer k, return the k most frequent elements within the array.\n",
    "\n",
    "The test cases are generated such that the answer is always unique.\n",
    "\n",
    "You may return the output in any order.\n",
    "\n",
    "```python\n",
    "\n",
    "Input: nums = [1,2,2,3,3,3], k = 2\n",
    "\n",
    "Output: [2,3]\n",
    "Example 2:\n",
    "\n",
    "Input: nums = [7,7], k = 1\n",
    "\n",
    "Output: [7]\n",
    "Constraints:\n",
    "\n",
    "1 <= nums.length <= 10^4.\n",
    "-1000 <= nums[i] <= 1000\n",
    "1 <= k <= number of distinct elements in nums.\n",
    "```"
   ]
  },
  {
   "cell_type": "code",
   "execution_count": 77,
   "metadata": {},
   "outputs": [],
   "source": [
    "def topKFrequent(nums: List[int], k:int) -> List[int]:\n",
    "    count_dict = {}\n",
    "    for input_num in nums:\n",
    "        count_dict[input_num] = count_dict.get(input_num,0) +1\n",
    "    return(sorted(count_dict.items(), key=lambda x: x[1], reverse=True)[:k])\n"
   ]
  },
  {
   "cell_type": "code",
   "execution_count": 78,
   "metadata": {},
   "outputs": [
    {
     "data": {
      "text/plain": [
       "[(3, 3), (2, 2)]"
      ]
     },
     "execution_count": 78,
     "metadata": {},
     "output_type": "execute_result"
    }
   ],
   "source": [
    "topKFrequent(nums = [1,2,2,3,3,3], k = 2)"
   ]
  },
  {
   "cell_type": "markdown",
   "metadata": {},
   "source": [
    "## Encode and Decode Strings\n",
    "Design an algorithm to encode a list of strings to a single string. The encoded string is then decoded back to the original list of strings.\n",
    "\n",
    "Please implement encode and decode\n",
    "\n",
    "```python\n",
    "Input: [\"neet\",\"code\",\"love\",\"you\"]\n",
    "\n",
    "Output:[\"neet\",\"code\",\"love\",\"you\"]\n",
    "Example 2:\n",
    "\n",
    "Input: [\"we\",\"say\",\":\",\"yes\"]\n",
    "\n",
    "Output: [\"we\",\"say\",\":\",\"yes\"]\n",
    "Constraints:\n",
    "\n",
    "0 <= strs.length < 100\n",
    "0 <= strs[i].length < 200\n",
    "strs[i] contains only UTF-8 characters.\n",
    "```"
   ]
  },
  {
   "cell_type": "code",
   "execution_count": 88,
   "metadata": {},
   "outputs": [
    {
     "data": {
      "text/plain": [
       "{'a': 1, 'b': 3}"
      ]
     },
     "execution_count": 88,
     "metadata": {},
     "output_type": "execute_result"
    }
   ],
   "source": [
    "{'a': 1, 'b': 3}"
   ]
  },
  {
   "cell_type": "code",
   "execution_count": 133,
   "metadata": {},
   "outputs": [
    {
     "name": "stdout",
     "output_type": "stream",
     "text": [
      "5:4:neet4:code4:love3:you0:\n"
     ]
    }
   ],
   "source": [
    "import json\n",
    "def encode(input_str: List[str]) -> str:\n",
    "    num_words = str(len(input_str))\n",
    "    sep = \"\"\n",
    "    return(num_words + ':' +sep.join([f'{len(s)}:{s}' for s in input_str]))\n",
    "\n",
    "print(encode([\"neet\",\"code\",\"love\",\"you\", \"\"]))\n",
    "\n",
    "def decode(input_str:str) -> List[str]:\n",
    "    num_words = input_str.split(':')[0]\n",
    "    word_index_start = input_str.index(\":\")\n",
    "    words_list = []\n",
    "    cur_word = ''\n",
    "    input_str = input_str[word_index_start+1:]\n",
    "    while input_str:\n",
    "        split_indx = input_str.index(':')\n",
    "        cur_word_len = int(input_str[:split_indx])\n",
    "        print(f\"Cur word length:  {cur_word_len}\")\n",
    "        print(f\"Cur str:  {input_str}\")\n",
    "        this_word = input_str[split_indx+1: split_indx+1 + cur_word_len]\n",
    "        words_list.append(this_word)\n",
    "        input_str = input_str[split_indx+1 + cur_word_len:]\n",
    "        print(f\"this word {this_word}, input_str: {input_str}\")\n",
    "    return(words_list)\n",
    "\n",
    "    \n"
   ]
  },
  {
   "cell_type": "code",
   "execution_count": 137,
   "metadata": {},
   "outputs": [
    {
     "data": {
      "text/plain": [
       "-1"
      ]
     },
     "execution_count": 137,
     "metadata": {},
     "output_type": "execute_result"
    }
   ],
   "source": [
    "'asdfasd'.find('x')"
   ]
  },
  {
   "cell_type": "markdown",
   "metadata": {},
   "source": [
    "## Products of Array Except Self\n",
    "\n",
    "Given an integer array nums, return an array output where output[i] is the product of all the elements of nums except nums[i].\n",
    "\n",
    "Each product is guaranteed to fit in a 32-bit integer.\n"
   ]
  },
  {
   "cell_type": "code",
   "execution_count": 156,
   "metadata": {},
   "outputs": [],
   "source": [
    "def product_array_except_self(input_l:List[int]) -> List[int]:\n",
    "    left_prod = []\n",
    "    cur_left_prod = 1\n",
    "    for l in input_l:\n",
    "        left_prod.append(cur_left_prod)\n",
    "        cur_left_prod = cur_left_prod * l\n",
    "    \n",
    "    right_prod = []\n",
    "    cur_right_prod = 1\n",
    "    for l in input_l[::-1]:\n",
    "        right_prod.append(cur_right_prod)\n",
    "        cur_right_prod = cur_right_prod * l\n",
    "    out = []\n",
    "\n",
    "    print(left_prod, right_prod)\n",
    "    for i,j in zip (left_prod, right_prod[::-1]):\n",
    "        out.append(i * j)\n",
    "    \n",
    "    print(out)\n"
   ]
  },
  {
   "cell_type": "code",
   "execution_count": 160,
   "metadata": {},
   "outputs": [
    {
     "name": "stdout",
     "output_type": "stream",
     "text": [
      "[1, -1, 0, 0, 0] [1, 3, 6, 6, 0]\n",
      "[0, -6, 0, 0, 0]\n"
     ]
    }
   ],
   "source": [
    "product_array_except_self([-1,0,1,2,3])"
   ]
  },
  {
   "cell_type": "code",
   "execution_count": 158,
   "metadata": {},
   "outputs": [
    {
     "data": {
      "text/plain": [
       "720"
      ]
     },
     "execution_count": 158,
     "metadata": {},
     "output_type": "execute_result"
    }
   ],
   "source": [
    "3 * 2 *4 *6 * 5"
   ]
  },
  {
   "cell_type": "markdown",
   "metadata": {},
   "source": [
    "## Longest Consecutive Sequence\n",
    "\n",
    "Given an array of integers nums, return the length of the longest consecutive sequence of elements that can be formed.\n",
    "\n",
    "A consecutive sequence is a sequence of elements in which each element is exactly 1 greater than the previous element. The elements do not have to be consecutive in the original array.\n",
    "\n",
    "You must write an algorithm that runs in O(n) time.\n",
    "\n",
    "``` python\n",
    "Example 1:\n",
    "\n",
    "Input: nums = [2,20,4,10,3,4,5]\n",
    "\n",
    "Output: 4\n",
    "Explanation: The longest consecutive sequence is [2, 3, 4, 5].\n",
    "\n",
    "Example 2:\n",
    "\n",
    "Input: nums = [0,3,2,5,4,6,1,1]\n",
    "\n",
    "Output: 7\n",
    "```"
   ]
  },
  {
   "cell_type": "code",
   "execution_count": 188,
   "metadata": {},
   "outputs": [],
   "source": [
    "def longest_consecutive_sequence(input_l:List[int]) -> int:\n",
    "    input_set = set(input_l)\n",
    "    max_len = 0\n",
    "    max_array = []\n",
    "\n",
    "    for elem in input_set:\n",
    "        if elem -1 not in input_set:\n",
    "            cur_array = [elem]\n",
    "            cur_len = 1\n",
    "            while elem +1 in input_set:\n",
    "                cur_len += 1\n",
    "                cur_array = cur_array + [elem+1]\n",
    "                elem = elem +1\n",
    "                print(cur_array)\n",
    "            if cur_len > max_len:\n",
    "                max_len = cur_len\n",
    "                max_array = cur_array\n",
    "    return(max_len, max_array)\n",
    "\n",
    "\n"
   ]
  },
  {
   "cell_type": "code",
   "execution_count": 189,
   "metadata": {},
   "outputs": [
    {
     "name": "stdout",
     "output_type": "stream",
     "text": [
      "[2, 3]\n",
      "[2, 3, 4]\n",
      "[2, 3, 4, 5]\n"
     ]
    },
    {
     "data": {
      "text/plain": [
       "(4, [2, 3, 4, 5])"
      ]
     },
     "execution_count": 189,
     "metadata": {},
     "output_type": "execute_result"
    }
   ],
   "source": [
    "longest_consecutive_sequence([2,20,4,10,3,4,5])"
   ]
  },
  {
   "cell_type": "code",
   "execution_count": null,
   "metadata": {},
   "outputs": [],
   "source": []
  }
 ],
 "metadata": {
  "kernelspec": {
   "display_name": "Aurora",
   "language": "python",
   "name": "python3"
  },
  "language_info": {
   "codemirror_mode": {
    "name": "ipython",
    "version": 3
   },
   "file_extension": ".py",
   "mimetype": "text/x-python",
   "name": "python",
   "nbconvert_exporter": "python",
   "pygments_lexer": "ipython3",
   "version": "3.12.3"
  }
 },
 "nbformat": 4,
 "nbformat_minor": 2
}
