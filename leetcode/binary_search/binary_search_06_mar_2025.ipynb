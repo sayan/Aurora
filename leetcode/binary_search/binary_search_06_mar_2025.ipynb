{
 "cells": [
  {
   "cell_type": "code",
   "execution_count": 1,
   "metadata": {},
   "outputs": [],
   "source": [
    "from typing import List,Optional"
   ]
  },
  {
   "cell_type": "markdown",
   "metadata": {},
   "source": [
    "## Binary Search\n",
    "```python\n",
    "Given an array of integers nums which is sorted in ascending order, and an integer target, write a function to search target in nums. If target exists, then return its index. Otherwise, return -1.\n",
    "\n",
    "You must write an algorithm with O(log n) runtime complexity.\n",
    "```"
   ]
  },
  {
   "cell_type": "code",
   "execution_count": null,
   "metadata": {},
   "outputs": [],
   "source": [
    "def vanilla_binary_search(nums:List[int], target:int) -> int:\n",
    "    if len(nums) == 0:\n",
    "        return -1 \n",
    "\n",
    "    s_i = 0\n",
    "    e_i = len(nums) -1\n",
    "\n",
    "    while s_i <= e_i:\n",
    "        mid_i = (s_i + e_i) //2\n",
    "        if target == nums[mid_i]:\n",
    "            return mid_i\n",
    "        if target > nums[mid_i]:\n",
    "            s_i = mid_i + 1\n",
    "        else:\n",
    "            e_i = mid_i -1\n",
    "    return -1 \n"
   ]
  },
  {
   "cell_type": "code",
   "execution_count": null,
   "metadata": {},
   "outputs": [],
   "source": [
    "vanilla_binary_search( nums = [-1,0,3,5,9,12], target = 9)"
   ]
  },
  {
   "cell_type": "code",
   "execution_count": null,
   "metadata": {},
   "outputs": [],
   "source": [
    "# Find Minimum in Rotated Sorted Array\n",
    "# You are given an array of length n which was originally sorted in ascending order. It has now been rotated between 1 and n times. For example, the array nums = [1,2,3,4,5,6] might become:\n",
    "\n",
    "# [3,4,5,6,1,2] if it was rotated 4 times.\n",
    "# [1,2,3,4,5,6] if it was rotated 6 times.\n",
    "# Notice that rotating the array 4 times moves the last four elements of the array to the beginning. Rotating the array 6 times produces the original array.\n",
    "\n",
    "# Assuming all elements in the rotated sorted array nums are unique, return the minimum element of this array.\n",
    "\n",
    "# A solution that runs in O(n) time is trivial, can you write an algorithm that runs in O(log n) time?\n",
    "\n"
   ]
  },
  {
   "cell_type": "code",
   "execution_count": null,
   "metadata": {},
   "outputs": [],
   "source": [
    "def minimum_in_rotated_sorted_array(nums:List[int]) -> Optional[int]:\n",
    "    if len(nums) == 0:\n",
    "        return None\n",
    "    s_i = 0\n",
    "    e_i = len(nums) - 1 \n",
    "    while s_i <= e_i:\n",
    "        mid_i = (s_i + e_i)//2\n",
    "        print(f\"s: {s_i}; mid: {mid_i}; end:{e_i}\")\n",
    "        ## Check if the second half of the nums is sorted or rotated\n",
    "        if nums[e_i] > nums[mid_i]: ## implies this is sorted\n",
    "            e_i = mid_i\n",
    "        else: ## rotated; hence start will be in between\n",
    "            s_i = mid_i + 1\n",
    "    return nums[mid_i]\n"
   ]
  },
  {
   "cell_type": "code",
   "execution_count": null,
   "metadata": {},
   "outputs": [],
   "source": [
    "# 875. Koko Eating Bananas\n",
    "# Medium\n",
    "# Topics\n",
    "# Companies\n",
    "# Koko loves to eat bananas. There are n piles of bananas, the ith pile has piles[i] bananas. The guards have gone and will come back in h hours.\n",
    "\n",
    "# Koko can decide her bananas-per-hour eating speed of k. Each hour, she chooses some pile of bananas and eats k bananas from that pile. If the pile has less than k bananas, she eats all of them instead and will not eat any more bananas during this hour.\n",
    "\n",
    "# Koko likes to eat slowly but still wants to finish eating all the bananas before the guards return.\n",
    "\n",
    "# Return the minimum integer k such that she can eat all the bananas within h hours.\n",
    "\n",
    "# Input: piles = [3,6,7,11], h = 8\n",
    "# Output: 4"
   ]
  },
  {
   "cell_type": "code",
   "execution_count": null,
   "metadata": {},
   "outputs": [],
   "source": [
    "def get_num_hours(piles: List[int], speed:int) -> int:\n",
    "        hour_frac_per_pile = [divmod(bananas,speed) for bananas in piles]\n",
    "        hour_per_pile = [hour if frac ==0 else hour +1 for hour, frac in hour_frac_per_pile]\n",
    "        return(sum(hour_per_pile))\n",
    "\n",
    "\n",
    "def koko_eating_banana(piles: List[int], h:int) -> int:\n",
    "        if h < len(piles):\n",
    "                return None\n",
    "        piles.sort()\n",
    "        \n",
    "        low_speed = 1\n",
    "        high_speed = piles[-1]\n",
    "        \n",
    "        while low_speed <= high_speed:\n",
    "                \n",
    "                mid_speed = (low_speed + high_speed)//2\n",
    "                print(f\"Low: {low_speed}, mid: {mid_speed}, high: {high_speed}\")\n",
    "                hours_at_mid_speed = get_num_hours(piles, mid_speed)\n",
    "                if hours_at_mid_speed > h:\n",
    "                        print(\"Koko Need to speed up\")\n",
    "                        low_speed = mid_speed + 1\n",
    "                else:\n",
    "                        print(\"Koko Can afford to slow down\")\n",
    "                        high_speed = mid_speed - 1\n",
    "        return(low_speed)"
   ]
  },
  {
   "cell_type": "code",
   "execution_count": null,
   "metadata": {},
   "outputs": [],
   "source": [
    "koko_eating_banana(piles = [30,11,23,4,20], h = 6)"
   ]
  },
  {
   "cell_type": "code",
   "execution_count": null,
   "metadata": {},
   "outputs": [],
   "source": [
    "# 69. Sqrt(x)\n",
    "# Easy\n",
    "# Topics\n",
    "# Companies\n",
    "# Hint\n",
    "# Given a non-negative integer x, return the square root of x rounded down to the nearest integer. The returned integer should be non-negative as well.\n",
    "\n",
    "# You must not use any built-in exponent function or operator.\n",
    "\n",
    "# For example, do not use pow(x, 0.5) in c++ or x ** 0.5 in python.\n",
    " \n",
    "\n",
    "# Example 1:\n",
    "\n",
    "# Input: x = 4\n",
    "# Output: 2\n",
    "# Explanation: The square root of 4 is 2, so we return 2.\n",
    "# Example 2:\n",
    "\n",
    "# Input: x = 8\n",
    "# Output: 2\n",
    "# Explanation: The square root of 8 is 2.82842..., and since we round it down to the nearest integer, 2 is returned."
   ]
  },
  {
   "cell_type": "code",
   "execution_count": null,
   "metadata": {},
   "outputs": [],
   "source": [
    "def _custom_sqrt(num: int):\n",
    "    if num == 0:\n",
    "        return -1 \n",
    "    low_root = 1\n",
    "    high_root = num//2\n",
    "    while low_root <= high_root:\n",
    "        candidate_root = (low_root + high_root)//2\n",
    "        candidate_sq = candidate_root * candidate_root\n",
    "        if candidate_sq > num:\n",
    "            high_root = candidate_root -1\n",
    "        else:\n",
    "            low_root = candidate_root +1\n",
    "    print(low_root,candidate_root,high_root)\n",
    "    return high_root\n"
   ]
  },
  {
   "cell_type": "code",
   "execution_count": null,
   "metadata": {},
   "outputs": [],
   "source": [
    "_custom_sqrt(8)"
   ]
  },
  {
   "cell_type": "code",
   "execution_count": null,
   "metadata": {},
   "outputs": [],
   "source": [
    "# 1011. Capacity To Ship Packages Within D Days\n",
    "# Medium\n",
    "# Topics\n",
    "# Companies\n",
    "# Hint\n",
    "# A conveyor belt has packages that must be shipped from one port to another within days days.\n",
    "\n",
    "# The ith package on the conveyor belt has a weight of weights[i]. Each day, we load the ship with packages on the conveyor belt (in the order given by weights). We may not load more weight than the maximum weight capacity of the ship.\n",
    "\n",
    "# Return the least weight capacity of the ship that will result in all the packages on the conveyor belt being shipped within days days.\n",
    "\n",
    " \n",
    "\n",
    "# Example 1:\n",
    "\n",
    "# Input: weights = [1,2,3,4,5,6,7,8,9,10], days = 5\n",
    "# Output: 15\n",
    "# Explanation: A ship capacity of 15 is the minimum to ship all the packages in 5 days like this:\n",
    "# 1st day: 1, 2, 3, 4, 5\n",
    "# 2nd day: 6, 7\n",
    "# 3rd day: 8\n",
    "# 4th day: 9\n",
    "# 5th day: 10\n",
    "\n",
    "# Note that the cargo must be shipped in the order given, so using a ship of capacity 14 and splitting the packages into parts like (2, 3, 4, 5), (1, 6, 7), (8), (9), (10) is not allowed.\n",
    "# Example 2:\n",
    "\n",
    "# Input: weights = [3,2,2,4,1,4], days = 3\n",
    "# Output: 6\n",
    "# Explanation: A ship capacity of 6 is the minimum to ship all the packages in 3 days like this:\n",
    "# 1st day: 3, 2\n",
    "# 2nd day: 2, 4\n",
    "# 3rd day: 1, 4\n",
    "# Example 3:\n",
    "\n",
    "# Input: weights = [1,2,3,1,1], days = 4\n",
    "# Output: 3\n",
    "# Explanation:\n",
    "# 1st day: 1\n",
    "# 2nd day: 2\n",
    "# 3rd day: 3\n",
    "# 4th day: 1, 1\n",
    " "
   ]
  },
  {
   "cell_type": "code",
   "execution_count": 33,
   "metadata": {},
   "outputs": [],
   "source": [
    "def required_num_days(weights:List[int], capacity:int) -> Optional[int]:\n",
    "    \n",
    "    all_days = []\n",
    "    idx = 0\n",
    "    remaining_capacity = capacity\n",
    "    this_day = []\n",
    "\n",
    "    while idx <= len(weights) -1:\n",
    "            if weights[idx] > capacity:\n",
    "                  return None\n",
    "            if weights[idx] <= remaining_capacity:\n",
    "                  this_day.append(weights[idx])\n",
    "                  #print(remaining_capacity)\n",
    "                  remaining_capacity = remaining_capacity - weights[idx]\n",
    "                  #print(remaining_capacity)\n",
    "            else:\n",
    "                  all_days.append(this_day)\n",
    "                  this_day = [weights[idx]]\n",
    "                  remaining_capacity = capacity - weights[idx]\n",
    "            idx +=1\n",
    "    all_days.append(this_day)\n",
    "    #print(all_days)\n",
    "    return (len(all_days))\n",
    "\n",
    "      "
   ]
  },
  {
   "cell_type": "code",
   "execution_count": 34,
   "metadata": {},
   "outputs": [
    {
     "data": {
      "text/plain": [
       "1"
      ]
     },
     "execution_count": 34,
     "metadata": {},
     "output_type": "execute_result"
    }
   ],
   "source": [
    "required_num_days([6,9],15)"
   ]
  },
  {
   "cell_type": "code",
   "execution_count": 46,
   "metadata": {},
   "outputs": [],
   "source": [
    "def get_ship_capacity(cont_weights:List[int], days:int) -> Optional[List]:\n",
    "    least_cont_weight = max(cont_weights)\n",
    "    max_cont_weight = sum(cont_weights)\n",
    "\n",
    "    cur_best_feasible_solution = None\n",
    "    while least_cont_weight <= max_cont_weight:\n",
    "        mid_weight = (least_cont_weight + max_cont_weight)//2\n",
    "        mid_weight_req_days = required_num_days(cont_weights, mid_weight)\n",
    "        if mid_weight_req_days == days:\n",
    "            return(mid_weight)\n",
    "        elif (mid_weight_req_days is None) or (mid_weight_req_days > days):\n",
    "            print(f\"Currently completing in {mid_weight_req_days} days. But I have only {days} days.I will need to carry more weight to complete earlier\")\n",
    "            least_cont_weight = mid_weight + 1\n",
    "            ## this is an infeasible solution\n",
    "        else:\n",
    "            print(f\"Currently completing in {mid_weight_req_days} days. But I have {days} days. I can reduce the weight capacity\")\n",
    "            cur_best_feasible_solution = mid_weight\n",
    "            max_cont_weight = mid_weight - 1\n",
    "    return cur_best_feasible_solution\n"
   ]
  },
  {
   "cell_type": "code",
   "execution_count": 47,
   "metadata": {},
   "outputs": [
    {
     "name": "stdout",
     "output_type": "stream",
     "text": [
      "Currently completing in 2 days. But I have 5 days. I can reduce the weight capacity\n",
      "Currently completing in 4 days. But I have 5 days. I can reduce the weight capacity\n",
      "Currently completing in 6 days. But I have only 5 days.I will need to carry more weight to complete earlier\n",
      "Currently completing in 4 days. But I have 5 days. I can reduce the weight capacity\n"
     ]
    },
    {
     "data": {
      "text/plain": [
       "15"
      ]
     },
     "execution_count": 47,
     "metadata": {},
     "output_type": "execute_result"
    }
   ],
   "source": [
    "get_ship_capacity([1,2,3,4,5,6,7,8,9,10], days = 5)"
   ]
  },
  {
   "cell_type": "code",
   "execution_count": 48,
   "metadata": {},
   "outputs": [
    {
     "name": "stdout",
     "output_type": "stream",
     "text": [
      "Currently completing in 2 days. But I have 3 days. I can reduce the weight capacity\n"
     ]
    },
    {
     "data": {
      "text/plain": [
       "6"
      ]
     },
     "execution_count": 48,
     "metadata": {},
     "output_type": "execute_result"
    }
   ],
   "source": [
    "get_ship_capacity([3,2,2,4,1,4], days = 3)"
   ]
  },
  {
   "cell_type": "code",
   "execution_count": 49,
   "metadata": {},
   "outputs": [
    {
     "name": "stdout",
     "output_type": "stream",
     "text": [
      "Currently completing in 2 days. But I have 4 days. I can reduce the weight capacity\n",
      "Currently completing in 3 days. But I have 4 days. I can reduce the weight capacity\n"
     ]
    },
    {
     "data": {
      "text/plain": [
       "3"
      ]
     },
     "execution_count": 49,
     "metadata": {},
     "output_type": "execute_result"
    }
   ],
   "source": [
    "get_ship_capacity([1,2,3,1,1], days = 4)"
   ]
  },
  {
   "cell_type": "code",
   "execution_count": 43,
   "metadata": {},
   "outputs": [
    {
     "name": "stdout",
     "output_type": "stream",
     "text": [
      "Currently completing in 2 days. But I have only 1 days.I will need to carry more weight to complete earlier\n",
      "Currently completing in 2 days. But I have only 1 days.I will need to carry more weight to complete earlier\n"
     ]
    },
    {
     "data": {
      "text/plain": [
       "8"
      ]
     },
     "execution_count": 43,
     "metadata": {},
     "output_type": "execute_result"
    }
   ],
   "source": [
    "get_ship_capacity([1,2,3,1,1], days = 1)"
   ]
  },
  {
   "cell_type": "code",
   "execution_count": null,
   "metadata": {},
   "outputs": [],
   "source": []
  }
 ],
 "metadata": {
  "kernelspec": {
   "display_name": "Aurora",
   "language": "python",
   "name": "python3"
  },
  "language_info": {
   "codemirror_mode": {
    "name": "ipython",
    "version": 3
   },
   "file_extension": ".py",
   "mimetype": "text/x-python",
   "name": "python",
   "nbconvert_exporter": "python",
   "pygments_lexer": "ipython3",
   "version": "3.12.3"
  }
 },
 "nbformat": 4,
 "nbformat_minor": 2
}
