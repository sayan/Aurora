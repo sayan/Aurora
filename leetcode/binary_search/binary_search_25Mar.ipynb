{
 "cells": [
  {
   "cell_type": "code",
   "execution_count": 1,
   "metadata": {},
   "outputs": [],
   "source": [
    "# Search a 2D Matrix\n",
    "# You are given an m x n 2-D integer array matrix and an integer target.\n",
    "\n",
    "# Each row in matrix is sorted in non-decreasing order.\n",
    "# The first integer of every row is greater than the last integer of the previous row.\n",
    "# Return true if target exists within matrix or false otherwise.\n",
    "\n",
    "# Can you write a solution that runs in O(log(m * n)) time?\n",
    "\n",
    "# Example 1:\n",
    "\n",
    "\n",
    "\n",
    "# Input: matrix = [[1,2,4,8],[10,11,12,13],[14,20,30,40]], target = 10\n",
    "\n",
    "# Output: true\n",
    "# Example 2:\n",
    "\n",
    "\n",
    "\n",
    "# Input: matrix = [[1,2,4,8],[10,11,12,13],[14,20,30,40]], target = 15\n",
    "\n",
    "# Output: false"
   ]
  },
  {
   "cell_type": "code",
   "execution_count": 12,
   "metadata": {},
   "outputs": [
    {
     "data": {
      "text/plain": [
       "(2, 3)"
      ]
     },
     "execution_count": 12,
     "metadata": {},
     "output_type": "execute_result"
    }
   ],
   "source": [
    "divmod(11,4)"
   ]
  },
  {
   "cell_type": "code",
   "execution_count": 21,
   "metadata": {},
   "outputs": [],
   "source": [
    "from typing import List, Tuple, Optional\n",
    "\n",
    "def searchMatrix(matrix: List[List[int]], target: int) -> bool:\n",
    "    n_row, n_col = len(matrix), len(matrix[0])\n",
    "    n = n_row * n_col\n",
    "    low, high = 0, n-1\n",
    "    while low <= high:\n",
    "        print(f\"Low:{low}; high: {high}\")\n",
    "        midval_row, midval_col = divmod((low + high)//2, n_col)\n",
    "        mid_cell = matrix[midval_row][midval_col]\n",
    "        if mid_cell == target:\n",
    "            return matrix[midval_row][midval_col]\n",
    "        elif mid_cell > target:\n",
    "            high = (low + high)//2 -1\n",
    "        else:\n",
    "            low = (low + high)//2 + 1\n",
    "    return False"
   ]
  },
  {
   "cell_type": "code",
   "execution_count": 22,
   "metadata": {},
   "outputs": [
    {
     "name": "stdout",
     "output_type": "stream",
     "text": [
      "Low:0; high: 11\n",
      "Low:6; high: 11\n",
      "Low:9; high: 11\n",
      "Low:9; high: 9\n"
     ]
    },
    {
     "data": {
      "text/plain": [
       "False"
      ]
     },
     "execution_count": 22,
     "metadata": {},
     "output_type": "execute_result"
    }
   ],
   "source": [
    "searchMatrix(matrix = [[1,2,4,8],[10,11,12,13],[14,20,30,40]], target = 15)"
   ]
  },
  {
   "cell_type": "code",
   "execution_count": 23,
   "metadata": {},
   "outputs": [
    {
     "name": "stdout",
     "output_type": "stream",
     "text": [
      "Low:0; high: 11\n",
      "Low:0; high: 4\n",
      "Low:3; high: 4\n",
      "Low:4; high: 4\n"
     ]
    },
    {
     "data": {
      "text/plain": [
       "10"
      ]
     },
     "execution_count": 23,
     "metadata": {},
     "output_type": "execute_result"
    }
   ],
   "source": [
    "searchMatrix( matrix = [[1,2,4,8],[10,11,12,13],[14,20,30,40]], target = 10)"
   ]
  },
  {
   "cell_type": "markdown",
   "metadata": {},
   "source": []
  },
  {
   "cell_type": "code",
   "execution_count": null,
   "metadata": {},
   "outputs": [],
   "source": []
  }
 ],
 "metadata": {
  "kernelspec": {
   "display_name": "Aurora",
   "language": "python",
   "name": "python3"
  },
  "language_info": {
   "codemirror_mode": {
    "name": "ipython",
    "version": 3
   },
   "file_extension": ".py",
   "mimetype": "text/x-python",
   "name": "python",
   "nbconvert_exporter": "python",
   "pygments_lexer": "ipython3",
   "version": "3.12.3"
  }
 },
 "nbformat": 4,
 "nbformat_minor": 2
}
