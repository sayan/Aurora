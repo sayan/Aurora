{
 "cells": [
  {
   "cell_type": "code",
   "execution_count": 1,
   "metadata": {},
   "outputs": [],
   "source": [
    "from typing import List, Optional"
   ]
  },
  {
   "cell_type": "code",
   "execution_count": 9,
   "metadata": {},
   "outputs": [],
   "source": [
    "def find_target_rotated_sorted(nums:List[int], target:int) -> int:\n",
    "    if len(nums) == 1:\n",
    "        return 0 if target == nums[0] else -1\n",
    "    low_idx = 0\n",
    "    high_idx = len(nums) - 1\n",
    "    \n",
    "    while low_idx <= high_idx:\n",
    "        mid_idx = (high_idx + low_idx) // 2\n",
    "        print(f\"Low: ({low_idx},{nums[low_idx]}), Mid: ({mid_idx},{nums[mid_idx]}), high: ({high_idx},{nums[high_idx]})\")\n",
    "        if target == nums[mid_idx]:\n",
    "            print(f\"Found target {target} at index {mid_idx}\")\n",
    "            return mid_idx\n",
    "        ## Check which is the sorted half\n",
    "        if nums[mid_idx] < nums[high_idx]:\n",
    "            print(f\"Right half is sorted. Left half is probably rotated\")\n",
    "            if target > nums[mid_idx] and target <= nums[high_idx]:\n",
    "                low_idx = mid_idx + 1\n",
    "            else:\n",
    "                print(\"If its there it must be in the first half\")\n",
    "                high_idx = mid_idx -1 \n",
    "        else:\n",
    "            print(\"Right half is not sorted. Left half should be sorted\")\n",
    "            if target >= nums[low_idx] and target < nums[mid_idx]:\n",
    "                high_idx = mid_idx - 1\n",
    "            else:\n",
    "                print(\"If its there it must be in right half\")\n",
    "                low_idx = mid_idx +1\n",
    "    return(-1)"
   ]
  },
  {
   "cell_type": "code",
   "execution_count": 13,
   "metadata": {},
   "outputs": [
    {
     "name": "stdout",
     "output_type": "stream",
     "text": [
      "Low: (0,4), Mid: (3,7), high: (6,2)\n",
      "Right half is not sorted. Left half should be sorted\n",
      "If its there it must be in right half\n",
      "Low: (4,0), Mid: (5,1), high: (6,2)\n",
      "Right half is sorted. Left half is probably rotated\n",
      "If its there it must be in the first half\n",
      "Low: (4,0), Mid: (4,0), high: (4,0)\n",
      "Found target 0 at index 4\n"
     ]
    },
    {
     "data": {
      "text/plain": [
       "4"
      ]
     },
     "execution_count": 13,
     "metadata": {},
     "output_type": "execute_result"
    }
   ],
   "source": [
    "find_target_rotated_sorted(nums = [4,5,6,7,0,1,2], target = 0)"
   ]
  },
  {
   "cell_type": "code",
   "execution_count": 14,
   "metadata": {},
   "outputs": [
    {
     "name": "stdout",
     "output_type": "stream",
     "text": [
      "Low: (0,4), Mid: (3,7), high: (6,2)\n",
      "Right half is not sorted. Left half should be sorted\n",
      "If its there it must be in right half\n",
      "Low: (4,0), Mid: (5,1), high: (6,2)\n",
      "Right half is sorted. Left half is probably rotated\n",
      "If its there it must be in the first half\n",
      "Low: (4,0), Mid: (4,0), high: (4,0)\n",
      "Right half is not sorted. Left half should be sorted\n",
      "If its there it must be in right half\n"
     ]
    },
    {
     "data": {
      "text/plain": [
       "-1"
      ]
     },
     "execution_count": 14,
     "metadata": {},
     "output_type": "execute_result"
    }
   ],
   "source": [
    "find_target_rotated_sorted( nums = [4,5,6,7,0,1,2], target = 3)"
   ]
  },
  {
   "cell_type": "code",
   "execution_count": 15,
   "metadata": {},
   "outputs": [
    {
     "name": "stdout",
     "output_type": "stream",
     "text": [
      "Low: (0,1), Mid: (3,4), high: (6,7)\n",
      "Right half is sorted. Left half is probably rotated\n",
      "If its there it must be in the first half\n",
      "Low: (0,1), Mid: (1,2), high: (2,3)\n",
      "Right half is sorted. Left half is probably rotated\n",
      "If its there it must be in the first half\n",
      "Low: (0,1), Mid: (0,1), high: (0,1)\n",
      "Right half is not sorted. Left half should be sorted\n",
      "If its there it must be in right half\n"
     ]
    },
    {
     "data": {
      "text/plain": [
       "-1"
      ]
     },
     "execution_count": 15,
     "metadata": {},
     "output_type": "execute_result"
    }
   ],
   "source": [
    "find_target_rotated_sorted( nums = [1,2,3,4,5,6,7], target = 90)"
   ]
  },
  {
   "cell_type": "code",
   "execution_count": null,
   "metadata": {},
   "outputs": [],
   "source": []
  }
 ],
 "metadata": {
  "kernelspec": {
   "display_name": "Aurora",
   "language": "python",
   "name": "python3"
  },
  "language_info": {
   "codemirror_mode": {
    "name": "ipython",
    "version": 3
   },
   "file_extension": ".py",
   "mimetype": "text/x-python",
   "name": "python",
   "nbconvert_exporter": "python",
   "pygments_lexer": "ipython3",
   "version": "3.12.3"
  }
 },
 "nbformat": 4,
 "nbformat_minor": 2
}
