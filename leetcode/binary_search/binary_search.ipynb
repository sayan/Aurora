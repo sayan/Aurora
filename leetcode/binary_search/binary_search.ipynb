{
 "cells": [
  {
   "cell_type": "code",
   "execution_count": 1,
   "metadata": {},
   "outputs": [],
   "source": [
    "# You are given an array of distinct integers nums, sorted in ascending order, and an integer target.\n",
    "\n",
    "# Implement a function to search for target within nums. If it exists, then return its index, otherwise, return -1.\n",
    "\n",
    "# Your solution must run in \n",
    "# O\n",
    "# (\n",
    "# l\n",
    "# o\n",
    "# g\n",
    "# n\n",
    "# )\n",
    "# O(logn) time.\n",
    "\n",
    "# Example 1:\n",
    "\n",
    "# Input: nums = [-1,0,2,4,6,8], target = 4\n",
    "\n",
    "# Output: 3\n",
    "# Example 2:\n",
    "\n",
    "# Input: nums = [-1,0,2,4,6,8], target = 3\n",
    "\n",
    "# Output: -1\n",
    "# Constraints:\n",
    "\n",
    "# 1 <= nums.length <= 10000.\n",
    "# -10000 < nums[i], target < 10000\n"
   ]
  },
  {
   "cell_type": "code",
   "execution_count": 2,
   "metadata": {},
   "outputs": [],
   "source": [
    "from typing import List, Optional"
   ]
  },
  {
   "cell_type": "code",
   "execution_count": 18,
   "metadata": {},
   "outputs": [],
   "source": [
    "def bsearch(nums:List, target:int) -> int:\n",
    "    start = 0\n",
    "    end = len(nums) -1 \n",
    "    while start <= end:\n",
    "\n",
    "        mid = (start + end)//2\n",
    "        if nums[mid] == target:\n",
    "            return mid\n",
    "        elif target > nums[mid]:\n",
    "            start = mid + 1\n",
    "        else:\n",
    "            end = mid -1\n",
    "    return -1"
   ]
  },
  {
   "cell_type": "code",
   "execution_count": 19,
   "metadata": {},
   "outputs": [
    {
     "data": {
      "text/plain": [
       "3"
      ]
     },
     "execution_count": 19,
     "metadata": {},
     "output_type": "execute_result"
    }
   ],
   "source": [
    "bsearch(nums = [-1,0,2,4,6,8], target = 4)"
   ]
  },
  {
   "cell_type": "code",
   "execution_count": 20,
   "metadata": {},
   "outputs": [
    {
     "data": {
      "text/plain": [
       "-1"
      ]
     },
     "execution_count": 20,
     "metadata": {},
     "output_type": "execute_result"
    }
   ],
   "source": [
    "bsearch(nums = [-1,0,2,4,6,8], target = 3)"
   ]
  },
  {
   "cell_type": "markdown",
   "metadata": {
    "vscode": {
     "languageId": "bat"
    }
   },
   "source": [
    "# Search a 2D Matrix\n",
    "You are given an m x n 2-D integer array matrix and an integer target.\n",
    "\n",
    " Each row in matrix is sorted in non-decreasing order.\n",
    " The first integer of every row is greater than the last integer of the previous row.\n",
    " Return true if target exists within matrix or false otherwise.\n",
    "\n",
    " Can you write a solution that runs in O(log(m * n)) time? -->"
   ]
  },
  {
   "cell_type": "code",
   "execution_count": 22,
   "metadata": {},
   "outputs": [],
   "source": [
    "matrix = [[1,2,4,8],[10,11,12,13],[14,20,30,40]]; target = 10"
   ]
  },
  {
   "cell_type": "code",
   "execution_count": 48,
   "metadata": {},
   "outputs": [],
   "source": [
    "def search_2d_matrix(m:List[List[int]], target:int) -> bool:\n",
    "    n_row, n_col = len(m), len(m[0])\n",
    "    total_elements = n_row  *  n_col\n",
    "    start_idx = 0; end_idx = total_elements -1\n",
    "    while start_idx <= end_idx:\n",
    "        mid_idx = (start_idx + end_idx)//2\n",
    "        mid_row, mid_col = divmod(mid_idx,n_col)\n",
    "        #print(f\"Star_idx: {start_idx}; mid_idx: {mid_idx}; end_indx: {end_idx}\")\n",
    "        #print(mid_row, mid_col)\n",
    "        if m[mid_row][mid_col] == target:\n",
    "            return True\n",
    "        elif target > m[mid_row][mid_col]:\n",
    "            start_idx = mid_idx + 1\n",
    "        else:\n",
    "            end_idx = mid_idx -1\n",
    "    return False"
   ]
  },
  {
   "cell_type": "code",
   "execution_count": 49,
   "metadata": {},
   "outputs": [
    {
     "data": {
      "text/plain": [
       "True"
      ]
     },
     "execution_count": 49,
     "metadata": {},
     "output_type": "execute_result"
    }
   ],
   "source": [
    "search_2d_matrix([[1,2,4,8],[10,11,12,13],[14,20,30,40]],target = 10)"
   ]
  },
  {
   "cell_type": "code",
   "execution_count": 50,
   "metadata": {},
   "outputs": [
    {
     "data": {
      "text/plain": [
       "False"
      ]
     },
     "execution_count": 50,
     "metadata": {},
     "output_type": "execute_result"
    }
   ],
   "source": [
    "search_2d_matrix([[1,2,4,8],[10,11,12,13],[14,20,30,40]], target = 15)"
   ]
  },
  {
   "cell_type": "markdown",
   "metadata": {},
   "source": [
    "##  Median of 2 sorted list\n",
    "Given two sorted arrays nums1 and nums2 of size m and n respectively, return the median of the two sorted arrays.\n",
    "\n",
    "The overall run time complexity should be O(log (m+n))."
   ]
  },
  {
   "cell_type": "code",
   "execution_count": 69,
   "metadata": {},
   "outputs": [],
   "source": [
    "def median_2_sorted_list(l1: List[int], l2: List[int]) -> int:\n",
    "    num_elems = len(l1) + len(l2)\n",
    "    elems_req = num_elems//2 + 1\n",
    "    print(elems_req)\n",
    "    comb_sort_list = []\n",
    "    for i in range(elems_req):\n",
    "        if l1[0] <= l2[0]:\n",
    "            comb_sort_list.append(l1[0])\n",
    "            l1.pop(0)\n",
    "        else:\n",
    "            comb_sort_list.append(l2[0])\n",
    "            l2.pop(0)\n",
    "\n",
    "    print(comb_sort_list)            \n",
    "    if num_elems %2 == 0:\n",
    "\n",
    "        return((comb_sort_list[-1] + comb_sort_list[-2])/2)\n",
    "    else:\n",
    "        return(comb_sort_list[-1])\n",
    "\n"
   ]
  },
  {
   "cell_type": "code",
   "execution_count": 74,
   "metadata": {},
   "outputs": [
    {
     "name": "stdout",
     "output_type": "stream",
     "text": [
      "0 0 0\n"
     ]
    }
   ],
   "source": [
    "a = [1,2,3,4,5,6,7,8,8]\n",
    "\n",
    "target = 1\n",
    "low = 0\n",
    "high = 0#4#len(a) -1\n",
    "mid = (low + high)//2\n",
    "print(low,mid,high)\n"
   ]
  },
  {
   "cell_type": "code",
   "execution_count": 89,
   "metadata": {},
   "outputs": [
    {
     "name": "stdout",
     "output_type": "stream",
     "text": [
      "0 31\n",
      "[Start]: 0; [Mid]: 15; [End]: 31;\n",
      "16 31\n",
      "[Start]: 16; [Mid]: 23; [End]: 31;\n",
      "24 31\n",
      "[Start]: 24; [Mid]: 27; [End]: 31;\n",
      "28 31\n",
      "[Start]: 28; [Mid]: 29; [End]: 31;\n",
      "30 31\n",
      "[Start]: 30; [Mid]: 30; [End]: 31;\n",
      "31 31\n",
      "[Start]: 31; [Mid]: 31; [End]: 31;\n"
     ]
    }
   ],
   "source": [
    "## Understanding Binary Search\n",
    "\n",
    "n = 32\n",
    "\n",
    "a = list(range(n))\n",
    "\n",
    "start_index = 0\n",
    "end_index = len(a) -1 \n",
    "\n",
    "\n",
    "while start_index <= end_index:\n",
    "    print(start_index,end_index)\n",
    "    mid = (start_index + end_index) // 2\n",
    "    print(f\"[Start]: {start_index}; [Mid]: {mid}; [End]: {end_index};\")\n",
    "    start_index = mid + 1\n",
    "    #end_index = mid -1\n"
   ]
  },
  {
   "cell_type": "code",
   "execution_count": 90,
   "metadata": {},
   "outputs": [],
   "source": [
    "# Find Minimum in Rotated Sorted Array\n",
    "# You are given an array of length n which was originally sorted in ascending order. It has now been rotated between 1 and n times. For example, the array nums = [1,2,3,4,5,6] might become:\n",
    "\n",
    "# [3,4,5,6,1,2] if it was rotated 4 times.\n",
    "# [1,2,3,4,5,6] if it was rotated 6 times.\n",
    "# Notice that rotating the array 4 times moves the last four elements of the array to the beginning. Rotating the array 6 times produces the original array.\n",
    "\n",
    "# Assuming all elements in the rotated sorted array nums are unique, return the minimum element of this array.\n",
    "\n",
    "# A solution that runs in O(n) time is trivial, can you write an algorithm that runs in O(log n) time?\n",
    "\n"
   ]
  },
  {
   "cell_type": "code",
   "execution_count": 133,
   "metadata": {},
   "outputs": [],
   "source": [
    "def minimum_in_rotated_sorted_array(nums: List[int]) -> int:\n",
    "    left, right = 0, len(nums) - 1\n",
    "\n",
    "    # If the array is already sorted (not rotated), return the first element.\n",
    "    if nums[left] < nums[right]:\n",
    "        return nums[left]\n",
    "\n",
    "    while left < right:\n",
    "        mid = (left + right) // 2\n",
    "        \n",
    "        # If the mid element is greater than the right element,\n",
    "        # the minimum must be to the right of mid.\n",
    "        if nums[mid] > nums[right]:\n",
    "            left = mid + 1\n",
    "        else:\n",
    "            # Otherwise, the minimum is at mid or to the left of mid.\n",
    "            right = mid\n",
    "\n",
    "    # When the loop exits, left == right and points to the minimum.\n",
    "    return nums[left]\n"
   ]
  },
  {
   "cell_type": "code",
   "execution_count": 134,
   "metadata": {},
   "outputs": [
    {
     "data": {
      "text/plain": [
       "1"
      ]
     },
     "execution_count": 134,
     "metadata": {},
     "output_type": "execute_result"
    }
   ],
   "source": [
    "minimum_in_rotated_sorted_array([3,4,5,1,2])"
   ]
  },
  {
   "cell_type": "code",
   "execution_count": 135,
   "metadata": {},
   "outputs": [
    {
     "data": {
      "text/plain": [
       "0"
      ]
     },
     "execution_count": 135,
     "metadata": {},
     "output_type": "execute_result"
    }
   ],
   "source": [
    "minimum_in_rotated_sorted_array([4, 5, 6, 7, 0, 1, 2])"
   ]
  },
  {
   "cell_type": "code",
   "execution_count": 136,
   "metadata": {},
   "outputs": [],
   "source": [
    "# Search in Rotated Sorted Array\n",
    "# You are given an array of length n which was originally sorted in ascending order. It has now been rotated between 1 and n times. For example, the array nums = [1,2,3,4,5,6] might become:\n",
    "\n",
    "# [3,4,5,6,1,2] if it was rotated 4 times.\n",
    "# [1,2,3,4,5,6] if it was rotated 6 times.\n",
    "# Given the rotated sorted array nums and an integer target, return the index of target within nums, or -1 if it is not present.\n",
    "\n",
    "# You may assume all elements in the sorted rotated array nums are unique,\n",
    "\n",
    "# A solution that runs in O(n) time is trivial, can you write an algorithm that runs in O(log n) time?\n",
    "\n",
    "# Example 1:"
   ]
  },
  {
   "cell_type": "code",
   "execution_count": 141,
   "metadata": {},
   "outputs": [
    {
     "data": {
      "text/plain": [
       "-1"
      ]
     },
     "execution_count": 141,
     "metadata": {},
     "output_type": "execute_result"
    }
   ],
   "source": [
    "def bsort_in_sorted_array(nums:List[int], target:int) -> int:\n",
    "    st_idx, ed_idx =  0, len(nums) -1 \n",
    "    while st_idx <= ed_idx:\n",
    "        mi_idx = (st_idx + ed_idx) //2\n",
    "        if target == nums[mi_idx]:\n",
    "            return mi_idx\n",
    "        elif nums[mi_idx] > target:\n",
    "            ed_idx = mi_idx -1\n",
    "        else:\n",
    "            st_idx = mi_idx + 1\n",
    "    return -1\n",
    "\n",
    "bsort_in_sorted_array(nums = [-1,0,2,4,6,8], target = 4)\n",
    "bsort_in_sorted_array(nums = [-1,0,2,4,6,8], target = 3)\n"
   ]
  },
  {
   "cell_type": "code",
   "execution_count": null,
   "metadata": {},
   "outputs": [],
   "source": [
    "def search_in_rotated_sorted_array(nums:List[int], target:int) -> int:\n",
    "    if len(nums) == 0: \n",
    "        return -1\n",
    "    if len(nums) == 1:\n",
    "        return 0 if nums[0] == target else -1\n",
    "    start_idx = 0\n",
    "    end_index = len(nums) - 1\n",
    "\n",
    "    while start_idx < end_index:\n",
    "        mid_idx = (start_idx + end_index)//2\n",
    "        if nums[end_index] > nums[mid_idx]:\n",
    "            print(f\"f{nums[mid_idx:(end_index+1)]} is sorted\")\n",
    "            if target > nums[end_index]:\n",
    "                print(f\"Target: {target} lies in the first half: {nums[start_idx:mid_idx]}\")\n",
    "                end_index = end_index -1\n",
    "            elif target < nums[mid_idx]:\n",
    "                print(f\"Target: {target} lies in the first half: {nums[start_idx:mid_idx]}\")\n",
    "                end_index = end_index -1\n",
    "            elif target == nums[mid_idx]:\n",
    "                return(mid_idx)\n",
    "            else:\n",
    "                print(f\"Target: {target} lies in the second half: {nums[mid_idx:end_index+1]}\")\n",
    "                start_idx = mid_idx + 1\n",
    "        \n",
    "\n",
    "\n",
    "\n",
    "\n"
   ]
  },
  {
   "cell_type": "code",
   "execution_count": 143,
   "metadata": {},
   "outputs": [
    {
     "data": {
      "text/plain": [
       "2"
      ]
     },
     "execution_count": 143,
     "metadata": {},
     "output_type": "execute_result"
    }
   ],
   "source": [
    "10%4"
   ]
  },
  {
   "cell_type": "code",
   "execution_count": null,
   "metadata": {},
   "outputs": [],
   "source": []
  }
 ],
 "metadata": {
  "kernelspec": {
   "display_name": "Aurora",
   "language": "python",
   "name": "python3"
  },
  "language_info": {
   "codemirror_mode": {
    "name": "ipython",
    "version": 3
   },
   "file_extension": ".py",
   "mimetype": "text/x-python",
   "name": "python",
   "nbconvert_exporter": "python",
   "pygments_lexer": "ipython3",
   "version": "3.12.3"
  }
 },
 "nbformat": 4,
 "nbformat_minor": 2
}
