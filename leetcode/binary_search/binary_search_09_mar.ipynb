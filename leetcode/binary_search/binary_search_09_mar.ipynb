{
 "cells": [
  {
   "cell_type": "code",
   "execution_count": 1,
   "metadata": {},
   "outputs": [],
   "source": [
    "from typing import List, Tuple, Optional"
   ]
  },
  {
   "cell_type": "code",
   "execution_count": 2,
   "metadata": {},
   "outputs": [],
   "source": [
    "# Problem: Find the First and Last Position of a Target in a Sorted Array\n",
    "\n",
    "# Description:\n",
    "# Given a sorted array of integers (which may contain duplicates) and a target value, write a Python function that returns the starting and ending positions of the target value using binary search. If the target is not found in the array, return [-1, -1].\n",
    "\n",
    "# Requirements:\n",
    "\n",
    "# Your solution should have a time complexity of O(log n).\n",
    "# You can use binary search (or modified binary search) to efficiently locate the first and last occurrences of the target."
   ]
  },
  {
   "cell_type": "code",
   "execution_count": 4,
   "metadata": {},
   "outputs": [],
   "source": [
    "def first_last_position(nums:List[int], target:int) -> List[int]:\n",
    "    l_id = 0\n",
    "    r_id = len(nums) -1 \n",
    "    while l_id <= r_id:\n",
    "        m_id = (l_id + r_id)//2\n",
    "        print(f\"L ID:: {l_id}- {nums[l_id]}; MID ID:: {m_id}- {nums[m_id]}; R ID:: {r_id}- {nums[r_id]}\")\n",
    "        if target > nums[m_id]:\n",
    "            print(f\"Target : {target} > Mid Value {nums[m_id]}; Target belongs to right of {m_id}\")\n",
    "            l_id = m_id + 1\n",
    "        elif target < nums[m_id]:\n",
    "            print(f\"Target : {target} < Mid Value {nums[m_id]}; Target belongs to left half of {m_id}\")\n",
    "            r_id = m_id - 1\n",
    "        else:\n",
    "            print(f\"Looks like we have a match with target at index {m_id}\")\n",
    "            ## lets see if we have any other target match to the left of current index\n",
    "            f_l_id = m_id\n",
    "            while nums[f_l_id] == target:\n",
    "                f_l_id += -1\n",
    "            f_r_id = m_id\n",
    "            while nums[f_r_id] == target:\n",
    "                f_r_id += 1\n",
    "            \n",
    "            return([f_l_id+1, f_r_id-1])\n",
    "    return([-1,1])\n"
   ]
  },
  {
   "cell_type": "code",
   "execution_count": 5,
   "metadata": {},
   "outputs": [
    {
     "name": "stdout",
     "output_type": "stream",
     "text": [
      "L ID:: 0- 5; MID ID:: 2- 7; R ID:: 5- 10\n",
      "Target : 8 > Mid Value 7; Target belongs to right of 2\n",
      "L ID:: 3- 8; MID ID:: 4- 8; R ID:: 5- 10\n",
      "Looks like we have a match with target at index 4\n"
     ]
    },
    {
     "data": {
      "text/plain": [
       "[3, 4]"
      ]
     },
     "execution_count": 5,
     "metadata": {},
     "output_type": "execute_result"
    }
   ],
   "source": [
    "first_last_position(nums = [5, 7, 7, 8, 8, 10], target = 8)"
   ]
  },
  {
   "cell_type": "code",
   "execution_count": 6,
   "metadata": {},
   "outputs": [
    {
     "name": "stdout",
     "output_type": "stream",
     "text": [
      "L ID:: 0- 5; MID ID:: 2- 7; R ID:: 5- 10\n",
      "Target : 6 < Mid Value 7; Target belongs to left half of 2\n",
      "L ID:: 0- 5; MID ID:: 0- 5; R ID:: 1- 7\n",
      "Target : 6 > Mid Value 5; Target belongs to right of 0\n",
      "L ID:: 1- 7; MID ID:: 1- 7; R ID:: 1- 7\n",
      "Target : 6 < Mid Value 7; Target belongs to left half of 1\n"
     ]
    },
    {
     "data": {
      "text/plain": [
       "[-1, 1]"
      ]
     },
     "execution_count": 6,
     "metadata": {},
     "output_type": "execute_result"
    }
   ],
   "source": [
    "first_last_position(nums = [5, 7, 7, 8, 8, 10], target = 6)"
   ]
  },
  {
   "cell_type": "code",
   "execution_count": null,
   "metadata": {},
   "outputs": [],
   "source": []
  }
 ],
 "metadata": {
  "kernelspec": {
   "display_name": "Aurora",
   "language": "python",
   "name": "python3"
  },
  "language_info": {
   "codemirror_mode": {
    "name": "ipython",
    "version": 3
   },
   "file_extension": ".py",
   "mimetype": "text/x-python",
   "name": "python",
   "nbconvert_exporter": "python",
   "pygments_lexer": "ipython3",
   "version": "3.12.3"
  }
 },
 "nbformat": 4,
 "nbformat_minor": 2
}
