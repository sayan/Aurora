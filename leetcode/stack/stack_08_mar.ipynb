{
 "cells": [
  {
   "cell_type": "code",
   "execution_count": 14,
   "metadata": {},
   "outputs": [],
   "source": [
    "from typing import List, Optional, Tuple"
   ]
  },
  {
   "cell_type": "code",
   "execution_count": 2,
   "metadata": {},
   "outputs": [],
   "source": [
    "# Daily Temperatures\n",
    "# You are given an array of integers temperatures where temperatures[i] represents the daily temperatures on the ith day.\n",
    "\n",
    "# Return an array result where result[i] is the number of days after the ith day before a warmer temperature appears on a future day. If there is no day in the future where a warmer temperature will appear for the ith day, set result[i] to 0 instead.\n",
    "\n",
    "# Example 1:\n",
    "\n",
    "# Input: temperatures = [30,38,30,36,35,40,28]\n",
    "\n",
    "# Output: [1,4,1,2,1,0,0]\n",
    "# Example 2:\n",
    "\n",
    "# Input: temperatures = [22,21,20]\n",
    "\n",
    "# Output: [0,0,0]"
   ]
  },
  {
   "cell_type": "code",
   "execution_count": 3,
   "metadata": {},
   "outputs": [
    {
     "data": {
      "text/plain": [
       "[0, 0, 0, 0, 0]"
      ]
     },
     "execution_count": 3,
     "metadata": {},
     "output_type": "execute_result"
    }
   ],
   "source": [
    "[0] * 5"
   ]
  },
  {
   "cell_type": "code",
   "execution_count": 4,
   "metadata": {},
   "outputs": [],
   "source": [
    "from collections import deque\n",
    "def dailyTemperatures(temperatures: List[int]) -> List[int]:\n",
    "    sorted_temp_index = deque([])\n",
    "    result = [0] * len(temperatures)\n",
    "    for ind_x, temp in enumerate(temperatures):\n",
    "        print(f\"This day {ind_x} has temperature {temp}\")\n",
    "        while sorted_temp_index and temp > temperatures[sorted_temp_index[-1]]:\n",
    "            print(f\"Temperature {temp} on day {ind_x} is warmer than temperature on day {sorted_temp_index[-1]}: {temperatures[sorted_temp_index[-1]]}\")\n",
    "            result[sorted_temp_index[-1]] = ind_x - sorted_temp_index[-1]\n",
    "            sorted_temp_index.pop()\n",
    "        sorted_temp_index.append(ind_x)\n",
    "    return result\n"
   ]
  },
  {
   "cell_type": "code",
   "execution_count": 5,
   "metadata": {},
   "outputs": [
    {
     "name": "stdout",
     "output_type": "stream",
     "text": [
      "This day 0 has temperature 30\n",
      "This day 1 has temperature 38\n",
      "Temperature 38 on day 1 is warmer than temperature on day 0: 30\n",
      "This day 2 has temperature 30\n",
      "This day 3 has temperature 36\n",
      "Temperature 36 on day 3 is warmer than temperature on day 2: 30\n",
      "This day 4 has temperature 35\n",
      "This day 5 has temperature 40\n",
      "Temperature 40 on day 5 is warmer than temperature on day 4: 35\n",
      "Temperature 40 on day 5 is warmer than temperature on day 3: 36\n",
      "Temperature 40 on day 5 is warmer than temperature on day 1: 38\n",
      "This day 6 has temperature 28\n"
     ]
    },
    {
     "data": {
      "text/plain": [
       "[1, 4, 1, 2, 1, 0, 0]"
      ]
     },
     "execution_count": 5,
     "metadata": {},
     "output_type": "execute_result"
    }
   ],
   "source": [
    "dailyTemperatures([30,38,30,36,35,40,28])"
   ]
  },
  {
   "cell_type": "code",
   "execution_count": 10,
   "metadata": {},
   "outputs": [
    {
     "name": "stdout",
     "output_type": "stream",
     "text": [
      "This day 0 has temperature 30\n",
      "This day 1 has temperature 40\n",
      "Temperature 40 on day 1 is warmer than temperature on day 0: 30\n",
      "This day 2 has temperature 50\n",
      "Temperature 50 on day 2 is warmer than temperature on day 1: 40\n",
      "This day 3 has temperature 60\n",
      "Temperature 60 on day 3 is warmer than temperature on day 2: 50\n"
     ]
    },
    {
     "data": {
      "text/plain": [
       "[1, 1, 1, 0]"
      ]
     },
     "execution_count": 10,
     "metadata": {},
     "output_type": "execute_result"
    }
   ],
   "source": [
    "dailyTemperatures([30,40,50,60])"
   ]
  },
  {
   "cell_type": "code",
   "execution_count": 11,
   "metadata": {},
   "outputs": [],
   "source": [
    "# Car Fleet\n",
    "# There are n cars traveling to the same destination on a one-lane highway.\n",
    "\n",
    "# You are given two arrays of integers position and speed, both of length n.\n",
    "\n",
    "# position[i] is the position of the ith car (in miles)\n",
    "# speed[i] is the speed of the ith car (in miles per hour)\n",
    "# The destination is at position target miles.\n",
    "\n",
    "# A car can not pass another car ahead of it. It can only catch up to another car and then drive at the same speed as the car ahead of it.\n",
    "\n",
    "# A car fleet is a non-empty set of cars driving at the same position and same speed. A single car is also considered a car fleet.\n",
    "\n",
    "# If a car catches up to a car fleet the moment the fleet reaches the destination, then the car is considered to be part of the fleet.\n",
    "\n",
    "# Return the number of different car fleets that will arrive at the destination.\n",
    "\n"
   ]
  },
  {
   "cell_type": "code",
   "execution_count": 43,
   "metadata": {},
   "outputs": [],
   "source": [
    "def will_catch_up(car_1: Tuple[int,int],car_2: Tuple[int,int] ,target) -> bool:\n",
    "    ## assumption car_1 will be ahead in position\n",
    "    car_1_pos, car_1_speed = car_1\n",
    "    car_2_pos, car_2_speed = car_2\n",
    "    if car_2_speed < car_1_speed:\n",
    "        return False\n",
    "    else:\n",
    "        car_1_time_req = (target - car_1_pos)/car_1_speed\n",
    "        car_2_time_req = (target - car_2_pos)/car_2_speed\n",
    "        return(car_2_time_req <= car_1_time_req)\n",
    "    \n",
    "\n",
    "\n",
    "\n",
    "def carFleet(target: int, position: List[int], speed: List[int]) -> int:\n",
    "    car_leaders_q = deque([])\n",
    "    sorted_positions = sorted([(ind,position, speed[ind]) for ind, position in enumerate(position)], key=lambda x: x[1], reverse=True)\n",
    "    print(sorted_positions)\n",
    "    for pos in sorted_positions:\n",
    "        print(f\"Cur queue {car_leaders_q}\")\n",
    "        if car_leaders_q and will_catch_up(car_leaders_q[-1][1:], pos[1:],target=target):\n",
    "            print(f\"Car {pos} will catch up with car {car_leaders_q[-1]}\")\n",
    "            print(\"Hence no need to add to queue\")\n",
    "            pass\n",
    "        else:\n",
    "            print(f\"Car {pos} will not catch up with car\")\n",
    "            car_leaders_q.append(pos)\n",
    "\n",
    "        # while car_leaders_q and will_catch_up(pos[1:], car_leaders_q[-1][1:], target=target):\n",
    "        #     print(f\"Car {pos} will catch up with car {car_leaders_q[-1]}\")\n",
    "        #     car_leaders_q.pop()\n",
    "        # car_leaders_q.append(pos)\n",
    "    print(car_leaders_q)\n",
    "    return(len(car_leaders_q))\n"
   ]
  },
  {
   "cell_type": "code",
   "execution_count": 44,
   "metadata": {},
   "outputs": [
    {
     "data": {
      "text/plain": [
       "True"
      ]
     },
     "execution_count": 44,
     "metadata": {},
     "output_type": "execute_result"
    }
   ],
   "source": [
    "will_catch_up((7,1),(4,2), 10)"
   ]
  },
  {
   "cell_type": "code",
   "execution_count": 45,
   "metadata": {},
   "outputs": [
    {
     "name": "stdout",
     "output_type": "stream",
     "text": [
      "[(3, 7, 1), (0, 4, 2), (1, 1, 2), (2, 0, 1)]\n",
      "Cur queue deque([])\n",
      "Car (3, 7, 1) will not catch up with car\n",
      "Cur queue deque([(3, 7, 1)])\n",
      "Car (0, 4, 2) will catch up with car (3, 7, 1)\n",
      "Hence no need to add to queue\n",
      "Cur queue deque([(3, 7, 1)])\n",
      "Car (1, 1, 2) will not catch up with car\n",
      "Cur queue deque([(3, 7, 1), (1, 1, 2)])\n",
      "Car (2, 0, 1) will not catch up with car\n",
      "deque([(3, 7, 1), (1, 1, 2), (2, 0, 1)])\n"
     ]
    },
    {
     "data": {
      "text/plain": [
       "3"
      ]
     },
     "execution_count": 45,
     "metadata": {},
     "output_type": "execute_result"
    }
   ],
   "source": [
    "carFleet( target = 10, position = [4,1,0,7], speed = [2,2,1,1])"
   ]
  },
  {
   "cell_type": "code",
   "execution_count": 46,
   "metadata": {},
   "outputs": [
    {
     "name": "stdout",
     "output_type": "stream",
     "text": [
      "[(1, 4, 2), (0, 1, 3)]\n",
      "Cur queue deque([])\n",
      "Car (1, 4, 2) will not catch up with car\n",
      "Cur queue deque([(1, 4, 2)])\n",
      "Car (0, 1, 3) will catch up with car (1, 4, 2)\n",
      "Hence no need to add to queue\n",
      "deque([(1, 4, 2)])\n"
     ]
    },
    {
     "data": {
      "text/plain": [
       "1"
      ]
     },
     "execution_count": 46,
     "metadata": {},
     "output_type": "execute_result"
    }
   ],
   "source": [
    "carFleet(target = 10, position = [1,4], speed = [3,2])"
   ]
  },
  {
   "cell_type": "code",
   "execution_count": null,
   "metadata": {},
   "outputs": [],
   "source": []
  }
 ],
 "metadata": {
  "kernelspec": {
   "display_name": "Aurora",
   "language": "python",
   "name": "python3"
  },
  "language_info": {
   "codemirror_mode": {
    "name": "ipython",
    "version": 3
   },
   "file_extension": ".py",
   "mimetype": "text/x-python",
   "name": "python",
   "nbconvert_exporter": "python",
   "pygments_lexer": "ipython3",
   "version": "3.12.3"
  }
 },
 "nbformat": 4,
 "nbformat_minor": 2
}
