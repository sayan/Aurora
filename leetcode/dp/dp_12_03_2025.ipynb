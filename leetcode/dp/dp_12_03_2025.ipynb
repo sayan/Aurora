{
 "cells": [
  {
   "cell_type": "code",
   "execution_count": 2,
   "metadata": {},
   "outputs": [],
   "source": [
    "# House Robber\n",
    "# You are given an integer array nums where nums[i] represents the amount of money the ith house has. The houses are arranged in a straight line, i.e. the ith house is the neighbor of the (i-1)th and (i+1)th house.\n",
    "\n",
    "# You are planning to rob money from the houses, but you cannot rob two adjacent houses because the security system will automatically alert the police if two adjacent houses were both broken into.\n",
    "\n",
    "# Return the maximum amount of money you can rob without alerting the police.\n",
    "\n",
    "# Example 1:\n",
    "from typing import List, Tuple, Optional"
   ]
  },
  {
   "cell_type": "code",
   "execution_count": 9,
   "metadata": {},
   "outputs": [],
   "source": [
    "def rob(nums: List[int]) -> int:\n",
    "    print(f\"GOt nums: {nums}\")\n",
    "    l_nums = len(nums)\n",
    "    if l_nums == 1:\n",
    "        return(nums[0])\n",
    "    if l_nums == 2:\n",
    "        return(max(nums))\n",
    "    total_return = max(rob(nums[:-2]) + nums[-1], rob(nums[:-1]))\n",
    "    return total_return"
   ]
  },
  {
   "cell_type": "code",
   "execution_count": 10,
   "metadata": {},
   "outputs": [
    {
     "name": "stdout",
     "output_type": "stream",
     "text": [
      "GOt nums: [2, 7, 9, 3, 1]\n",
      "GOt nums: [2, 7, 9]\n",
      "GOt nums: [2]\n",
      "GOt nums: [2, 7]\n",
      "GOt nums: [2, 7, 9, 3]\n",
      "GOt nums: [2, 7]\n",
      "GOt nums: [2, 7, 9]\n",
      "GOt nums: [2]\n",
      "GOt nums: [2, 7]\n"
     ]
    },
    {
     "data": {
      "text/plain": [
       "12"
      ]
     },
     "execution_count": 10,
     "metadata": {},
     "output_type": "execute_result"
    }
   ],
   "source": [
    "rob([2,7,9,3,1])"
   ]
  },
  {
   "cell_type": "code",
   "execution_count": 12,
   "metadata": {},
   "outputs": [],
   "source": [
    "# Longest Palindromic Substring\n",
    "# Given a string s, return the longest substring of s that is a palindrome.\n",
    "\n",
    "# A palindrome is a string that reads the same forward and backward.\n",
    "\n",
    "# If there are multiple palindromic substrings that have the same length, return any one of them.\n",
    "\n",
    "# Example 1:\n",
    "\n",
    "# Input: s = \"ababd\"\n",
    "\n",
    "# Output: \"bab\"\n",
    "# Explanation: Both \"aba\" and \"bab\" are valid answers.\n",
    "\n",
    "# Example 2:\n",
    "\n",
    "# Input: s = \"abbc\"\n",
    "\n",
    "# Output: \"bb\"\n",
    "# Constraints:\n",
    "\n",
    "# 1 <= s.length <= 1000\n",
    "# s contains only digits and English letters.\n"
   ]
  },
  {
   "cell_type": "code",
   "execution_count": 16,
   "metadata": {},
   "outputs": [],
   "source": [
    "def check_palindrome(s:str) -> bool:\n",
    "    for i in range(len(s)//2):\n",
    "        l = i\n",
    "        r = (len(s) -1) -i \n",
    "        if not s[l]  == s[r]:\n",
    "            return False\n",
    "    return True"
   ]
  },
  {
   "cell_type": "code",
   "execution_count": 43,
   "metadata": {},
   "outputs": [],
   "source": [
    "def longest_palindrome(s:str,seen={}) -> int:\n",
    "    \n",
    "    len_s = len(s)\n",
    "    #seen = {}\n",
    "    print(f\"string {s}: memo:{seen};\")\n",
    "\n",
    "    if len(s) == 1:\n",
    "        return 1\n",
    "    if s in seen:\n",
    "        return seen[s]\n",
    "    \n",
    "\n",
    "    if check_palindrome(s):\n",
    "        print(f\" Got palindrome string {s}\")\n",
    "        return len_s\n",
    "    else:\n",
    "        seen[s] = max(longest_palindrome(s[1:]),longest_palindrome(s[:-1]))\n",
    "        return(seen[s])\n"
   ]
  },
  {
   "cell_type": "code",
   "execution_count": 48,
   "metadata": {},
   "outputs": [],
   "source": [
    "def longest_palindrome_2(s: str, seen=None, cur_best = 0) -> int:\n",
    "    print(f\"String : {s}; seen : {seen}\")\n",
    "    if seen is None:\n",
    "        seen = {}  # Fresh dictionary for every function call\n",
    "\n",
    "    len_s = len(s)\n",
    "    if len_s == 1:\n",
    "        return 1\n",
    "    if s in seen:\n",
    "        return seen[s]\n",
    "    if len(s) < cur_best:\n",
    "        print(f\"Current string {s} has length less than current best of {cur_best}; not evaluating\")\n",
    "        return cur_best\n",
    "\n",
    "    if check_palindrome(s):  # Assume this function is defined\n",
    "        seen[s] = len_s\n",
    "        return len_s\n",
    "\n",
    "    # Store the result in `seen`\n",
    "    seen[s] = max(longest_palindrome_2(s[1:], seen), longest_palindrome_2(s[:-1], seen))\n",
    "    return seen[s]"
   ]
  },
  {
   "cell_type": "code",
   "execution_count": 47,
   "metadata": {},
   "outputs": [
    {
     "name": "stdout",
     "output_type": "stream",
     "text": [
      "String : ababd; seen : None\n",
      "String : babd; seen : {}\n",
      "String : abd; seen : {}\n",
      "String : bd; seen : {}\n",
      "String : d; seen : {}\n",
      "String : b; seen : {}\n",
      "String : ab; seen : {'bd': 1}\n",
      "String : b; seen : {'bd': 1}\n",
      "String : a; seen : {'bd': 1}\n",
      "String : bab; seen : {'bd': 1, 'ab': 1, 'abd': 1}\n",
      "String : abab; seen : {'bd': 1, 'ab': 1, 'abd': 1, 'bab': 3, 'babd': 3}\n",
      "String : bab; seen : {'bd': 1, 'ab': 1, 'abd': 1, 'bab': 3, 'babd': 3}\n",
      "String : aba; seen : {'bd': 1, 'ab': 1, 'abd': 1, 'bab': 3, 'babd': 3}\n"
     ]
    },
    {
     "data": {
      "text/plain": [
       "3"
      ]
     },
     "execution_count": 47,
     "metadata": {},
     "output_type": "execute_result"
    }
   ],
   "source": [
    "longest_palindrome_2('ababd')"
   ]
  },
  {
   "cell_type": "code",
   "execution_count": 30,
   "metadata": {},
   "outputs": [],
   "source": [
    "from itertools import permutations, combinations\n",
    "\n",
    "# Define the set\n",
    "elements = ['a', 'b', 'c', 'd']\n",
    "\n",
    "# Generate all permutations\n",
    "all_permutations = list(permutations(elements))\n",
    "all_combinations = list(combinations(elements,3))\n",
    "\n",
    "# Convert to a readable format\n",
    "permutation_list = [\"\".join(p) for p in all_permutations]"
   ]
  },
  {
   "cell_type": "code",
   "execution_count": 34,
   "metadata": {},
   "outputs": [
    {
     "name": "stdout",
     "output_type": "stream",
     "text": [
      "3\n"
     ]
    }
   ],
   "source": [
    "for i in range(3,4):\n",
    "    print(i)"
   ]
  },
  {
   "cell_type": "code",
   "execution_count": null,
   "metadata": {},
   "outputs": [],
   "source": []
  }
 ],
 "metadata": {
  "kernelspec": {
   "display_name": "Aurora",
   "language": "python",
   "name": "python3"
  },
  "language_info": {
   "codemirror_mode": {
    "name": "ipython",
    "version": 3
   },
   "file_extension": ".py",
   "mimetype": "text/x-python",
   "name": "python",
   "nbconvert_exporter": "python",
   "pygments_lexer": "ipython3",
   "version": "3.12.3"
  }
 },
 "nbformat": 4,
 "nbformat_minor": 2
}
