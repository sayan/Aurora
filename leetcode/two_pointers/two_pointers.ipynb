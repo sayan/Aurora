{
 "cells": [
  {
   "cell_type": "markdown",
   "metadata": {},
   "source": [
    "## Best time to buy and sell stock"
   ]
  },
  {
   "cell_type": "markdown",
   "metadata": {},
   "source": [
    "## Valid Palindrome\n",
    "\n",
    "Given a string s, return true if it is a palindrome, otherwise return false.\n",
    "\n",
    "A palindrome is a string that reads the same forward and backward. It is also case-insensitive and ignores all non-alphanumeric characters.\n",
    "\n",
    "``` python\n",
    "#Example 1:\n",
    "#Input: \n",
    "s = \"Was it a car or a cat I saw?\"\n",
    "#Output: \n",
    "# true\n",
    "##Explanation: After considering only alphanumerical characters we have \"wasitacaroracatisaw\", which is a palindrome.\n",
    "\n",
    "##Example 2:\n",
    "#Input: \n",
    "s = \"tab a cat\"\n",
    "#Output: \n",
    "false\n",
    "#Explanation: \"tabacat\" is not a palindrome.\n",
    "```"
   ]
  },
  {
   "cell_type": "code",
   "execution_count": 7,
   "metadata": {},
   "outputs": [],
   "source": [
    "from typing import List, Optional\n",
    "def check_palindrome(input_str:str) -> bool:\n",
    "    if len(input_str) <= 1:\n",
    "        return(True)\n",
    "    \n",
    "    start_idx = 0\n",
    "    end_idx = len(input_str) - 1\n",
    "    while end_idx > start_idx:\n",
    "        if not input_str[start_idx].isalnum():\n",
    "            start_idx = start_idx + 1\n",
    "            break\n",
    "        if not input_str[end_idx].isalnum():\n",
    "            end_idx = end_idx - 1\n",
    "            break\n",
    "        if not input_str[start_idx] == input_str[end_idx]:\n",
    "            print(input_str[start_idx],input_str[end_idx])\n",
    "            return False ## not a palindrome\n",
    "        else:\n",
    "            start_idx += 1\n",
    "            end_idx -= 1\n",
    "    return True"
   ]
  },
  {
   "cell_type": "markdown",
   "metadata": {},
   "source": [
    "## Two Integer Sum II\n",
    "\n",
    "### Problem Statement\n",
    "Given an array of integers numbers that is sorted in non-decreasing order.\n",
    "\n",
    "Return the indices (1-indexed) of two numbers, [index1, index2], such that they add up to a given target number target and index1 < index2. Note that index1 and index2 cannot be equal, therefore you may not use the same element twice.\n",
    "\n",
    "There will always be exactly one valid solution.\n",
    "\n",
    "Your solution must use  `O(1)` additional space.\n",
    "\n",
    "\n",
    "``` python\n",
    "#Example 1:\n",
    "#Input: \n",
    "numbers = [1,2,3,4], target = 3\n",
    "\n",
    "Output: [1,2]\n",
    "# Explanation:\n",
    "# The sum of 1 and 2 is 3. Since we are assuming a 1-indexed array, index1 = 1, index2 = 2. We return [1, 2].\n",
    "\n",
    "##Constraints:\n",
    "\n",
    "2 <= numbers.length <= 1000\n",
    "-1000 <= numbers[i] <= 1000\n",
    "-1000 <= target <= 1000\n",
    "```"
   ]
  },
  {
   "cell_type": "code",
   "execution_count": 18,
   "metadata": {},
   "outputs": [],
   "source": [
    "def two_sum_2(sorted_input:List[int], target: int) -> Optional[List[int]]:\n",
    "    left_idx = 0 \n",
    "    right_idx = len(sorted_input) - 1\n",
    "\n",
    "    while right_idx > left_idx:\n",
    "        cur_sum  = sorted_input[left_idx] + sorted_input[right_idx]\n",
    "        if target == cur_sum:\n",
    "            return([left_idx +1, right_idx +1]) ## because answer is expected in 1- indexed array\n",
    "        elif target > cur_sum:\n",
    "            ## we have to increase \n",
    "            left_idx = left_idx + 1\n",
    "        else:\n",
    "            right_idx = right_idx -1\n",
    "    return None ## though problsm guarantees this will not happen\n"
   ]
  },
  {
   "cell_type": "code",
   "execution_count": 19,
   "metadata": {},
   "outputs": [
    {
     "data": {
      "text/plain": [
       "[1, 2]"
      ]
     },
     "execution_count": 19,
     "metadata": {},
     "output_type": "execute_result"
    }
   ],
   "source": [
    "two_sum_2([-1,0], target = -1)"
   ]
  },
  {
   "cell_type": "markdown",
   "metadata": {},
   "source": [
    "# **3Sum Problem**\n",
    "\n",
    "## **Problem Statement**\n",
    "Given an integer array `nums`, return **all unique triplets** `[nums[i], nums[j], nums[k]]` such that:\n",
    "\n",
    "- `nums[i] + nums[j] + nums[k] == 0`\n",
    "- The indices `i`, `j`, and `k` are **distinct** (`i ≠ j ≠ k`).\n",
    "- The **triplets must be unique** (no duplicate triplets in the output).\n",
    "\n",
    "You may return the output in **any order**.\n",
    "---\n",
    "\n",
    "## **Examples**\n",
    "\n",
    "### **Example 1**\n",
    "#### **Input:**\n",
    "```python\n",
    "nums = [-1, 0, 1, 2, -1, -4]\n",
    "```\n",
    "#### **Output:**\n",
    "```python\n",
    "[[-1, -1, 2], [-1, 0, 1]]\n",
    "```\n",
    "#### **Explanation:**\n",
    "The valid triplets that sum to `0` are:\n",
    "- `(-1) + 0 + 1 = 0`\n",
    "- `(-1) + (-1) + 2 = 0`\n",
    "  \n",
    "Only unique triplets are returned.\n",
    "\n",
    "---\n",
    "\n",
    "### **Example 2**\n",
    "#### **Input:**\n",
    "```python\n",
    "nums = [0, 1, 1]\n",
    "```\n",
    "#### **Output:**\n",
    "```python\n",
    "[]\n",
    "```\n",
    "#### **Explanation:**\n",
    "The only possible triplet does **not** sum to `0`, so the output is an empty list.\n",
    "\n",
    "---\n",
    "\n",
    "### **Example 3**\n",
    "#### **Input:**\n",
    "```python\n",
    "nums = [0, 0, 0]\n",
    "```\n",
    "#### **Output:**\n",
    "```python\n",
    "[[0, 0, 0]]\n",
    "```\n",
    "#### **Explanation:**\n",
    "The only valid triplet that sums to `0` is `[0, 0, 0]`.\n",
    "\n",
    "---\n",
    "\n",
    "## **Constraints**\n",
    "- `3 <= nums.length <= 3000`\n",
    "- `-10^5 <= nums[i] <= 10^5`\n",
    "\n",
    "---\n",
    "\n",
    "### **Notes**\n",
    "- The function should return **all unique triplets**.\n",
    "- The triplets should be returned in **any order**.\n",
    "- The solution must **avoid duplicate triplets** in the output.\n",
    "\n"
   ]
  },
  {
   "cell_type": "code",
   "execution_count": null,
   "metadata": {},
   "outputs": [],
   "source": []
  }
 ],
 "metadata": {
  "kernelspec": {
   "display_name": "Aurora",
   "language": "python",
   "name": "python3"
  },
  "language_info": {
   "codemirror_mode": {
    "name": "ipython",
    "version": 3
   },
   "file_extension": ".py",
   "mimetype": "text/x-python",
   "name": "python",
   "nbconvert_exporter": "python",
   "pygments_lexer": "ipython3",
   "version": "3.12.3"
  }
 },
 "nbformat": 4,
 "nbformat_minor": 2
}
